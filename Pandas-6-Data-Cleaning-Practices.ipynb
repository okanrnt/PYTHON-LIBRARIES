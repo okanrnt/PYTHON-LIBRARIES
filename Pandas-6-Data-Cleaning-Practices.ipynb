{
 "cells": [
  {
   "cell_type": "code",
   "execution_count": 1,
   "id": "35dd0bbb",
   "metadata": {},
   "outputs": [],
   "source": [
    "import pandas as pd"
   ]
  },
  {
   "cell_type": "code",
   "execution_count": null,
   "id": "017e6f11",
   "metadata": {},
   "outputs": [],
   "source": [
    "apps = pd.read_csv('apps.csv')"
   ]
  },
  {
   "cell_type": "markdown",
   "id": "30a79b34",
   "metadata": {},
   "source": [
    "### 1- Write a new column named currency whose values are the first character of the price column"
   ]
  },
  {
   "cell_type": "code",
   "execution_count": null,
   "id": "8f1afa2b",
   "metadata": {},
   "outputs": [],
   "source": [
    "apps['currency'] = apps['price'].str[0]"
   ]
  },
  {
   "cell_type": "markdown",
   "id": "1255d4d9",
   "metadata": {},
   "source": [
    "### 2- Replacing commas by dots"
   ]
  },
  {
   "cell_type": "code",
   "execution_count": null,
   "id": "83058719",
   "metadata": {},
   "outputs": [],
   "source": [
    "apps['price'] = apps['price'].str[1:].replace(',', '.', regex=True)"
   ]
  },
  {
   "cell_type": "markdown",
   "id": "e86e2694",
   "metadata": {},
   "source": [
    "### 3- Casting the column to float"
   ]
  },
  {
   "cell_type": "code",
   "execution_count": null,
   "id": "33267377",
   "metadata": {},
   "outputs": [],
   "source": [
    "apps['price'] = apps['price'].astype('float')"
   ]
  },
  {
   "cell_type": "markdown",
   "id": "762a51a0",
   "metadata": {},
   "source": [
    "### 4- Make the currency column a categorical"
   ]
  },
  {
   "cell_type": "code",
   "execution_count": null,
   "id": "736d3821",
   "metadata": {},
   "outputs": [],
   "source": [
    "apps['currency'] = apps['currency'].astype('category')"
   ]
  },
  {
   "cell_type": "markdown",
   "id": "e7cffc02",
   "metadata": {},
   "source": [
    "### 5- Format the phone number column(example: ddd-ddd-dddd)(d is a number)"
   ]
  },
  {
   "cell_type": "code",
   "execution_count": null,
   "id": "2d62ba4a",
   "metadata": {},
   "outputs": [],
   "source": [
    "people = pd.read_csv('people.csv')\n",
    "\n",
    "def f(phone):\n",
    "    import re\n",
    "    phone = re.sub('\\D', '', phone)\n",
    "    return '{}-{}-{}'.format(phone[:3], phone[3:6], phone[6:])\n",
    "\n",
    "people['phone number'] = people['phone number'].apply(f)"
   ]
  },
  {
   "cell_type": "markdown",
   "id": "55e2b8b1",
   "metadata": {},
   "source": [
    "### 6- Format the birthday column so that each row uses the format mm/dd/yyyy"
   ]
  },
  {
   "cell_type": "code",
   "execution_count": null,
   "id": "83162337",
   "metadata": {},
   "outputs": [],
   "source": [
    "birthdays = pd.read_csv('birthdays.csv')\n",
    "birthdays['birthday'] = pd.to_datetime(birthdays['birthday'])\n",
    "birthdays['birthday'] = birthdays['birthday'].dt.strftime('%m/%d/%Y')"
   ]
  },
  {
   "cell_type": "markdown",
   "id": "62b8ffef",
   "metadata": {},
   "source": [
    "### 7- Add a secure boolean column. It should have value True if the url starts with https and False otherwise. Add an extension column. It should have the URL extension"
   ]
  },
  {
   "cell_type": "code",
   "execution_count": null,
   "id": "2a892778",
   "metadata": {},
   "outputs": [],
   "source": [
    "urls = pd.read_csv('urls.csv')\n",
    "urls['secure'] = urls['url'].str.split(':').str[0] == 'https'\n",
    "urls['extension'] = urls['url'].str.split('.').str[-1]"
   ]
  },
  {
   "cell_type": "markdown",
   "id": "80ede4c8",
   "metadata": {},
   "source": [
    "### 8- Remove the \" characters from the screen size column and change its datatype to float"
   ]
  },
  {
   "cell_type": "code",
   "execution_count": null,
   "id": "45a2c478",
   "metadata": {},
   "outputs": [],
   "source": [
    "screens = pd.read_csv('screens.csv')\n",
    "screens.rename(columns={'screen size' : 'size (inches)'},inplace=True)\n",
    "screens['size (inches)'] = screens['size (inches)'].str.replace('\"','').astype(float)"
   ]
  },
  {
   "cell_type": "markdown",
   "id": "faa6db6e",
   "metadata": {},
   "source": [
    "### 9- the first letter of each name is uppercase while the other are lowercase"
   ]
  },
  {
   "cell_type": "code",
   "execution_count": null,
   "id": "8b41c15d",
   "metadata": {},
   "outputs": [],
   "source": [
    "participants = pd.read_csv('participants.csv')\n",
    "def clean_name(names):\n",
    "    return ' '.join([name.capitalize() for name in names.split()])\n",
    "\n",
    "participants['name'] = participants['name'].apply(clean_name)"
   ]
  },
  {
   "cell_type": "markdown",
   "id": "cf5fb7aa",
   "metadata": {},
   "source": [
    "### 10- Clean the t-shirt column by replacing each size according to the below table"
   ]
  },
  {
   "cell_type": "code",
   "execution_count": null,
   "id": "f160b855",
   "metadata": {},
   "outputs": [],
   "source": [
    "size_replacement_table = {\n",
    "    'S':   ['S', 'small', 's'],   \n",
    "    'XL':  ['XL', 'extra large', 'xl'],    \n",
    "    'M':   ['M', 'medium', 'm'],    \n",
    "    'L':   ['L', 'large', 'l'],\n",
    "    'XS':  ['XS', 'extra small', 'xs'],   \n",
    "    '3XL': ['3XL', 'XXXL'],\n",
    "    '2XL': ['2XL', 'XXL']\n",
    "}\n",
    "\n",
    "\n",
    "tshirt_map = {}\n",
    "for replacement in size_replacement_table:\n",
    "    for original in size_replacement_table[replacement]:\n",
    "        tshirt_map[original] = replacement\n",
    "        \n",
    "participants['t-shirt'] = participants['t-shirt'].map(tshirt_map)"
   ]
  },
  {
   "cell_type": "markdown",
   "id": "2b42065f",
   "metadata": {},
   "source": [
    "### 11- Changes the columns names to id, company, position and city, respectively"
   ]
  },
  {
   "cell_type": "code",
   "execution_count": null,
   "id": "8cda94bc",
   "metadata": {},
   "outputs": [],
   "source": [
    "jobs = pd.read_csv('jobs.csv')\n",
    "\n",
    "jobs.rename(columns={'col1':'id',\n",
    "                    'col2':'company',\n",
    "                    'col3':'position',\n",
    "                    'col4':'city'},inplace=True)\n",
    "\n",
    "#alternative\n",
    "jobs.columns = ['id', 'company', 'position', 'city']"
   ]
  },
  {
   "cell_type": "markdown",
   "id": "96655d7e",
   "metadata": {},
   "source": [
    "### 12- Read the employees.csv into a DataFrame named employees"
   ]
  },
  {
   "cell_type": "code",
   "execution_count": null,
   "id": "74845c20",
   "metadata": {},
   "outputs": [],
   "source": [
    "import chardet\n",
    "f = open('employees.csv', 'rb')\n",
    "data = f.read()\n",
    "f.close()\n",
    "\n",
    "encoding = chardet.detect(data)['encoding']\n",
    "employees = pd.read_csv('employees.csv', encoding=encoding)"
   ]
  }
 ],
 "metadata": {
  "kernelspec": {
   "display_name": "Python 3",
   "language": "python",
   "name": "python3"
  },
  "language_info": {
   "codemirror_mode": {
    "name": "ipython",
    "version": 3
   },
   "file_extension": ".py",
   "mimetype": "text/x-python",
   "name": "python",
   "nbconvert_exporter": "python",
   "pygments_lexer": "ipython3",
   "version": "3.8.8"
  }
 },
 "nbformat": 4,
 "nbformat_minor": 5
}
