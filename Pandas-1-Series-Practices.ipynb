{
 "cells": [
  {
   "cell_type": "code",
   "execution_count": 3,
   "id": "1021febf",
   "metadata": {},
   "outputs": [],
   "source": [
    "import pandas as pd"
   ]
  },
  {
   "cell_type": "markdown",
   "id": "3bf10fad",
   "metadata": {},
   "source": [
    "## 1- write a Series object with the same values as that list"
   ]
  },
  {
   "cell_type": "code",
   "execution_count": 4,
   "id": "f1ffd269",
   "metadata": {},
   "outputs": [
    {
     "data": {
      "text/plain": [
       "0     6\n",
       "1     2\n",
       "2     9\n",
       "3    11\n",
       "4     4\n",
       "5    10\n",
       "6     3\n",
       "7     5\n",
       "8    17\n",
       "dtype: int64"
      ]
     },
     "execution_count": 4,
     "metadata": {},
     "output_type": "execute_result"
    }
   ],
   "source": [
    "values = [6, 2, 9, 11, 4, 10, 3, 5, 17]\n",
    "\n",
    "series = pd.Series(values)\n",
    "series"
   ]
  },
  {
   "cell_type": "markdown",
   "id": "8f9ad73a",
   "metadata": {},
   "source": [
    "## 2- write a Series object with the same values as that list, but with a floating-point datatype"
   ]
  },
  {
   "cell_type": "code",
   "execution_count": 10,
   "id": "e7ea311d",
   "metadata": {},
   "outputs": [
    {
     "data": {
      "text/plain": [
       "0    6.0\n",
       "1    2.0\n",
       "2    9.0\n",
       "3    1.0\n",
       "4    4.0\n",
       "5    8.0\n",
       "6    3.0\n",
       "7    5.0\n",
       "8    7.0\n",
       "dtype: float64"
      ]
     },
     "execution_count": 10,
     "metadata": {},
     "output_type": "execute_result"
    }
   ],
   "source": [
    "values = [6, 2, 9, 11, 4, 10, 3, 5, 17]\n",
    "\n",
    "series = pd.Series(values,dtype=\"float64\")\n",
    "series"
   ]
  },
  {
   "cell_type": "markdown",
   "id": "c5135f6f",
   "metadata": {},
   "source": [
    "## 3- write an ndarray containing the same values"
   ]
  },
  {
   "cell_type": "code",
   "execution_count": 13,
   "id": "4c664980",
   "metadata": {},
   "outputs": [
    {
     "name": "stdout",
     "output_type": "stream",
     "text": [
      "[6 2 9 1 4 8 3 5 7]\n",
      "<class 'numpy.ndarray'>\n"
     ]
    }
   ],
   "source": [
    "series = pd.Series([6, 2, 9, 11, 4, 10, 3, 5, 17])\n",
    "\n",
    "array = series.values\n",
    "print(array)\n",
    "print(type(array))"
   ]
  },
  {
   "cell_type": "markdown",
   "id": "f8bc4f71",
   "metadata": {},
   "source": [
    "## 4- access its index and assign it to a variable"
   ]
  },
  {
   "cell_type": "code",
   "execution_count": 16,
   "id": "81587cbe",
   "metadata": {},
   "outputs": [
    {
     "data": {
      "text/plain": [
       "RangeIndex(start=0, stop=9, step=1)"
      ]
     },
     "execution_count": 16,
     "metadata": {},
     "output_type": "execute_result"
    }
   ],
   "source": [
    "series = pd.Series([6, 2, 9, 11, 4, 10, 3, 5, 17])\n",
    "\n",
    "index = series.index\n",
    "index"
   ]
  },
  {
   "cell_type": "markdown",
   "id": "70c410b5",
   "metadata": {},
   "source": [
    "## 5- use slicing to extract the remaining values except first and last values"
   ]
  },
  {
   "cell_type": "code",
   "execution_count": 19,
   "id": "b84756aa",
   "metadata": {},
   "outputs": [],
   "source": [
    "series = pd.Series([6, 2, 9, 11, 4, 10, 3, 5, 17])\n",
    "\n",
    "my_slice = series[1:8]"
   ]
  },
  {
   "cell_type": "markdown",
   "id": "a96427ec",
   "metadata": {},
   "source": [
    "## 6- use slicing to extract the values by skipping one by one"
   ]
  },
  {
   "cell_type": "code",
   "execution_count": 21,
   "id": "6ea19303",
   "metadata": {},
   "outputs": [],
   "source": [
    "series = pd.Series([6, 2, 9, 11, 4, 10, 3, 5, 17])\n",
    "\n",
    "my_slice = series[1::2]"
   ]
  },
  {
   "cell_type": "markdown",
   "id": "f99c9063",
   "metadata": {},
   "source": [
    "## 7- use slicing to extract for the last four values"
   ]
  },
  {
   "cell_type": "code",
   "execution_count": 22,
   "id": "cd299ce1",
   "metadata": {},
   "outputs": [],
   "source": [
    "series = pd.Series([6, 2, 9, 11, 4, 10, 3, 5, 17])\n",
    "\n",
    "my_slice = series[5:]"
   ]
  },
  {
   "cell_type": "markdown",
   "id": "bc43511b",
   "metadata": {},
   "source": [
    "## 8- use slicing to extract the first four values"
   ]
  },
  {
   "cell_type": "code",
   "execution_count": 23,
   "id": "2f9ba674",
   "metadata": {},
   "outputs": [],
   "source": [
    "series = pd.Series([6, 2, 9, 11, 4, 10, 3, 5, 17])\n",
    "\n",
    "my_slice = series[:4]"
   ]
  },
  {
   "cell_type": "markdown",
   "id": "413d55a3",
   "metadata": {},
   "source": [
    "## 9- use slicing to extract by skipping one by one the first five values"
   ]
  },
  {
   "cell_type": "code",
   "execution_count": 24,
   "id": "fedc2433",
   "metadata": {},
   "outputs": [],
   "source": [
    "series = pd.Series([6, 2, 9, 11, 4, 10, 3, 5, 17])\n",
    "\n",
    "my_slice = series[:5:2]"
   ]
  },
  {
   "cell_type": "markdown",
   "id": "27435e2f",
   "metadata": {},
   "source": [
    "## 10- start from third index and skip one by one the values"
   ]
  },
  {
   "cell_type": "code",
   "execution_count": 25,
   "id": "e9e97023",
   "metadata": {},
   "outputs": [],
   "source": [
    "series = pd.Series([6, 2, 9, 11, 4, 10, 3, 5, 17])\n",
    "\n",
    "my_slice = series[3::2]"
   ]
  },
  {
   "cell_type": "markdown",
   "id": "fb7f0cb2",
   "metadata": {},
   "source": [
    "## 11- access a few of its values by index"
   ]
  },
  {
   "cell_type": "code",
   "execution_count": 29,
   "id": "705e4c4f",
   "metadata": {},
   "outputs": [],
   "source": [
    "series = pd.Series([28, 9, 82, 38, 44, 55, 23, 7, 64, 59, 5, 76, 12, 89, 50, 25, 33, 45, 93, 60, 72, 21, 89, 86, 26])\n",
    "\n",
    "# Assign the first value of series to a variable named first\n",
    "first = series[0]\n",
    "\n",
    "# Assign the last value of series to a variable named last\n",
    "last = series.iloc[-1]\n",
    "\n",
    "# Assign the middle value of series to a variable named middle\n",
    "middle_index = int(len(series) // 2)\n",
    "middle = series[middle_index]\n",
    "\n",
    "# Assign the seventeenth value of series to a variable named seventeenth\n",
    "seventeenth = series[16]\n",
    "\n",
    "# Assign the second to last value of series to a variable named second_to_last\n",
    "second_to_last = series.iloc[-2]"
   ]
  },
  {
   "cell_type": "markdown",
   "id": "b7edb652",
   "metadata": {},
   "source": [
    "## 12- write a series object"
   ]
  },
  {
   "cell_type": "code",
   "execution_count": 30,
   "id": "7a64c9f3",
   "metadata": {},
   "outputs": [],
   "source": [
    "series = pd.Series(data=[4, 6, 1, 7],index=['data', 'quest', 'is', 'fun'])"
   ]
  },
  {
   "cell_type": "markdown",
   "id": "2c6d8b44",
   "metadata": {},
   "source": [
    "## 13- write a series object with 26 values"
   ]
  },
  {
   "cell_type": "code",
   "execution_count": null,
   "id": "d3b3e829",
   "metadata": {},
   "outputs": [],
   "source": [
    "alphabet = pd.Series()\n",
    "for i in range(26):\n",
    "    alphabet[chr(ord('a') + i)] = i\n",
    "    \n",
    "# Alternative answer\n",
    "alphabet = pd.Series(range(26), index=list('abcdefghijklmnopqrstuvwxyz'))"
   ]
  },
  {
   "cell_type": "markdown",
   "id": "d8f035a8",
   "metadata": {},
   "source": [
    "## 14- change that index to an index that start at 1 instead"
   ]
  },
  {
   "cell_type": "code",
   "execution_count": 34,
   "id": "8ca969bb",
   "metadata": {},
   "outputs": [],
   "source": [
    "series = pd.Series([28, 9, 82, 38, 44, 55, 23, 7, 64, 59, 5, 76, 12, 89, 50, 25, 33, 45, 93, 60, 72, 21, 89, 86, 26])\n",
    "series.index = [i for i in range(1, len(series) + 1)]\n",
    "\n",
    "# Alternative answer\n",
    "series.index = range(1, len(series) + 1)"
   ]
  },
  {
   "cell_type": "markdown",
   "id": "94fafb68",
   "metadata": {},
   "source": [
    "## 15-  converting a dictionary to a Series object"
   ]
  },
  {
   "cell_type": "code",
   "execution_count": 37,
   "id": "2b65e95a",
   "metadata": {},
   "outputs": [],
   "source": [
    "populations = {\n",
    "    'Cairo': 11001000,\n",
    "    'Johannesburg': 3670000,\n",
    "    'Dakar': 2863000,\n",
    "    'Casablanca': 3284000,\n",
    "    'Lagos': 10578000\n",
    "}\n",
    "\n",
    "series_pop = pd.Series(populations)"
   ]
  },
  {
   "cell_type": "markdown",
   "id": "c1914ecd",
   "metadata": {},
   "source": [
    "## 16- converting a dictionary to a Series object and add one entry "
   ]
  },
  {
   "cell_type": "code",
   "execution_count": 38,
   "id": "6ae65abc",
   "metadata": {},
   "outputs": [],
   "source": [
    "populations = {\n",
    "    'Cairo': 11001000,\n",
    "    'Johannesburg': 3670000,\n",
    "    'Dakar': 2863000,\n",
    "    'Casablanca': 3284000,\n",
    "    'Lagos': 10578000\n",
    "}\n",
    "\n",
    "series_pop = pd.Series(populations)\n",
    "series_pop[\"Luanda\"] = 4772000"
   ]
  },
  {
   "cell_type": "markdown",
   "id": "966e5181",
   "metadata": {},
   "source": [
    "## 17- converting a dictionary to a Series object and deleting one entry"
   ]
  },
  {
   "cell_type": "code",
   "execution_count": 39,
   "id": "cbb86c43",
   "metadata": {},
   "outputs": [],
   "source": [
    "populations = {\n",
    "    'Cairo': 11001000,\n",
    "    'Johannesburg': 3670000,\n",
    "    'Dakar': 2863000,\n",
    "    'Casablanca': 3284000,\n",
    "    'Lagos': 10578000,\n",
    "    'Luanda': 4772000\n",
    "}\n",
    "\n",
    "series_pop = pd.Series(populations)\n",
    "series_pop = series_pop.drop(\"Luanda\")"
   ]
  },
  {
   "cell_type": "markdown",
   "id": "8d0133e1",
   "metadata": {},
   "source": [
    "## 18- converting a dictionary to a Series object and delete multiple entries"
   ]
  },
  {
   "cell_type": "code",
   "execution_count": 41,
   "id": "a19a0298",
   "metadata": {},
   "outputs": [],
   "source": [
    "populations = {\n",
    "    'Cairo': 11001000,\n",
    "    'Johannesburg': 3670000,\n",
    "    'Dakar': 2863000,\n",
    "    'Casablanca': 3284000,\n",
    "    'Lagos': 10578000,\n",
    "    'Luanda': 4772000\n",
    "}\n",
    "\n",
    "series_pop = pd.Series(populations)\n",
    "series_pop = series_pop.drop(\"Luanda\")"
   ]
  },
  {
   "cell_type": "markdown",
   "id": "65897e1a",
   "metadata": {},
   "source": [
    "## 19- use slicing on the labels to extract some values"
   ]
  },
  {
   "cell_type": "code",
   "execution_count": 44,
   "id": "8eef0dc9",
   "metadata": {},
   "outputs": [],
   "source": [
    "series = pd.Series({'a':6, 'b':2, 'c':9, 'd':1, 'e':4, 'f':8, 'g':3, 'h':5, 'i':7})\n",
    "\n",
    "my_slice = series['d':'g'] "
   ]
  },
  {
   "cell_type": "markdown",
   "id": "e19ce497",
   "metadata": {},
   "source": [
    "## 20- use slicing on the labels to extract by skipping one by one the values"
   ]
  },
  {
   "cell_type": "code",
   "execution_count": 45,
   "id": "e5bf8cb5",
   "metadata": {},
   "outputs": [],
   "source": [
    "series = pd.Series({'a':6, 'b':2, 'c':9, 'd':1, 'e':4, 'f':8, 'g':3, 'h':5, 'i':7})\n",
    "\n",
    "my_slice = series[\"a\"::2]"
   ]
  },
  {
   "cell_type": "markdown",
   "id": "1fb5d1f4",
   "metadata": {},
   "source": [
    "## 21-  use slicing on the labels to extract the values"
   ]
  },
  {
   "cell_type": "code",
   "execution_count": 46,
   "id": "2d450280",
   "metadata": {},
   "outputs": [],
   "source": [
    "series = pd.Series({'a':6, 'b':2, 'c':9, 'd':1, 'e':4, 'f':8, 'g':3, 'h':5, 'i':7})\n",
    "\n",
    "\n",
    "my_slice = series[\"c\":\"g\"]"
   ]
  },
  {
   "cell_type": "markdown",
   "id": "b1f769aa",
   "metadata": {},
   "source": [
    "## 22- find some statistics"
   ]
  },
  {
   "cell_type": "code",
   "execution_count": 47,
   "id": "cae64f13",
   "metadata": {},
   "outputs": [
    {
     "name": "stdout",
     "output_type": "stream",
     "text": [
      "count    8.00000\n",
      "mean     4.50000\n",
      "std      2.44949\n",
      "min      1.00000\n",
      "25%      2.75000\n",
      "50%      4.50000\n",
      "75%      6.25000\n",
      "max      8.00000\n",
      "dtype: float64\n"
     ]
    }
   ],
   "source": [
    "series = pd.Series({'a':6, 'b':2, 'c':None, 'd':1, 'e':4, 'f':8, 'g':3, 'h':5, 'i':7, 'j': None})\n",
    "\n",
    "print(series.describe())"
   ]
  },
  {
   "cell_type": "markdown",
   "id": "47e60ea0",
   "metadata": {},
   "source": [
    "## 23- transform a series to tuple in a list"
   ]
  },
  {
   "cell_type": "code",
   "execution_count": 51,
   "id": "d88f6e8b",
   "metadata": {},
   "outputs": [],
   "source": [
    "series = pd.Series({'a':6, 'b':2, 'c':9, 'd':1, 'e':4, 'f':8, 'g':3, 'h':5, 'i':7})\n",
    "\n",
    "entry_list = [(index,value) for index,value in series.items()]"
   ]
  }
 ],
 "metadata": {
  "kernelspec": {
   "display_name": "Python 3",
   "language": "python",
   "name": "python3"
  },
  "language_info": {
   "codemirror_mode": {
    "name": "ipython",
    "version": 3
   },
   "file_extension": ".py",
   "mimetype": "text/x-python",
   "name": "python",
   "nbconvert_exporter": "python",
   "pygments_lexer": "ipython3",
   "version": "3.8.8"
  }
 },
 "nbformat": 4,
 "nbformat_minor": 5
}
