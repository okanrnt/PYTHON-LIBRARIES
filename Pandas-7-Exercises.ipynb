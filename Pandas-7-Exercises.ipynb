{
 "cells": [
  {
   "cell_type": "code",
   "execution_count": 36,
   "id": "a0361b78",
   "metadata": {},
   "outputs": [],
   "source": [
    "import numpy as np ; import pandas as pd"
   ]
  },
  {
   "cell_type": "markdown",
   "id": "a202ab91",
   "metadata": {},
   "source": [
    "The dataset is designed for practice. It is not a real dataset."
   ]
  },
  {
   "cell_type": "code",
   "execution_count": 37,
   "id": "199c9b2d",
   "metadata": {},
   "outputs": [],
   "source": [
    "dataset = {'Names':['Okan','Furkan','Ahmet','Meriç','Çağrı','Berk','Ulaş','Haydar','Necati','Efecan'],\n",
    "           'Lessons':['Math' for i in range(10)],\n",
    "          'Notes1':[75,83,96,73,90,63,52,120,np.nan,90],\n",
    "           'Notes2':[82,99,94,44,77,34,22,47,77,75],\n",
    "          'sport': ['Football','Basketball','Tennis','Football','Swimming','Tennis','Rider','Football','Swimming','Hokey']}"
   ]
  },
  {
   "cell_type": "markdown",
   "id": "6b09f1f0",
   "metadata": {},
   "source": [
    "We will look for missing and outlier data in the data set. If there are we will clean them up and then analyze the dataset."
   ]
  },
  {
   "cell_type": "code",
   "execution_count": 38,
   "id": "0ee50e89",
   "metadata": {},
   "outputs": [],
   "source": [
    "df = pd.DataFrame(dataset)"
   ]
  },
  {
   "cell_type": "code",
   "execution_count": 39,
   "id": "99b89c3b",
   "metadata": {},
   "outputs": [
    {
     "data": {
      "text/html": [
       "<div>\n",
       "<style scoped>\n",
       "    .dataframe tbody tr th:only-of-type {\n",
       "        vertical-align: middle;\n",
       "    }\n",
       "\n",
       "    .dataframe tbody tr th {\n",
       "        vertical-align: top;\n",
       "    }\n",
       "\n",
       "    .dataframe thead th {\n",
       "        text-align: right;\n",
       "    }\n",
       "</style>\n",
       "<table border=\"1\" class=\"dataframe\">\n",
       "  <thead>\n",
       "    <tr style=\"text-align: right;\">\n",
       "      <th></th>\n",
       "      <th>Names</th>\n",
       "      <th>Lessons</th>\n",
       "      <th>Notes1</th>\n",
       "      <th>Notes2</th>\n",
       "      <th>sport</th>\n",
       "    </tr>\n",
       "  </thead>\n",
       "  <tbody>\n",
       "    <tr>\n",
       "      <th>0</th>\n",
       "      <td>Okan</td>\n",
       "      <td>Math</td>\n",
       "      <td>75.0</td>\n",
       "      <td>82</td>\n",
       "      <td>Football</td>\n",
       "    </tr>\n",
       "    <tr>\n",
       "      <th>1</th>\n",
       "      <td>Furkan</td>\n",
       "      <td>Math</td>\n",
       "      <td>83.0</td>\n",
       "      <td>99</td>\n",
       "      <td>Basketball</td>\n",
       "    </tr>\n",
       "    <tr>\n",
       "      <th>2</th>\n",
       "      <td>Ahmet</td>\n",
       "      <td>Math</td>\n",
       "      <td>96.0</td>\n",
       "      <td>94</td>\n",
       "      <td>Tennis</td>\n",
       "    </tr>\n",
       "    <tr>\n",
       "      <th>3</th>\n",
       "      <td>Meriç</td>\n",
       "      <td>Math</td>\n",
       "      <td>73.0</td>\n",
       "      <td>44</td>\n",
       "      <td>Football</td>\n",
       "    </tr>\n",
       "    <tr>\n",
       "      <th>4</th>\n",
       "      <td>Çağrı</td>\n",
       "      <td>Math</td>\n",
       "      <td>90.0</td>\n",
       "      <td>77</td>\n",
       "      <td>Swimming</td>\n",
       "    </tr>\n",
       "    <tr>\n",
       "      <th>5</th>\n",
       "      <td>Berk</td>\n",
       "      <td>Math</td>\n",
       "      <td>63.0</td>\n",
       "      <td>34</td>\n",
       "      <td>Tennis</td>\n",
       "    </tr>\n",
       "    <tr>\n",
       "      <th>6</th>\n",
       "      <td>Ulaş</td>\n",
       "      <td>Math</td>\n",
       "      <td>52.0</td>\n",
       "      <td>22</td>\n",
       "      <td>Rider</td>\n",
       "    </tr>\n",
       "    <tr>\n",
       "      <th>7</th>\n",
       "      <td>Haydar</td>\n",
       "      <td>Math</td>\n",
       "      <td>120.0</td>\n",
       "      <td>47</td>\n",
       "      <td>Football</td>\n",
       "    </tr>\n",
       "    <tr>\n",
       "      <th>8</th>\n",
       "      <td>Necati</td>\n",
       "      <td>Math</td>\n",
       "      <td>NaN</td>\n",
       "      <td>77</td>\n",
       "      <td>Swimming</td>\n",
       "    </tr>\n",
       "    <tr>\n",
       "      <th>9</th>\n",
       "      <td>Efecan</td>\n",
       "      <td>Math</td>\n",
       "      <td>90.0</td>\n",
       "      <td>75</td>\n",
       "      <td>Hokey</td>\n",
       "    </tr>\n",
       "  </tbody>\n",
       "</table>\n",
       "</div>"
      ],
      "text/plain": [
       "    Names Lessons  Notes1  Notes2       sport\n",
       "0    Okan    Math    75.0      82    Football\n",
       "1  Furkan    Math    83.0      99  Basketball\n",
       "2   Ahmet    Math    96.0      94      Tennis\n",
       "3   Meriç    Math    73.0      44    Football\n",
       "4   Çağrı    Math    90.0      77    Swimming\n",
       "5    Berk    Math    63.0      34      Tennis\n",
       "6    Ulaş    Math    52.0      22       Rider\n",
       "7  Haydar    Math   120.0      47    Football\n",
       "8  Necati    Math     NaN      77    Swimming\n",
       "9  Efecan    Math    90.0      75       Hokey"
      ]
     },
     "execution_count": 39,
     "metadata": {},
     "output_type": "execute_result"
    }
   ],
   "source": [
    "df"
   ]
  },
  {
   "cell_type": "code",
   "execution_count": 40,
   "id": "ff962b9f",
   "metadata": {},
   "outputs": [
    {
     "data": {
      "text/plain": [
       "(10, 5)"
      ]
     },
     "execution_count": 40,
     "metadata": {},
     "output_type": "execute_result"
    }
   ],
   "source": [
    "df.shape"
   ]
  },
  {
   "cell_type": "markdown",
   "id": "80559754",
   "metadata": {},
   "source": [
    "There are 10 columns and 5 rows in dataset."
   ]
  },
  {
   "cell_type": "code",
   "execution_count": 41,
   "id": "29907388",
   "metadata": {},
   "outputs": [
    {
     "data": {
      "text/plain": [
       "Index(['Names', 'Lessons', 'Notes1', 'Notes2', 'sport'], dtype='object')"
      ]
     },
     "execution_count": 41,
     "metadata": {},
     "output_type": "execute_result"
    }
   ],
   "source": [
    "df.columns"
   ]
  },
  {
   "cell_type": "code",
   "execution_count": 42,
   "id": "cfa0189f",
   "metadata": {},
   "outputs": [
    {
     "data": {
      "text/html": [
       "<div>\n",
       "<style scoped>\n",
       "    .dataframe tbody tr th:only-of-type {\n",
       "        vertical-align: middle;\n",
       "    }\n",
       "\n",
       "    .dataframe tbody tr th {\n",
       "        vertical-align: top;\n",
       "    }\n",
       "\n",
       "    .dataframe thead th {\n",
       "        text-align: right;\n",
       "    }\n",
       "</style>\n",
       "<table border=\"1\" class=\"dataframe\">\n",
       "  <thead>\n",
       "    <tr style=\"text-align: right;\">\n",
       "      <th></th>\n",
       "      <th>count</th>\n",
       "      <th>mean</th>\n",
       "      <th>std</th>\n",
       "      <th>min</th>\n",
       "      <th>25%</th>\n",
       "      <th>50%</th>\n",
       "      <th>75%</th>\n",
       "      <th>max</th>\n",
       "    </tr>\n",
       "  </thead>\n",
       "  <tbody>\n",
       "    <tr>\n",
       "      <th>Notes1</th>\n",
       "      <td>9.0</td>\n",
       "      <td>82.444444</td>\n",
       "      <td>19.869016</td>\n",
       "      <td>52.0</td>\n",
       "      <td>73.00</td>\n",
       "      <td>83.0</td>\n",
       "      <td>90.00</td>\n",
       "      <td>120.0</td>\n",
       "    </tr>\n",
       "    <tr>\n",
       "      <th>Notes2</th>\n",
       "      <td>10.0</td>\n",
       "      <td>65.100000</td>\n",
       "      <td>26.349995</td>\n",
       "      <td>22.0</td>\n",
       "      <td>44.75</td>\n",
       "      <td>76.0</td>\n",
       "      <td>80.75</td>\n",
       "      <td>99.0</td>\n",
       "    </tr>\n",
       "  </tbody>\n",
       "</table>\n",
       "</div>"
      ],
      "text/plain": [
       "        count       mean        std   min    25%   50%    75%    max\n",
       "Notes1    9.0  82.444444  19.869016  52.0  73.00  83.0  90.00  120.0\n",
       "Notes2   10.0  65.100000  26.349995  22.0  44.75  76.0  80.75   99.0"
      ]
     },
     "execution_count": 42,
     "metadata": {},
     "output_type": "execute_result"
    }
   ],
   "source": [
    "df.describe().T"
   ]
  },
  {
   "cell_type": "code",
   "execution_count": 43,
   "id": "73cafd48",
   "metadata": {
    "scrolled": true
   },
   "outputs": [
    {
     "data": {
      "text/html": [
       "<div>\n",
       "<style scoped>\n",
       "    .dataframe tbody tr th:only-of-type {\n",
       "        vertical-align: middle;\n",
       "    }\n",
       "\n",
       "    .dataframe tbody tr th {\n",
       "        vertical-align: top;\n",
       "    }\n",
       "\n",
       "    .dataframe thead th {\n",
       "        text-align: right;\n",
       "    }\n",
       "</style>\n",
       "<table border=\"1\" class=\"dataframe\">\n",
       "  <thead>\n",
       "    <tr style=\"text-align: right;\">\n",
       "      <th></th>\n",
       "      <th>Names</th>\n",
       "      <th>Lessons</th>\n",
       "      <th>Notes1</th>\n",
       "      <th>Notes2</th>\n",
       "      <th>sport</th>\n",
       "    </tr>\n",
       "  </thead>\n",
       "  <tbody>\n",
       "    <tr>\n",
       "      <th>0</th>\n",
       "      <td>Okan</td>\n",
       "      <td>Math</td>\n",
       "      <td>75.0</td>\n",
       "      <td>82</td>\n",
       "      <td>Football</td>\n",
       "    </tr>\n",
       "    <tr>\n",
       "      <th>1</th>\n",
       "      <td>Furkan</td>\n",
       "      <td>Math</td>\n",
       "      <td>83.0</td>\n",
       "      <td>99</td>\n",
       "      <td>Basketball</td>\n",
       "    </tr>\n",
       "    <tr>\n",
       "      <th>2</th>\n",
       "      <td>Ahmet</td>\n",
       "      <td>Math</td>\n",
       "      <td>96.0</td>\n",
       "      <td>94</td>\n",
       "      <td>Tennis</td>\n",
       "    </tr>\n",
       "    <tr>\n",
       "      <th>3</th>\n",
       "      <td>Meriç</td>\n",
       "      <td>Math</td>\n",
       "      <td>73.0</td>\n",
       "      <td>44</td>\n",
       "      <td>Football</td>\n",
       "    </tr>\n",
       "    <tr>\n",
       "      <th>4</th>\n",
       "      <td>Çağrı</td>\n",
       "      <td>Math</td>\n",
       "      <td>90.0</td>\n",
       "      <td>77</td>\n",
       "      <td>Swimming</td>\n",
       "    </tr>\n",
       "  </tbody>\n",
       "</table>\n",
       "</div>"
      ],
      "text/plain": [
       "    Names Lessons  Notes1  Notes2       sport\n",
       "0    Okan    Math    75.0      82    Football\n",
       "1  Furkan    Math    83.0      99  Basketball\n",
       "2   Ahmet    Math    96.0      94      Tennis\n",
       "3   Meriç    Math    73.0      44    Football\n",
       "4   Çağrı    Math    90.0      77    Swimming"
      ]
     },
     "execution_count": 43,
     "metadata": {},
     "output_type": "execute_result"
    }
   ],
   "source": [
    "df.head()"
   ]
  },
  {
   "cell_type": "code",
   "execution_count": 44,
   "id": "3c0b30e1",
   "metadata": {},
   "outputs": [
    {
     "data": {
      "text/html": [
       "<div>\n",
       "<style scoped>\n",
       "    .dataframe tbody tr th:only-of-type {\n",
       "        vertical-align: middle;\n",
       "    }\n",
       "\n",
       "    .dataframe tbody tr th {\n",
       "        vertical-align: top;\n",
       "    }\n",
       "\n",
       "    .dataframe thead th {\n",
       "        text-align: right;\n",
       "    }\n",
       "</style>\n",
       "<table border=\"1\" class=\"dataframe\">\n",
       "  <thead>\n",
       "    <tr style=\"text-align: right;\">\n",
       "      <th></th>\n",
       "      <th>Names</th>\n",
       "      <th>Lessons</th>\n",
       "      <th>Notes1</th>\n",
       "      <th>Notes2</th>\n",
       "      <th>sport</th>\n",
       "    </tr>\n",
       "  </thead>\n",
       "  <tbody>\n",
       "    <tr>\n",
       "      <th>5</th>\n",
       "      <td>Berk</td>\n",
       "      <td>Math</td>\n",
       "      <td>63.0</td>\n",
       "      <td>34</td>\n",
       "      <td>Tennis</td>\n",
       "    </tr>\n",
       "    <tr>\n",
       "      <th>6</th>\n",
       "      <td>Ulaş</td>\n",
       "      <td>Math</td>\n",
       "      <td>52.0</td>\n",
       "      <td>22</td>\n",
       "      <td>Rider</td>\n",
       "    </tr>\n",
       "    <tr>\n",
       "      <th>7</th>\n",
       "      <td>Haydar</td>\n",
       "      <td>Math</td>\n",
       "      <td>120.0</td>\n",
       "      <td>47</td>\n",
       "      <td>Football</td>\n",
       "    </tr>\n",
       "    <tr>\n",
       "      <th>8</th>\n",
       "      <td>Necati</td>\n",
       "      <td>Math</td>\n",
       "      <td>NaN</td>\n",
       "      <td>77</td>\n",
       "      <td>Swimming</td>\n",
       "    </tr>\n",
       "    <tr>\n",
       "      <th>9</th>\n",
       "      <td>Efecan</td>\n",
       "      <td>Math</td>\n",
       "      <td>90.0</td>\n",
       "      <td>75</td>\n",
       "      <td>Hokey</td>\n",
       "    </tr>\n",
       "  </tbody>\n",
       "</table>\n",
       "</div>"
      ],
      "text/plain": [
       "    Names Lessons  Notes1  Notes2     sport\n",
       "5    Berk    Math    63.0      34    Tennis\n",
       "6    Ulaş    Math    52.0      22     Rider\n",
       "7  Haydar    Math   120.0      47  Football\n",
       "8  Necati    Math     NaN      77  Swimming\n",
       "9  Efecan    Math    90.0      75     Hokey"
      ]
     },
     "execution_count": 44,
     "metadata": {},
     "output_type": "execute_result"
    }
   ],
   "source": [
    "df.tail()"
   ]
  },
  {
   "cell_type": "code",
   "execution_count": 45,
   "id": "f096e195",
   "metadata": {},
   "outputs": [
    {
     "name": "stdout",
     "output_type": "stream",
     "text": [
      "<class 'pandas.core.frame.DataFrame'>\n",
      "RangeIndex: 10 entries, 0 to 9\n",
      "Data columns (total 5 columns):\n",
      " #   Column   Non-Null Count  Dtype  \n",
      "---  ------   --------------  -----  \n",
      " 0   Names    10 non-null     object \n",
      " 1   Lessons  10 non-null     object \n",
      " 2   Notes1   9 non-null      float64\n",
      " 3   Notes2   10 non-null     int64  \n",
      " 4   sport    10 non-null     object \n",
      "dtypes: float64(1), int64(1), object(3)\n",
      "memory usage: 528.0+ bytes\n"
     ]
    }
   ],
   "source": [
    "df.info()"
   ]
  },
  {
   "cell_type": "markdown",
   "id": "f4a2d2b2",
   "metadata": {},
   "source": [
    "Dataset has 5 columns(1 int, 1 float, 3 object data types). There is one null values in Notes1 column. We will change for more analize some column names. From sport to Sports."
   ]
  },
  {
   "cell_type": "code",
   "execution_count": 46,
   "id": "f6e76ec6",
   "metadata": {},
   "outputs": [],
   "source": [
    "df = df.rename(columns={'sport':'Sports'})"
   ]
  },
  {
   "cell_type": "code",
   "execution_count": 47,
   "id": "2d3ff516",
   "metadata": {},
   "outputs": [
    {
     "data": {
      "text/plain": [
       "Names      0\n",
       "Lessons    0\n",
       "Notes1     1\n",
       "Notes2     0\n",
       "Sports     0\n",
       "dtype: int64"
      ]
     },
     "execution_count": 47,
     "metadata": {},
     "output_type": "execute_result"
    }
   ],
   "source": [
    "df.isnull().sum()"
   ]
  },
  {
   "cell_type": "markdown",
   "id": "87f37600",
   "metadata": {},
   "source": [
    "We will clean the missing value."
   ]
  },
  {
   "cell_type": "code",
   "execution_count": 48,
   "id": "09bcc07b",
   "metadata": {},
   "outputs": [],
   "source": [
    "df = df.dropna()"
   ]
  },
  {
   "cell_type": "code",
   "execution_count": 49,
   "id": "6094b0f3",
   "metadata": {},
   "outputs": [
    {
     "data": {
      "text/plain": [
       "52.0     1\n",
       "63.0     1\n",
       "73.0     1\n",
       "75.0     1\n",
       "83.0     1\n",
       "90.0     2\n",
       "96.0     1\n",
       "120.0    1\n",
       "Name: Notes1, dtype: int64"
      ]
     },
     "execution_count": 49,
     "metadata": {},
     "output_type": "execute_result"
    }
   ],
   "source": [
    "df['Notes1'].value_counts().sort_index()"
   ]
  },
  {
   "cell_type": "markdown",
   "id": "897e3faf",
   "metadata": {},
   "source": [
    "All unique value but most of the note should 100.0 value. 120.0 is outlier value. We will clean it the dataset."
   ]
  },
  {
   "cell_type": "code",
   "execution_count": 50,
   "id": "f90d4036",
   "metadata": {},
   "outputs": [],
   "source": [
    "df['Notes1'] = df['Notes1'].astype(int)"
   ]
  },
  {
   "cell_type": "code",
   "execution_count": 51,
   "id": "b9bb67eb",
   "metadata": {},
   "outputs": [
    {
     "data": {
      "text/html": [
       "<div>\n",
       "<style scoped>\n",
       "    .dataframe tbody tr th:only-of-type {\n",
       "        vertical-align: middle;\n",
       "    }\n",
       "\n",
       "    .dataframe tbody tr th {\n",
       "        vertical-align: top;\n",
       "    }\n",
       "\n",
       "    .dataframe thead th {\n",
       "        text-align: right;\n",
       "    }\n",
       "</style>\n",
       "<table border=\"1\" class=\"dataframe\">\n",
       "  <thead>\n",
       "    <tr style=\"text-align: right;\">\n",
       "      <th></th>\n",
       "      <th>Names</th>\n",
       "      <th>Lessons</th>\n",
       "      <th>Notes1</th>\n",
       "      <th>Notes2</th>\n",
       "      <th>Sports</th>\n",
       "    </tr>\n",
       "  </thead>\n",
       "  <tbody>\n",
       "    <tr>\n",
       "      <th>0</th>\n",
       "      <td>Okan</td>\n",
       "      <td>Math</td>\n",
       "      <td>75</td>\n",
       "      <td>82</td>\n",
       "      <td>Football</td>\n",
       "    </tr>\n",
       "    <tr>\n",
       "      <th>1</th>\n",
       "      <td>Furkan</td>\n",
       "      <td>Math</td>\n",
       "      <td>83</td>\n",
       "      <td>99</td>\n",
       "      <td>Basketball</td>\n",
       "    </tr>\n",
       "    <tr>\n",
       "      <th>2</th>\n",
       "      <td>Ahmet</td>\n",
       "      <td>Math</td>\n",
       "      <td>96</td>\n",
       "      <td>94</td>\n",
       "      <td>Tennis</td>\n",
       "    </tr>\n",
       "    <tr>\n",
       "      <th>3</th>\n",
       "      <td>Meriç</td>\n",
       "      <td>Math</td>\n",
       "      <td>73</td>\n",
       "      <td>44</td>\n",
       "      <td>Football</td>\n",
       "    </tr>\n",
       "    <tr>\n",
       "      <th>4</th>\n",
       "      <td>Çağrı</td>\n",
       "      <td>Math</td>\n",
       "      <td>90</td>\n",
       "      <td>77</td>\n",
       "      <td>Swimming</td>\n",
       "    </tr>\n",
       "    <tr>\n",
       "      <th>5</th>\n",
       "      <td>Berk</td>\n",
       "      <td>Math</td>\n",
       "      <td>63</td>\n",
       "      <td>34</td>\n",
       "      <td>Tennis</td>\n",
       "    </tr>\n",
       "    <tr>\n",
       "      <th>6</th>\n",
       "      <td>Ulaş</td>\n",
       "      <td>Math</td>\n",
       "      <td>52</td>\n",
       "      <td>22</td>\n",
       "      <td>Rider</td>\n",
       "    </tr>\n",
       "    <tr>\n",
       "      <th>7</th>\n",
       "      <td>Haydar</td>\n",
       "      <td>Math</td>\n",
       "      <td>120</td>\n",
       "      <td>47</td>\n",
       "      <td>Football</td>\n",
       "    </tr>\n",
       "    <tr>\n",
       "      <th>9</th>\n",
       "      <td>Efecan</td>\n",
       "      <td>Math</td>\n",
       "      <td>90</td>\n",
       "      <td>75</td>\n",
       "      <td>Hokey</td>\n",
       "    </tr>\n",
       "  </tbody>\n",
       "</table>\n",
       "</div>"
      ],
      "text/plain": [
       "    Names Lessons  Notes1  Notes2      Sports\n",
       "0    Okan    Math      75      82    Football\n",
       "1  Furkan    Math      83      99  Basketball\n",
       "2   Ahmet    Math      96      94      Tennis\n",
       "3   Meriç    Math      73      44    Football\n",
       "4   Çağrı    Math      90      77    Swimming\n",
       "5    Berk    Math      63      34      Tennis\n",
       "6    Ulaş    Math      52      22       Rider\n",
       "7  Haydar    Math     120      47    Football\n",
       "9  Efecan    Math      90      75       Hokey"
      ]
     },
     "execution_count": 51,
     "metadata": {},
     "output_type": "execute_result"
    }
   ],
   "source": [
    "df"
   ]
  },
  {
   "cell_type": "code",
   "execution_count": 52,
   "id": "627fb5c3",
   "metadata": {},
   "outputs": [],
   "source": [
    "df = df[(df['Notes1'] <= 100) & (df['Notes1'] >= 0)]"
   ]
  },
  {
   "cell_type": "code",
   "execution_count": 53,
   "id": "21367014",
   "metadata": {},
   "outputs": [
    {
     "data": {
      "text/html": [
       "<div>\n",
       "<style scoped>\n",
       "    .dataframe tbody tr th:only-of-type {\n",
       "        vertical-align: middle;\n",
       "    }\n",
       "\n",
       "    .dataframe tbody tr th {\n",
       "        vertical-align: top;\n",
       "    }\n",
       "\n",
       "    .dataframe thead th {\n",
       "        text-align: right;\n",
       "    }\n",
       "</style>\n",
       "<table border=\"1\" class=\"dataframe\">\n",
       "  <thead>\n",
       "    <tr style=\"text-align: right;\">\n",
       "      <th></th>\n",
       "      <th>Names</th>\n",
       "      <th>Lessons</th>\n",
       "      <th>Notes1</th>\n",
       "      <th>Notes2</th>\n",
       "      <th>Sports</th>\n",
       "    </tr>\n",
       "  </thead>\n",
       "  <tbody>\n",
       "    <tr>\n",
       "      <th>0</th>\n",
       "      <td>Okan</td>\n",
       "      <td>Math</td>\n",
       "      <td>75</td>\n",
       "      <td>82</td>\n",
       "      <td>Football</td>\n",
       "    </tr>\n",
       "    <tr>\n",
       "      <th>1</th>\n",
       "      <td>Furkan</td>\n",
       "      <td>Math</td>\n",
       "      <td>83</td>\n",
       "      <td>99</td>\n",
       "      <td>Basketball</td>\n",
       "    </tr>\n",
       "    <tr>\n",
       "      <th>2</th>\n",
       "      <td>Ahmet</td>\n",
       "      <td>Math</td>\n",
       "      <td>96</td>\n",
       "      <td>94</td>\n",
       "      <td>Tennis</td>\n",
       "    </tr>\n",
       "    <tr>\n",
       "      <th>3</th>\n",
       "      <td>Meriç</td>\n",
       "      <td>Math</td>\n",
       "      <td>73</td>\n",
       "      <td>44</td>\n",
       "      <td>Football</td>\n",
       "    </tr>\n",
       "    <tr>\n",
       "      <th>4</th>\n",
       "      <td>Çağrı</td>\n",
       "      <td>Math</td>\n",
       "      <td>90</td>\n",
       "      <td>77</td>\n",
       "      <td>Swimming</td>\n",
       "    </tr>\n",
       "    <tr>\n",
       "      <th>5</th>\n",
       "      <td>Berk</td>\n",
       "      <td>Math</td>\n",
       "      <td>63</td>\n",
       "      <td>34</td>\n",
       "      <td>Tennis</td>\n",
       "    </tr>\n",
       "    <tr>\n",
       "      <th>6</th>\n",
       "      <td>Ulaş</td>\n",
       "      <td>Math</td>\n",
       "      <td>52</td>\n",
       "      <td>22</td>\n",
       "      <td>Rider</td>\n",
       "    </tr>\n",
       "    <tr>\n",
       "      <th>9</th>\n",
       "      <td>Efecan</td>\n",
       "      <td>Math</td>\n",
       "      <td>90</td>\n",
       "      <td>75</td>\n",
       "      <td>Hokey</td>\n",
       "    </tr>\n",
       "  </tbody>\n",
       "</table>\n",
       "</div>"
      ],
      "text/plain": [
       "    Names Lessons  Notes1  Notes2      Sports\n",
       "0    Okan    Math      75      82    Football\n",
       "1  Furkan    Math      83      99  Basketball\n",
       "2   Ahmet    Math      96      94      Tennis\n",
       "3   Meriç    Math      73      44    Football\n",
       "4   Çağrı    Math      90      77    Swimming\n",
       "5    Berk    Math      63      34      Tennis\n",
       "6    Ulaş    Math      52      22       Rider\n",
       "9  Efecan    Math      90      75       Hokey"
      ]
     },
     "execution_count": 53,
     "metadata": {},
     "output_type": "execute_result"
    }
   ],
   "source": [
    "df"
   ]
  },
  {
   "cell_type": "code",
   "execution_count": 54,
   "id": "debe3f96",
   "metadata": {},
   "outputs": [
    {
     "name": "stdout",
     "output_type": "stream",
     "text": [
      "<class 'pandas.core.frame.DataFrame'>\n",
      "Int64Index: 8 entries, 0 to 9\n",
      "Data columns (total 5 columns):\n",
      " #   Column   Non-Null Count  Dtype \n",
      "---  ------   --------------  ----- \n",
      " 0   Names    8 non-null      object\n",
      " 1   Lessons  8 non-null      object\n",
      " 2   Notes1   8 non-null      int32 \n",
      " 3   Notes2   8 non-null      int64 \n",
      " 4   Sports   8 non-null      object\n",
      "dtypes: int32(1), int64(1), object(3)\n",
      "memory usage: 352.0+ bytes\n"
     ]
    }
   ],
   "source": [
    "df.info()"
   ]
  },
  {
   "cell_type": "code",
   "execution_count": 55,
   "id": "bae0e015",
   "metadata": {},
   "outputs": [],
   "source": [
    "average= (df['Notes1'] + df['Notes2']) / 2"
   ]
  },
  {
   "cell_type": "code",
   "execution_count": 56,
   "id": "063ffdb7",
   "metadata": {},
   "outputs": [
    {
     "data": {
      "text/plain": [
       "0    78.5\n",
       "1    91.0\n",
       "2    95.0\n",
       "3    58.5\n",
       "4    83.5\n",
       "5    48.5\n",
       "6    37.0\n",
       "9    82.5\n",
       "dtype: float64"
      ]
     },
     "execution_count": 56,
     "metadata": {},
     "output_type": "execute_result"
    }
   ],
   "source": [
    "average"
   ]
  },
  {
   "cell_type": "code",
   "execution_count": 57,
   "id": "87a05fe4",
   "metadata": {
    "scrolled": true
   },
   "outputs": [
    {
     "data": {
      "text/plain": [
       "pandas.core.series.Series"
      ]
     },
     "execution_count": 57,
     "metadata": {},
     "output_type": "execute_result"
    }
   ],
   "source": [
    "type(average)"
   ]
  },
  {
   "cell_type": "code",
   "execution_count": 58,
   "id": "c71f69f8",
   "metadata": {},
   "outputs": [
    {
     "name": "stderr",
     "output_type": "stream",
     "text": [
      "<ipython-input-58-afdeb9214196>:1: SettingWithCopyWarning: \n",
      "A value is trying to be set on a copy of a slice from a DataFrame.\n",
      "Try using .loc[row_indexer,col_indexer] = value instead\n",
      "\n",
      "See the caveats in the documentation: https://pandas.pydata.org/pandas-docs/stable/user_guide/indexing.html#returning-a-view-versus-a-copy\n",
      "  df['average_columns'] = average\n"
     ]
    }
   ],
   "source": [
    "df['average_columns'] = average"
   ]
  },
  {
   "cell_type": "code",
   "execution_count": 59,
   "id": "967678aa",
   "metadata": {},
   "outputs": [
    {
     "data": {
      "text/html": [
       "<div>\n",
       "<style scoped>\n",
       "    .dataframe tbody tr th:only-of-type {\n",
       "        vertical-align: middle;\n",
       "    }\n",
       "\n",
       "    .dataframe tbody tr th {\n",
       "        vertical-align: top;\n",
       "    }\n",
       "\n",
       "    .dataframe thead th {\n",
       "        text-align: right;\n",
       "    }\n",
       "</style>\n",
       "<table border=\"1\" class=\"dataframe\">\n",
       "  <thead>\n",
       "    <tr style=\"text-align: right;\">\n",
       "      <th></th>\n",
       "      <th>Names</th>\n",
       "      <th>Lessons</th>\n",
       "      <th>Notes1</th>\n",
       "      <th>Notes2</th>\n",
       "      <th>Sports</th>\n",
       "      <th>average_columns</th>\n",
       "    </tr>\n",
       "  </thead>\n",
       "  <tbody>\n",
       "    <tr>\n",
       "      <th>0</th>\n",
       "      <td>Okan</td>\n",
       "      <td>Math</td>\n",
       "      <td>75</td>\n",
       "      <td>82</td>\n",
       "      <td>Football</td>\n",
       "      <td>78.5</td>\n",
       "    </tr>\n",
       "    <tr>\n",
       "      <th>1</th>\n",
       "      <td>Furkan</td>\n",
       "      <td>Math</td>\n",
       "      <td>83</td>\n",
       "      <td>99</td>\n",
       "      <td>Basketball</td>\n",
       "      <td>91.0</td>\n",
       "    </tr>\n",
       "    <tr>\n",
       "      <th>2</th>\n",
       "      <td>Ahmet</td>\n",
       "      <td>Math</td>\n",
       "      <td>96</td>\n",
       "      <td>94</td>\n",
       "      <td>Tennis</td>\n",
       "      <td>95.0</td>\n",
       "    </tr>\n",
       "    <tr>\n",
       "      <th>3</th>\n",
       "      <td>Meriç</td>\n",
       "      <td>Math</td>\n",
       "      <td>73</td>\n",
       "      <td>44</td>\n",
       "      <td>Football</td>\n",
       "      <td>58.5</td>\n",
       "    </tr>\n",
       "    <tr>\n",
       "      <th>4</th>\n",
       "      <td>Çağrı</td>\n",
       "      <td>Math</td>\n",
       "      <td>90</td>\n",
       "      <td>77</td>\n",
       "      <td>Swimming</td>\n",
       "      <td>83.5</td>\n",
       "    </tr>\n",
       "    <tr>\n",
       "      <th>5</th>\n",
       "      <td>Berk</td>\n",
       "      <td>Math</td>\n",
       "      <td>63</td>\n",
       "      <td>34</td>\n",
       "      <td>Tennis</td>\n",
       "      <td>48.5</td>\n",
       "    </tr>\n",
       "    <tr>\n",
       "      <th>6</th>\n",
       "      <td>Ulaş</td>\n",
       "      <td>Math</td>\n",
       "      <td>52</td>\n",
       "      <td>22</td>\n",
       "      <td>Rider</td>\n",
       "      <td>37.0</td>\n",
       "    </tr>\n",
       "    <tr>\n",
       "      <th>9</th>\n",
       "      <td>Efecan</td>\n",
       "      <td>Math</td>\n",
       "      <td>90</td>\n",
       "      <td>75</td>\n",
       "      <td>Hokey</td>\n",
       "      <td>82.5</td>\n",
       "    </tr>\n",
       "  </tbody>\n",
       "</table>\n",
       "</div>"
      ],
      "text/plain": [
       "    Names Lessons  Notes1  Notes2      Sports  average_columns\n",
       "0    Okan    Math      75      82    Football             78.5\n",
       "1  Furkan    Math      83      99  Basketball             91.0\n",
       "2   Ahmet    Math      96      94      Tennis             95.0\n",
       "3   Meriç    Math      73      44    Football             58.5\n",
       "4   Çağrı    Math      90      77    Swimming             83.5\n",
       "5    Berk    Math      63      34      Tennis             48.5\n",
       "6    Ulaş    Math      52      22       Rider             37.0\n",
       "9  Efecan    Math      90      75       Hokey             82.5"
      ]
     },
     "execution_count": 59,
     "metadata": {},
     "output_type": "execute_result"
    }
   ],
   "source": [
    "df"
   ]
  },
  {
   "cell_type": "code",
   "execution_count": 60,
   "id": "caae94ba",
   "metadata": {
    "scrolled": false
   },
   "outputs": [
    {
     "name": "stderr",
     "output_type": "stream",
     "text": [
      "C:\\ProgramData\\Anaconda3\\lib\\site-packages\\pandas\\core\\frame.py:4441: SettingWithCopyWarning: \n",
      "A value is trying to be set on a copy of a slice from a DataFrame\n",
      "\n",
      "See the caveats in the documentation: https://pandas.pydata.org/pandas-docs/stable/user_guide/indexing.html#returning-a-view-versus-a-copy\n",
      "  return super().rename(\n"
     ]
    }
   ],
   "source": [
    "df.rename(columns={'average_columns':'average_notes'},inplace=True)"
   ]
  },
  {
   "cell_type": "code",
   "execution_count": 61,
   "id": "cf7bc5a1",
   "metadata": {},
   "outputs": [
    {
     "data": {
      "text/html": [
       "<div>\n",
       "<style scoped>\n",
       "    .dataframe tbody tr th:only-of-type {\n",
       "        vertical-align: middle;\n",
       "    }\n",
       "\n",
       "    .dataframe tbody tr th {\n",
       "        vertical-align: top;\n",
       "    }\n",
       "\n",
       "    .dataframe thead th {\n",
       "        text-align: right;\n",
       "    }\n",
       "</style>\n",
       "<table border=\"1\" class=\"dataframe\">\n",
       "  <thead>\n",
       "    <tr style=\"text-align: right;\">\n",
       "      <th></th>\n",
       "      <th>Names</th>\n",
       "      <th>Lessons</th>\n",
       "      <th>Notes1</th>\n",
       "      <th>Notes2</th>\n",
       "      <th>Sports</th>\n",
       "      <th>average_notes</th>\n",
       "    </tr>\n",
       "  </thead>\n",
       "  <tbody>\n",
       "    <tr>\n",
       "      <th>0</th>\n",
       "      <td>Okan</td>\n",
       "      <td>Math</td>\n",
       "      <td>75</td>\n",
       "      <td>82</td>\n",
       "      <td>Football</td>\n",
       "      <td>78.5</td>\n",
       "    </tr>\n",
       "    <tr>\n",
       "      <th>1</th>\n",
       "      <td>Furkan</td>\n",
       "      <td>Math</td>\n",
       "      <td>83</td>\n",
       "      <td>99</td>\n",
       "      <td>Basketball</td>\n",
       "      <td>91.0</td>\n",
       "    </tr>\n",
       "    <tr>\n",
       "      <th>2</th>\n",
       "      <td>Ahmet</td>\n",
       "      <td>Math</td>\n",
       "      <td>96</td>\n",
       "      <td>94</td>\n",
       "      <td>Tennis</td>\n",
       "      <td>95.0</td>\n",
       "    </tr>\n",
       "    <tr>\n",
       "      <th>3</th>\n",
       "      <td>Meriç</td>\n",
       "      <td>Math</td>\n",
       "      <td>73</td>\n",
       "      <td>44</td>\n",
       "      <td>Football</td>\n",
       "      <td>58.5</td>\n",
       "    </tr>\n",
       "    <tr>\n",
       "      <th>4</th>\n",
       "      <td>Çağrı</td>\n",
       "      <td>Math</td>\n",
       "      <td>90</td>\n",
       "      <td>77</td>\n",
       "      <td>Swimming</td>\n",
       "      <td>83.5</td>\n",
       "    </tr>\n",
       "    <tr>\n",
       "      <th>5</th>\n",
       "      <td>Berk</td>\n",
       "      <td>Math</td>\n",
       "      <td>63</td>\n",
       "      <td>34</td>\n",
       "      <td>Tennis</td>\n",
       "      <td>48.5</td>\n",
       "    </tr>\n",
       "    <tr>\n",
       "      <th>6</th>\n",
       "      <td>Ulaş</td>\n",
       "      <td>Math</td>\n",
       "      <td>52</td>\n",
       "      <td>22</td>\n",
       "      <td>Rider</td>\n",
       "      <td>37.0</td>\n",
       "    </tr>\n",
       "    <tr>\n",
       "      <th>9</th>\n",
       "      <td>Efecan</td>\n",
       "      <td>Math</td>\n",
       "      <td>90</td>\n",
       "      <td>75</td>\n",
       "      <td>Hokey</td>\n",
       "      <td>82.5</td>\n",
       "    </tr>\n",
       "  </tbody>\n",
       "</table>\n",
       "</div>"
      ],
      "text/plain": [
       "    Names Lessons  Notes1  Notes2      Sports  average_notes\n",
       "0    Okan    Math      75      82    Football           78.5\n",
       "1  Furkan    Math      83      99  Basketball           91.0\n",
       "2   Ahmet    Math      96      94      Tennis           95.0\n",
       "3   Meriç    Math      73      44    Football           58.5\n",
       "4   Çağrı    Math      90      77    Swimming           83.5\n",
       "5    Berk    Math      63      34      Tennis           48.5\n",
       "6    Ulaş    Math      52      22       Rider           37.0\n",
       "9  Efecan    Math      90      75       Hokey           82.5"
      ]
     },
     "execution_count": 61,
     "metadata": {},
     "output_type": "execute_result"
    }
   ],
   "source": [
    "df"
   ]
  },
  {
   "cell_type": "code",
   "execution_count": 62,
   "id": "efa91e58",
   "metadata": {},
   "outputs": [],
   "source": [
    "def cal_mean(sport):\n",
    "    means = df[df['Sports'] == sport]['average_notes'].mean()\n",
    "    return sport + ' players is mean math notes:',means"
   ]
  },
  {
   "cell_type": "code",
   "execution_count": 63,
   "id": "6793fb5d",
   "metadata": {},
   "outputs": [
    {
     "data": {
      "text/plain": [
       "('Basketball players is mean math notes:', 91.0)"
      ]
     },
     "execution_count": 63,
     "metadata": {},
     "output_type": "execute_result"
    }
   ],
   "source": [
    "cal_mean('Basketball')"
   ]
  },
  {
   "cell_type": "code",
   "execution_count": 64,
   "id": "69fb7fab",
   "metadata": {},
   "outputs": [
    {
     "data": {
      "text/plain": [
       "('Football players is mean math notes:', 68.5)"
      ]
     },
     "execution_count": 64,
     "metadata": {},
     "output_type": "execute_result"
    }
   ],
   "source": [
    "cal_mean('Football')"
   ]
  },
  {
   "cell_type": "code",
   "execution_count": 65,
   "id": "d3544448",
   "metadata": {},
   "outputs": [
    {
     "data": {
      "text/plain": [
       "('Tennis players is mean math notes:', 71.75)"
      ]
     },
     "execution_count": 65,
     "metadata": {},
     "output_type": "execute_result"
    }
   ],
   "source": [
    "cal_mean('Tennis')"
   ]
  },
  {
   "cell_type": "code",
   "execution_count": 66,
   "id": "e8a7e548",
   "metadata": {},
   "outputs": [
    {
     "data": {
      "text/plain": [
       "('Swimming players is mean math notes:', 83.5)"
      ]
     },
     "execution_count": 66,
     "metadata": {},
     "output_type": "execute_result"
    }
   ],
   "source": [
    "cal_mean('Swimming')"
   ]
  },
  {
   "cell_type": "code",
   "execution_count": 67,
   "id": "5202b637",
   "metadata": {},
   "outputs": [
    {
     "data": {
      "text/plain": [
       "('Rider players is mean math notes:', 37.0)"
      ]
     },
     "execution_count": 67,
     "metadata": {},
     "output_type": "execute_result"
    }
   ],
   "source": [
    "cal_mean('Rider')"
   ]
  },
  {
   "cell_type": "code",
   "execution_count": 68,
   "id": "cb8113cc",
   "metadata": {},
   "outputs": [
    {
     "data": {
      "text/plain": [
       "('Hokey players is mean math notes:', 82.5)"
      ]
     },
     "execution_count": 68,
     "metadata": {},
     "output_type": "execute_result"
    }
   ],
   "source": [
    "cal_mean('Hokey')"
   ]
  },
  {
   "cell_type": "code",
   "execution_count": 69,
   "id": "e0959912",
   "metadata": {},
   "outputs": [
    {
     "data": {
      "text/plain": [
       "Basketball    1\n",
       "Football      2\n",
       "Hokey         1\n",
       "Rider         1\n",
       "Swimming      1\n",
       "Tennis        2\n",
       "Name: Sports, dtype: int64"
      ]
     },
     "execution_count": 69,
     "metadata": {},
     "output_type": "execute_result"
    }
   ],
   "source": [
    "df['Sports'].value_counts().sort_index()"
   ]
  },
  {
   "cell_type": "code",
   "execution_count": 70,
   "id": "e43449ad",
   "metadata": {},
   "outputs": [
    {
     "data": {
      "text/html": [
       "<div>\n",
       "<style scoped>\n",
       "    .dataframe tbody tr th:only-of-type {\n",
       "        vertical-align: middle;\n",
       "    }\n",
       "\n",
       "    .dataframe tbody tr th {\n",
       "        vertical-align: top;\n",
       "    }\n",
       "\n",
       "    .dataframe thead th {\n",
       "        text-align: right;\n",
       "    }\n",
       "</style>\n",
       "<table border=\"1\" class=\"dataframe\">\n",
       "  <thead>\n",
       "    <tr style=\"text-align: right;\">\n",
       "      <th></th>\n",
       "      <th>Names</th>\n",
       "      <th>Lessons</th>\n",
       "      <th>Notes1</th>\n",
       "      <th>Notes2</th>\n",
       "      <th>Sports</th>\n",
       "      <th>average_notes</th>\n",
       "    </tr>\n",
       "  </thead>\n",
       "  <tbody>\n",
       "    <tr>\n",
       "      <th>0</th>\n",
       "      <td>Okan</td>\n",
       "      <td>Math</td>\n",
       "      <td>75</td>\n",
       "      <td>82</td>\n",
       "      <td>Football</td>\n",
       "      <td>78.5</td>\n",
       "    </tr>\n",
       "    <tr>\n",
       "      <th>3</th>\n",
       "      <td>Meriç</td>\n",
       "      <td>Math</td>\n",
       "      <td>73</td>\n",
       "      <td>44</td>\n",
       "      <td>Football</td>\n",
       "      <td>58.5</td>\n",
       "    </tr>\n",
       "  </tbody>\n",
       "</table>\n",
       "</div>"
      ],
      "text/plain": [
       "   Names Lessons  Notes1  Notes2    Sports  average_notes\n",
       "0   Okan    Math      75      82  Football           78.5\n",
       "3  Meriç    Math      73      44  Football           58.5"
      ]
     },
     "execution_count": 70,
     "metadata": {},
     "output_type": "execute_result"
    }
   ],
   "source": [
    "df[df['Sports'] == 'Football']"
   ]
  },
  {
   "cell_type": "code",
   "execution_count": 71,
   "id": "9de31f43",
   "metadata": {},
   "outputs": [
    {
     "data": {
      "text/html": [
       "<div>\n",
       "<style scoped>\n",
       "    .dataframe tbody tr th:only-of-type {\n",
       "        vertical-align: middle;\n",
       "    }\n",
       "\n",
       "    .dataframe tbody tr th {\n",
       "        vertical-align: top;\n",
       "    }\n",
       "\n",
       "    .dataframe thead th {\n",
       "        text-align: right;\n",
       "    }\n",
       "</style>\n",
       "<table border=\"1\" class=\"dataframe\">\n",
       "  <thead>\n",
       "    <tr style=\"text-align: right;\">\n",
       "      <th></th>\n",
       "      <th>Names</th>\n",
       "      <th>Lessons</th>\n",
       "      <th>Notes1</th>\n",
       "      <th>Notes2</th>\n",
       "      <th>Sports</th>\n",
       "      <th>average_notes</th>\n",
       "    </tr>\n",
       "  </thead>\n",
       "  <tbody>\n",
       "    <tr>\n",
       "      <th>2</th>\n",
       "      <td>Ahmet</td>\n",
       "      <td>Math</td>\n",
       "      <td>96</td>\n",
       "      <td>94</td>\n",
       "      <td>Tennis</td>\n",
       "      <td>95.0</td>\n",
       "    </tr>\n",
       "    <tr>\n",
       "      <th>5</th>\n",
       "      <td>Berk</td>\n",
       "      <td>Math</td>\n",
       "      <td>63</td>\n",
       "      <td>34</td>\n",
       "      <td>Tennis</td>\n",
       "      <td>48.5</td>\n",
       "    </tr>\n",
       "  </tbody>\n",
       "</table>\n",
       "</div>"
      ],
      "text/plain": [
       "   Names Lessons  Notes1  Notes2  Sports  average_notes\n",
       "2  Ahmet    Math      96      94  Tennis           95.0\n",
       "5   Berk    Math      63      34  Tennis           48.5"
      ]
     },
     "execution_count": 71,
     "metadata": {},
     "output_type": "execute_result"
    }
   ],
   "source": [
    "df[df['Sports'] == 'Tennis']"
   ]
  },
  {
   "cell_type": "markdown",
   "id": "bc3e3752",
   "metadata": {},
   "source": [
    "When we examine the data set, we see that the student who plays tennis has the highest grade, but the situation is different on average. Because there are 2 students playing tennis and the other one got low grades. Since he is a student playing basketball, the student with the highest grade on average comes out. The number of students has an effect on the average."
   ]
  }
 ],
 "metadata": {
  "kernelspec": {
   "display_name": "Python 3",
   "language": "python",
   "name": "python3"
  },
  "language_info": {
   "codemirror_mode": {
    "name": "ipython",
    "version": 3
   },
   "file_extension": ".py",
   "mimetype": "text/x-python",
   "name": "python",
   "nbconvert_exporter": "python",
   "pygments_lexer": "ipython3",
   "version": "3.8.8"
  }
 },
 "nbformat": 4,
 "nbformat_minor": 5
}
