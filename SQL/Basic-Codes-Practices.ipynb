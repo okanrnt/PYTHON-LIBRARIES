{
 "cells": [
  {
   "cell_type": "code",
   "execution_count": 1,
   "id": "0be38c63",
   "metadata": {},
   "outputs": [],
   "source": [
    "import sqlite3"
   ]
  },
  {
   "cell_type": "code",
   "execution_count": 2,
   "id": "79b5480a",
   "metadata": {},
   "outputs": [],
   "source": [
    "conn = sqlite3.connect('new.db')\n",
    "cursor = conn.cursor()"
   ]
  },
  {
   "cell_type": "code",
   "execution_count": 3,
   "id": "eba22536",
   "metadata": {},
   "outputs": [
    {
     "data": {
      "text/plain": [
       "[('female', 'group B', \"bachelor's degree\", 'standard', 'none', 72, 72, 74),\n",
       " ('female', 'group C', 'some college', 'standard', 'completed', 69, 90, 88),\n",
       " ('female', 'group B', \"master's degree\", 'standard', 'none', 90, 95, 93),\n",
       " ('male', 'group A', \"associate's degree\", 'free/reduced', 'none', 47, 57, 44),\n",
       " ('male', 'group C', 'some college', 'standard', 'none', 76, 78, 75)]"
      ]
     },
     "execution_count": 3,
     "metadata": {},
     "output_type": "execute_result"
    }
   ],
   "source": [
    "query = '''SELECT * \n",
    "             FROM performance;'''\n",
    "\n",
    "cursor.execute(query).fetchmany(5)"
   ]
  },
  {
   "cell_type": "code",
   "execution_count": 4,
   "id": "292ac580",
   "metadata": {},
   "outputs": [
    {
     "data": {
      "text/plain": [
       "[('female', 'group B', \"bachelor's degree\", 'standard', 'none', 72, 72, 74),\n",
       " ('female', 'group C', 'some college', 'standard', 'completed', 69, 90, 88),\n",
       " ('female', 'group B', \"master's degree\", 'standard', 'none', 90, 95, 93),\n",
       " ('male', 'group A', \"associate's degree\", 'free/reduced', 'none', 47, 57, 44),\n",
       " ('male', 'group C', 'some college', 'standard', 'none', 76, 78, 75)]"
      ]
     },
     "execution_count": 4,
     "metadata": {},
     "output_type": "execute_result"
    }
   ],
   "source": [
    "query = '''SELECT *\n",
    "             FROM performance\n",
    "            LIMIT 5;'''\n",
    "\n",
    "cursor.execute(query).fetchall()"
   ]
  },
  {
   "cell_type": "code",
   "execution_count": 5,
   "id": "b79a6547",
   "metadata": {},
   "outputs": [
    {
     "data": {
      "text/plain": [
       "[('female', \"bachelor's degree\"),\n",
       " ('female', 'some college'),\n",
       " ('female', \"master's degree\"),\n",
       " ('male', \"associate's degree\"),\n",
       " ('male', 'some college')]"
      ]
     },
     "execution_count": 5,
     "metadata": {},
     "output_type": "execute_result"
    }
   ],
   "source": [
    "query = '''SELECT gender,\n",
    "                  parental_education \n",
    "            FROM performance;'''\n",
    "\n",
    "cursor.execute(query).fetchmany(5)"
   ]
  },
  {
   "cell_type": "code",
   "execution_count": 7,
   "id": "be17daa0",
   "metadata": {},
   "outputs": [
    {
     "data": {
      "text/plain": [
       "[('male', 'none', 43),\n",
       " ('female', 'none', 32),\n",
       " ('male', 'completed', 42),\n",
       " ('male', 'none', 42),\n",
       " ('male', 'none', 44),\n",
       " ('female', 'none', 41),\n",
       " ('female', 'none', 17),\n",
       " ('male', 'none', 39),\n",
       " ('male', 'none', 37),\n",
       " ('male', 'none', 49)]"
      ]
     },
     "execution_count": 7,
     "metadata": {},
     "output_type": "execute_result"
    }
   ],
   "source": [
    "query = '''SELECT gender,\n",
    "                  course,\n",
    "                  reading_score \n",
    "              FROM performance \n",
    "             WHERE reading_score < 50\n",
    "             LIMIT 10;'''\n",
    "\n",
    "cursor.execute(query).fetchall()"
   ]
  },
  {
   "cell_type": "code",
   "execution_count": null,
   "id": "9b9d310c",
   "metadata": {},
   "outputs": [],
   "source": []
  },
  {
   "cell_type": "code",
   "execution_count": 9,
   "id": "14b1d22b",
   "metadata": {},
   "outputs": [
    {
     "data": {
      "text/plain": [
       "[('female', 'none', 32),\n",
       " ('female', 'none', 41),\n",
       " ('female', 'none', 17),\n",
       " ('female', 'none', 49),\n",
       " ('female', 'none', 49),\n",
       " ('female', 'none', 39),\n",
       " ('female', 'none', 42),\n",
       " ('female', 'none', 46),\n",
       " ('female', 'none', 46),\n",
       " ('female', 'none', 38)]"
      ]
     },
     "execution_count": 9,
     "metadata": {},
     "output_type": "execute_result"
    }
   ],
   "source": [
    "query = '''SELECT gender,\n",
    "                  course,\n",
    "                  reading_score \n",
    "             FROM performance \n",
    "            WHERE reading_score < 50 \n",
    "              AND gender='female';'''\n",
    "\n",
    "cursor.execute(query).fetchmany(10)"
   ]
  },
  {
   "cell_type": "code",
   "execution_count": 12,
   "id": "95f7af71",
   "metadata": {},
   "outputs": [
    {
     "data": {
      "text/plain": [
       "[('female', 90, 93),\n",
       " ('male', 47, 44),\n",
       " ('male', 76, 75),\n",
       " ('male', 40, 39),\n",
       " ('male', 58, 52),\n",
       " ('male', 78, 70),\n",
       " ('male', 88, 86),\n",
       " ('male', 66, 63),\n",
       " ('male', 73, 72),\n",
       " ('male', 69, 55),\n",
       " ('male', 70, 65),\n",
       " ('female', 63, 61),\n",
       " ('male', 40, 38),\n",
       " ('male', 97, 82),\n",
       " ('male', 81, 79)]"
      ]
     },
     "execution_count": 12,
     "metadata": {},
     "output_type": "execute_result"
    }
   ],
   "source": [
    "query = '''SELECT gender,\n",
    "                  math_score,\n",
    "                  writing_score \n",
    "              FROM performance \n",
    "             WHERE math_score >= 90 \n",
    "                OR math_score > writing_score \n",
    "             LIMIT 15;'''\n",
    "\n",
    "cursor.execute(query).fetchall()"
   ]
  },
  {
   "cell_type": "code",
   "execution_count": 14,
   "id": "04f7a947",
   "metadata": {},
   "outputs": [
    {
     "data": {
      "text/plain": [
       "[('male', 47, 44),\n",
       " ('male', 40, 39),\n",
       " ('male', 40, 43),\n",
       " ('male', 46, 46),\n",
       " ('male', 44, 53),\n",
       " ('male', 40, 38),\n",
       " ('male', 53, 48),\n",
       " ('male', 53, 42),\n",
       " ('male', 52, 49),\n",
       " ('male', 39, 34)]"
      ]
     },
     "execution_count": 14,
     "metadata": {},
     "output_type": "execute_result"
    }
   ],
   "source": [
    "query = '''SELECT gender,\n",
    "                  math_score,\n",
    "                  writing_score \n",
    "              FROM performance \n",
    "             WHERE (gender = 'male') \n",
    "               AND (math_score < 50 OR writing_score <50);'''\n",
    "\n",
    "cursor.execute(query).fetchmany(10)"
   ]
  },
  {
   "cell_type": "code",
   "execution_count": 17,
   "id": "01be3887",
   "metadata": {},
   "outputs": [
    {
     "data": {
      "text/plain": [
       "[('male', 100, 100),\n",
       " ('female', 100, 92),\n",
       " ('female', 100, 100),\n",
       " ('male', 100, 96),\n",
       " ('male', 100, 97),\n",
       " ('male', 100, 100),\n",
       " ('female', 100, 100),\n",
       " ('female', 99, 100),\n",
       " ('female', 99, 93),\n",
       " ('male', 99, 87)]"
      ]
     },
     "execution_count": 17,
     "metadata": {},
     "output_type": "execute_result"
    }
   ],
   "source": [
    "query = '''SELECT gender,\n",
    "                  math_score,\n",
    "                  reading_score \n",
    "             FROM performance \n",
    "            WHERE math_score > 90 and reading_score > 70 \n",
    "            ORDER BY math_score DESC;'''\n",
    "            \n",
    "cursor.execute(query).fetchmany(10)"
   ]
  },
  {
   "cell_type": "code",
   "execution_count": 18,
   "id": "8061394e",
   "metadata": {},
   "outputs": [
    {
     "data": {
      "text/plain": [
       "[('female', 'none', 0),\n",
       " ('female', 'none', 8),\n",
       " ('female', 'none', 18),\n",
       " ('female', 'none', 19),\n",
       " ('female', 'none', 22),\n",
       " ('female', 'none', 24),\n",
       " ('female', 'none', 26),\n",
       " ('male', 'none', 27),\n",
       " ('female', 'none', 27),\n",
       " ('male', 'none', 28),\n",
       " ('female', 'none', 29)]"
      ]
     },
     "execution_count": 18,
     "metadata": {},
     "output_type": "execute_result"
    }
   ],
   "source": [
    "query = '''SELECT gender,\n",
    "                  course,\n",
    "                  math_score \n",
    "              FROM performance \n",
    "             WHERE course = 'none' \n",
    "             ORDER BY math_score;'''\n",
    "             \n",
    "cursor.execute(query).fetchmany(11)"
   ]
  },
  {
   "cell_type": "code",
   "execution_count": 22,
   "id": "6bc5a335",
   "metadata": {},
   "outputs": [
    {
     "data": {
      "text/plain": [
       "[('female', 'completed', 23),\n",
       " ('female', 'completed', 29),\n",
       " ('female', 'completed', 32),\n",
       " ('female', 'completed', 34),\n",
       " ('female', 'completed', 35),\n",
       " ('male', 'completed', 39),\n",
       " ('male', 'completed', 40),\n",
       " ('male', 'completed', 40),\n",
       " ('female', 'completed', 40),\n",
       " ('female', 'completed', 42)]"
      ]
     },
     "execution_count": 22,
     "metadata": {},
     "output_type": "execute_result"
    }
   ],
   "source": [
    "query = '''SELECT gender,\n",
    "                  course,\n",
    "                  math_score \n",
    "              FROM performance\n",
    "             WHERE course = 'completed' \n",
    "             ORDER BY math_score;'''\n",
    "             \n",
    "cursor.execute(query).fetchmany(10)"
   ]
  },
  {
   "cell_type": "code",
   "execution_count": 23,
   "id": "0577e19e",
   "metadata": {},
   "outputs": [],
   "source": [
    "conn.close()"
   ]
  }
 ],
 "metadata": {
  "kernelspec": {
   "display_name": "Python 3",
   "language": "python",
   "name": "python3"
  },
  "language_info": {
   "codemirror_mode": {
    "name": "ipython",
    "version": 3
   },
   "file_extension": ".py",
   "mimetype": "text/x-python",
   "name": "python",
   "nbconvert_exporter": "python",
   "pygments_lexer": "ipython3",
   "version": "3.8.8"
  }
 },
 "nbformat": 4,
 "nbformat_minor": 5
}
