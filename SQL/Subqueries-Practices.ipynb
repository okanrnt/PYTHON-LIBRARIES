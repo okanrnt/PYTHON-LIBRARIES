{
 "cells": [
  {
   "cell_type": "code",
   "execution_count": 1,
   "id": "318a9538",
   "metadata": {},
   "outputs": [],
   "source": [
    "import sqlite3 as sql"
   ]
  },
  {
   "cell_type": "code",
   "execution_count": 2,
   "id": "824ef90e",
   "metadata": {},
   "outputs": [],
   "source": [
    "# connecting the dataset\n",
    "conn = sql.connect('new.db')\n",
    "\n",
    "# cursor to execute processes\n",
    "cursor = conn.cursor()"
   ]
  },
  {
   "cell_type": "code",
   "execution_count": 3,
   "id": "28f680fd",
   "metadata": {},
   "outputs": [],
   "source": [
    "# cursor functions\n",
    "\n",
    "def fetchone():\n",
    "    return cursor.execute(query).fetchone()\n",
    "\n",
    "def fetchmany(number):\n",
    "    return cursor.execute(query).fetchmany(number)\n",
    "\n",
    "def fetchall():\n",
    "    return cursor.execute(query).fetchall()"
   ]
  },
  {
   "cell_type": "markdown",
   "id": "5ccc4627",
   "metadata": {},
   "source": [
    "## 1- Writing More Complex Queries"
   ]
  },
  {
   "cell_type": "code",
   "execution_count": 5,
   "id": "6be29aca",
   "metadata": {},
   "outputs": [
    {
     "data": {
      "text/plain": [
       "[('male', 97),\n",
       " ('male', 98),\n",
       " ('female', 99),\n",
       " ('male', 100),\n",
       " ('female', 96),\n",
       " ('female', 97),\n",
       " ('female', 99),\n",
       " ('male', 97),\n",
       " ('male', 99),\n",
       " ('female', 100),\n",
       " ('female', 100),\n",
       " ('male', 97),\n",
       " ('male', 96),\n",
       " ('male', 100),\n",
       " ('male', 100),\n",
       " ('female', 98),\n",
       " ('female', 96),\n",
       " ('female', 97),\n",
       " ('male', 97),\n",
       " ('male', 100),\n",
       " ('male', 98),\n",
       " ('female', 100)]"
      ]
     },
     "execution_count": 5,
     "metadata": {},
     "output_type": "execute_result"
    }
   ],
   "source": [
    "query = '''SELECT gender,\n",
    "                  math_score\n",
    "              FROM performance\n",
    "             WHERE math_score > 95;'''\n",
    "\n",
    "fetchall()"
   ]
  },
  {
   "cell_type": "markdown",
   "id": "e73c991b",
   "metadata": {},
   "source": [
    "## 2- Subqueries"
   ]
  },
  {
   "cell_type": "code",
   "execution_count": 8,
   "id": "53ae8301",
   "metadata": {},
   "outputs": [
    {
     "data": {
      "text/plain": [
       "[('male', 47),\n",
       " ('male', 40),\n",
       " ('male', 64),\n",
       " ('female', 38),\n",
       " ('male', 58),\n",
       " ('male', 40),\n",
       " ('female', 65),\n",
       " ('female', 50),\n",
       " ('female', 18),\n",
       " ('male', 46)]"
      ]
     },
     "execution_count": 8,
     "metadata": {},
     "output_type": "execute_result"
    }
   ],
   "source": [
    "query = '''SELECT gender,\n",
    "                  math_score\n",
    "              FROM performance\n",
    "             WHERE math_score < (SELECT AVG(math_score)\n",
    "                                    FROM performance);'''\n",
    "\n",
    "fetchmany(10)"
   ]
  },
  {
   "cell_type": "markdown",
   "id": "d6c84d91",
   "metadata": {},
   "source": [
    "## 3- Subquery in SELECT"
   ]
  },
  {
   "cell_type": "code",
   "execution_count": 12,
   "id": "1421818e",
   "metadata": {},
   "outputs": [
    {
     "data": {
      "text/plain": [
       "(0.493,)"
      ]
     },
     "execution_count": 12,
     "metadata": {},
     "output_type": "execute_result"
    }
   ],
   "source": [
    "query = '''SELECT CAST(COUNT(*) as FLOAT) / (SELECT COUNT(*)\n",
    "                                                FROM performance) AS proportion_math_avg\n",
    "               FROM performance\n",
    "              WHERE math_score > (SELECT AVG(math_score)\n",
    "                                     FROM performance);'''\n",
    "\n",
    "fetchone()"
   ]
  },
  {
   "cell_type": "markdown",
   "id": "69843f27",
   "metadata": {},
   "source": [
    "## 4- The IN Operator"
   ]
  },
  {
   "cell_type": "code",
   "execution_count": 14,
   "id": "59ef51f2",
   "metadata": {},
   "outputs": [
    {
     "data": {
      "text/plain": [
       "[('group A', \"associate's degree\"),\n",
       " ('group D', 'high school'),\n",
       " ('group D', \"associate's degree\"),\n",
       " ('group A', 'some college'),\n",
       " ('group A', \"master's degree\"),\n",
       " ('group D', 'high school'),\n",
       " ('group D', 'some college'),\n",
       " ('group D', \"bachelor's degree\"),\n",
       " ('group A', \"master's degree\"),\n",
       " ('group D', \"master's degree\")]"
      ]
     },
     "execution_count": 14,
     "metadata": {},
     "output_type": "execute_result"
    }
   ],
   "source": [
    "query = '''SELECT race_ethnicity,\n",
    "                  parental_education\n",
    "              FROM performance\n",
    "             WHERE race_ethnicity IN ('group A', 'group D')'''\n",
    "\n",
    "fetchmany(10)"
   ]
  },
  {
   "cell_type": "markdown",
   "id": "5c50bd84",
   "metadata": {},
   "source": [
    "## 5- Returning Multiple Results in Subqueries"
   ]
  },
  {
   "cell_type": "code",
   "execution_count": 26,
   "id": "0e428d41",
   "metadata": {},
   "outputs": [
    {
     "data": {
      "text/plain": [
       "[('group D', 'high school'),\n",
       " ('group D', \"associate's degree\"),\n",
       " ('group D', 'high school'),\n",
       " ('group D', 'some college'),\n",
       " ('group D', \"bachelor's degree\"),\n",
       " ('group D', \"master's degree\"),\n",
       " ('group D', 'some college'),\n",
       " ('group E', \"master's degree\"),\n",
       " ('group D', 'some college'),\n",
       " ('group E', 'some college')]"
      ]
     },
     "execution_count": 26,
     "metadata": {},
     "output_type": "execute_result"
    }
   ],
   "source": [
    "query = '''SELECT race_ethnicity,\n",
    "                  parental_education\n",
    "              FROM performance\n",
    "             WHERE race_ethnicity IN (SELECT race_ethnicity\n",
    "                                         FROM performance\n",
    "                                        GROUP BY race_ethnicity\n",
    "                                        ORDER BY AVG(math_score) DESC\n",
    "                                        LIMIT 2\n",
    "                                      );'''\n",
    "                                      \n",
    "fetchmany(10)"
   ]
  },
  {
   "cell_type": "markdown",
   "id": "ecf37a20",
   "metadata": {},
   "source": [
    "## 6- Integrating A Subquery With The Outer Query"
   ]
  },
  {
   "cell_type": "code",
   "execution_count": 43,
   "id": "0b282d50",
   "metadata": {},
   "outputs": [
    {
     "data": {
      "text/plain": [
       "[('male', 'group A', 44.0),\n",
       " ('male', 'group B', 39.0),\n",
       " ('male', 'group D', 67.0),\n",
       " ('female', 'group B', 50.0),\n",
       " ('male', 'group C', 52.0),\n",
       " ('male', 'group D', 43.0),\n",
       " ('female', 'group A', 58.0),\n",
       " ('female', 'group B', 28.0),\n",
       " ('male', 'group C', 46.0),\n",
       " ('female', 'group C', 61.0)]"
      ]
     },
     "execution_count": 43,
     "metadata": {},
     "output_type": "execute_result"
    }
   ],
   "source": [
    "query = '''SELECT gender,\n",
    "                  race_ethnicity,\n",
    "                  CAST(writing_score AS FLOAT) AS w\n",
    "             FROM performance\n",
    "            WHERE w < (SELECT AVG(writing_score)\n",
    "                         FROM performance);'''\n",
    "            \n",
    "\n",
    "fetchmany(10)"
   ]
  },
  {
   "cell_type": "code",
   "execution_count": 44,
   "id": "82ebaa8b",
   "metadata": {},
   "outputs": [],
   "source": [
    "# closing the dataset\n",
    "conn.close()"
   ]
  }
 ],
 "metadata": {
  "kernelspec": {
   "display_name": "Python 3",
   "language": "python",
   "name": "python3"
  },
  "language_info": {
   "codemirror_mode": {
    "name": "ipython",
    "version": 3
   },
   "file_extension": ".py",
   "mimetype": "text/x-python",
   "name": "python",
   "nbconvert_exporter": "python",
   "pygments_lexer": "ipython3",
   "version": "3.8.8"
  }
 },
 "nbformat": 4,
 "nbformat_minor": 5
}
