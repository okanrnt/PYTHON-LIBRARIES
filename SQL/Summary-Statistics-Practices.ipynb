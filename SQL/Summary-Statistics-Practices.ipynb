{
 "cells": [
  {
   "cell_type": "code",
   "execution_count": 41,
   "id": "a0303c7f",
   "metadata": {},
   "outputs": [],
   "source": [
    "import sqlite3 as sql"
   ]
  },
  {
   "cell_type": "markdown",
   "id": "f279cf92",
   "metadata": {},
   "source": [
    "## 1- Connect to database and make a cursor"
   ]
  },
  {
   "cell_type": "code",
   "execution_count": 59,
   "id": "c1161608",
   "metadata": {},
   "outputs": [],
   "source": [
    "conn = sql.connect('new.db')\n",
    "cursor = conn.cursor()"
   ]
  },
  {
   "cell_type": "code",
   "execution_count": 60,
   "id": "2c96b48b",
   "metadata": {},
   "outputs": [],
   "source": [
    "# write funtions to get easier the info from table\n",
    "\n",
    "def fetchone():\n",
    "    return cursor.execute(query).fetchone()\n",
    "\n",
    "def fetchall():\n",
    "    return cursor.execute(query).fetchall()\n",
    "\n",
    "def fetchmany(limit):\n",
    "    return cursor.execute(query).fetchmany(limit)"
   ]
  },
  {
   "cell_type": "markdown",
   "id": "17a19b21",
   "metadata": {},
   "source": [
    "## 2- Get all the columns from the table(limit 5)"
   ]
  },
  {
   "cell_type": "code",
   "execution_count": 57,
   "id": "caf66ffb",
   "metadata": {},
   "outputs": [
    {
     "data": {
      "text/plain": [
       "[('female', 'group B', \"bachelor's degree\", 'standard', 'none', 72, 72, 74),\n",
       " ('female', 'group C', 'some college', 'standard', 'completed', 69, 90, 88),\n",
       " ('female', 'group B', \"master's degree\", 'standard', 'none', 90, 95, 93),\n",
       " ('male', 'group A', \"associate's degree\", 'free/reduced', 'none', 47, 57, 44),\n",
       " ('male', 'group C', 'some college', 'standard', 'none', 76, 78, 75)]"
      ]
     },
     "execution_count": 57,
     "metadata": {},
     "output_type": "execute_result"
    }
   ],
   "source": [
    "query = '''SELECT * \n",
    "             FROM performance\n",
    "            LIMIT 5;'''\n",
    "\n",
    "fetchall()"
   ]
  },
  {
   "cell_type": "markdown",
   "id": "7d8d23a0",
   "metadata": {},
   "source": [
    "## 3- Find minimum writing score among students"
   ]
  },
  {
   "cell_type": "code",
   "execution_count": 48,
   "id": "b72dd17f",
   "metadata": {},
   "outputs": [
    {
     "data": {
      "text/plain": [
       "(10,)"
      ]
     },
     "execution_count": 48,
     "metadata": {},
     "output_type": "execute_result"
    }
   ],
   "source": [
    "query = '''SELECT MIN(writing_score)\n",
    "            FROM performance'''\n",
    "\n",
    "fetchone()"
   ]
  },
  {
   "cell_type": "markdown",
   "id": "9a47dca0",
   "metadata": {},
   "source": [
    "## 4- Find total writing score"
   ]
  },
  {
   "cell_type": "code",
   "execution_count": 49,
   "id": "8ee822bb",
   "metadata": {},
   "outputs": [
    {
     "data": {
      "text/plain": [
       "(68054,)"
      ]
     },
     "execution_count": 49,
     "metadata": {},
     "output_type": "execute_result"
    }
   ],
   "source": [
    "query = '''SELECT SUM(writing_score)\n",
    "              FROM performance;'''\n",
    "\n",
    "fetchone()"
   ]
  },
  {
   "cell_type": "markdown",
   "id": "e213ba33",
   "metadata": {},
   "source": [
    "## 5- Find number of students that writing score is higher than 85"
   ]
  },
  {
   "cell_type": "code",
   "execution_count": 50,
   "id": "84f69c3e",
   "metadata": {},
   "outputs": [
    {
     "data": {
      "text/plain": [
       "(121,)"
      ]
     },
     "execution_count": 50,
     "metadata": {},
     "output_type": "execute_result"
    }
   ],
   "source": [
    "query = '''SELECT COUNT(gender)\n",
    "              FROM performance\n",
    "             WHERE writing_score > 85;'''\n",
    "\n",
    "fetchone()"
   ]
  },
  {
   "cell_type": "markdown",
   "id": "a7d1bcf9",
   "metadata": {},
   "source": [
    "## 6- Find number of students that completed the course"
   ]
  },
  {
   "cell_type": "code",
   "execution_count": 61,
   "id": "a90863c6",
   "metadata": {},
   "outputs": [
    {
     "data": {
      "text/plain": [
       "(358, 358)"
      ]
     },
     "execution_count": 61,
     "metadata": {},
     "output_type": "execute_result"
    }
   ],
   "source": [
    "query = '''SELECT COUNT(*), COUNT(course)\n",
    "              FROM performance\n",
    "             WHERE course='completed';'''\n",
    "\n",
    "fetchone()"
   ]
  },
  {
   "cell_type": "markdown",
   "id": "3492dcac",
   "metadata": {},
   "source": [
    "## 7- Calculate average,minimum and maximum values of math score"
   ]
  },
  {
   "cell_type": "code",
   "execution_count": 52,
   "id": "ff50e14c",
   "metadata": {},
   "outputs": [
    {
     "data": {
      "text/plain": [
       "[(66.089, 0, 100)]"
      ]
     },
     "execution_count": 52,
     "metadata": {},
     "output_type": "execute_result"
    }
   ],
   "source": [
    "query = '''SELECT AVG(math_score),\n",
    "                  MIN(math_score),\n",
    "                  MAX(math_Score)\n",
    "             FROM performance;'''\n",
    "\n",
    "fetchall()"
   ]
  },
  {
   "cell_type": "markdown",
   "id": "a3a5ffca",
   "metadata": {},
   "source": [
    "## 8- Calculate count of students alias `Number of Students` and maximum math score alias `Higest Math Score`"
   ]
  },
  {
   "cell_type": "code",
   "execution_count": 53,
   "id": "d824f1e4",
   "metadata": {},
   "outputs": [
    {
     "data": {
      "text/plain": [
       "(1000, 100)"
      ]
     },
     "execution_count": 53,
     "metadata": {},
     "output_type": "execute_result"
    }
   ],
   "source": [
    "query = '''SELECT COUNT(*) AS 'Number of Students',\n",
    "                  MAX(math_score) AS 'Highest Math Score'\n",
    "              FROM performance;'''\n",
    "\n",
    "fetchone()"
   ]
  },
  {
   "cell_type": "markdown",
   "id": "6eb8863c",
   "metadata": {},
   "source": [
    "## 9- Calculate count of unique values of gender,lunch and course columns"
   ]
  },
  {
   "cell_type": "code",
   "execution_count": 54,
   "id": "3b92b273",
   "metadata": {},
   "outputs": [
    {
     "data": {
      "text/plain": [
       "[(2, 2, 2)]"
      ]
     },
     "execution_count": 54,
     "metadata": {},
     "output_type": "execute_result"
    }
   ],
   "source": [
    "query = '''SELECT COUNT(DISTINCT gender) AS unique_gender,\n",
    "                  COUNT(DISTINCT lunch) AS unique_lunch,\n",
    "                  COUNT(DISTINCT course) AS unique_course\n",
    "              FROM performance;'''\n",
    "\n",
    "fetchall()"
   ]
  },
  {
   "cell_type": "markdown",
   "id": "27ff0776",
   "metadata": {},
   "source": [
    "## 10- Calculate number of characters of parental_education column and order in descending order by the math_score(limit 10)"
   ]
  },
  {
   "cell_type": "code",
   "execution_count": 55,
   "id": "6d7c9f2c",
   "metadata": {},
   "outputs": [
    {
     "data": {
      "text/plain": [
       "[(\"Education:ASSOCIATE'S DEGREE\", 93, 100, 18),\n",
       " ('Education:SOME COLLEGE', 97, 100, 12),\n",
       " (\"Education:BACHELOR'S DEGREE\", 100, 100, 17),\n",
       " ('Education:SOME COLLEGE', 86, 100, 12),\n",
       " ('Education:SOME COLLEGE', 99, 100, 12),\n",
       " (\"Education:BACHELOR'S DEGREE\", 100, 100, 17),\n",
       " (\"Education:ASSOCIATE'S DEGREE\", 100, 100, 18),\n",
       " (\"Education:BACHELOR'S DEGREE\", 100, 99, 17),\n",
       " ('Education:HIGH SCHOOL', 90, 99, 11),\n",
       " ('Education:SOME COLLEGE', 81, 99, 12)]"
      ]
     },
     "execution_count": 55,
     "metadata": {},
     "output_type": "execute_result"
    }
   ],
   "source": [
    "query = '''SELECT 'Education:' || UPPER(parental_education) AS 'Parental_Edu',\n",
    "                  writing_score,\n",
    "                  math_score,\n",
    "                  LENGTH(parental_education) AS 'length_of_parental_edu'\n",
    "              FROM performance\n",
    "             ORDER BY math_score DESC;'''\n",
    "\n",
    "fetchmany(10)"
   ]
  },
  {
   "cell_type": "markdown",
   "id": "c8c2b36a",
   "metadata": {},
   "source": [
    "## 11- Substract math score from writing score then give alias substract and order in ascending order by the substract(limit 15)"
   ]
  },
  {
   "cell_type": "code",
   "execution_count": 56,
   "id": "08e54919",
   "metadata": {},
   "outputs": [
    {
     "data": {
      "text/plain": [
       "[('male', 'standard', 'none', -23),\n",
       " ('male', 'standard', 'none', -21),\n",
       " ('male', 'standard', 'none', -21),\n",
       " ('male', 'standard', 'none', -21),\n",
       " ('male', 'standard', 'none', -21),\n",
       " ('male', 'standard', 'none', -20),\n",
       " ('male', 'standard', 'none', -20),\n",
       " ('male', 'standard', 'none', -19),\n",
       " ('male', 'standard', 'none', -19),\n",
       " ('male', 'free/reduced', 'none', -18),\n",
       " ('male', 'standard', 'completed', -18),\n",
       " ('male', 'free/reduced', 'completed', -17),\n",
       " ('male', 'standard', 'none', -17),\n",
       " ('male', 'standard', 'none', -17),\n",
       " ('male', 'standard', 'none', -17)]"
      ]
     },
     "execution_count": 56,
     "metadata": {},
     "output_type": "execute_result"
    }
   ],
   "source": [
    "query = '''SELECT gender,\n",
    "                  lunch,\n",
    "                  course,\n",
    "                  writing_score - math_score AS 'substract' \n",
    "              FROM performance\n",
    "             ORDER BY substract\n",
    "             LIMIT 15;'''\n",
    "\n",
    "fetchall()"
   ]
  },
  {
   "cell_type": "markdown",
   "id": "fd796d0d",
   "metadata": {},
   "source": [
    "## 12- Close the database connection "
   ]
  },
  {
   "cell_type": "code",
   "execution_count": 58,
   "id": "320c9cc2",
   "metadata": {},
   "outputs": [],
   "source": [
    "conn.close()"
   ]
  }
 ],
 "metadata": {
  "kernelspec": {
   "display_name": "Python 3",
   "language": "python",
   "name": "python3"
  },
  "language_info": {
   "codemirror_mode": {
    "name": "ipython",
    "version": 3
   },
   "file_extension": ".py",
   "mimetype": "text/x-python",
   "name": "python",
   "nbconvert_exporter": "python",
   "pygments_lexer": "ipython3",
   "version": "3.8.8"
  }
 },
 "nbformat": 4,
 "nbformat_minor": 5
}
