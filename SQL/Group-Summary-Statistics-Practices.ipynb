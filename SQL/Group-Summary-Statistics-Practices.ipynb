{
 "cells": [
  {
   "cell_type": "code",
   "execution_count": 23,
   "id": "56abb7a3",
   "metadata": {},
   "outputs": [],
   "source": [
    "import sqlite3 as sql"
   ]
  },
  {
   "cell_type": "code",
   "execution_count": 24,
   "id": "b957e76a",
   "metadata": {},
   "outputs": [],
   "source": [
    "# connecting the database \n",
    "conn = sql.connect('new.db')\n",
    "\n",
    "# cursor to execute process\n",
    "cursor = conn.cursor()"
   ]
  },
  {
   "cell_type": "code",
   "execution_count": 60,
   "id": "1e2e01fa",
   "metadata": {},
   "outputs": [],
   "source": [
    "# making functions to execute faster a process\n",
    "\n",
    "def fetchone():\n",
    "    return cursor.execute(query).fetchone()\n",
    "\n",
    "def fetchmany(number):\n",
    "    return cursor.execute(query).fetchmany(number)\n",
    "\n",
    "def fetchall():\n",
    "    return cursor.execute(query).fetchall()"
   ]
  },
  {
   "cell_type": "markdown",
   "id": "112945a9",
   "metadata": {},
   "source": [
    "## 1- If/Then in SQL"
   ]
  },
  {
   "cell_type": "code",
   "execution_count": 29,
   "id": "08fdb6e9",
   "metadata": {},
   "outputs": [
    {
     "data": {
      "text/plain": [
       "[(72, 'Medium'),\n",
       " (69, 'Medium'),\n",
       " (90, 'Hihg'),\n",
       " (47, 'Low'),\n",
       " (76, 'Medium'),\n",
       " (71, 'Medium'),\n",
       " (88, 'Hihg'),\n",
       " (40, 'Low'),\n",
       " (64, 'Medium'),\n",
       " (38, 'Low')]"
      ]
     },
     "execution_count": 29,
     "metadata": {},
     "output_type": "execute_result"
    }
   ],
   "source": [
    "query = '''SELECT math_score,\n",
    "                  CASE\n",
    "                  WHEN math_score < 50 THEN 'Low'\n",
    "                  WHEN math_score BETWEEN 50 AND 80 THEN 'Medium'\n",
    "                  ELSE 'Hihg'\n",
    "                  END AS Math_rating\n",
    "              FROM performance;'''\n",
    "\n",
    "fetchmany(10)"
   ]
  },
  {
   "cell_type": "markdown",
   "id": "168f27d1",
   "metadata": {},
   "source": [
    "## 2- Calculating Group-Level Summary Statistics"
   ]
  },
  {
   "cell_type": "code",
   "execution_count": 40,
   "id": "c91ccb8c",
   "metadata": {},
   "outputs": [
    {
     "data": {
      "text/plain": [
       "[('group A', 5485),\n",
       " ('group B', 12056),\n",
       " ('group C', 20564),\n",
       " ('group D', 17649),\n",
       " ('group E', 10335)]"
      ]
     },
     "execution_count": 40,
     "metadata": {},
     "output_type": "execute_result"
    }
   ],
   "source": [
    "query = '''SELECT race_ethnicity,\n",
    "                  SUM(math_score) AS Total_math\n",
    "              FROM performance\n",
    "             GROUP BY race_ethnicity;'''\n",
    "\n",
    "fetchall()"
   ]
  },
  {
   "cell_type": "markdown",
   "id": "4b9acdbf",
   "metadata": {},
   "source": [
    "## 3- Calculating Group-Level Summary Statistics"
   ]
  },
  {
   "cell_type": "code",
   "execution_count": 41,
   "id": "9017baca",
   "metadata": {},
   "outputs": [
    {
     "data": {
      "text/plain": [
       "[('group A', 61.62921348314607),\n",
       " ('group B', 63.45263157894737),\n",
       " ('group C', 64.46394984326018),\n",
       " ('group D', 67.36259541984732),\n",
       " ('group E', 73.82142857142857)]"
      ]
     },
     "execution_count": 41,
     "metadata": {},
     "output_type": "execute_result"
    }
   ],
   "source": [
    "query = '''SELECT race_ethnicity,\n",
    "                  AVG(math_score) AS Average_math\n",
    "              FROM performance\n",
    "             GROUP BY race_ethnicity;'''\n",
    "\n",
    "fetchall()"
   ]
  },
  {
   "cell_type": "markdown",
   "id": "2b9cd008",
   "metadata": {},
   "source": [
    "## 4- Multiple Summary Statistics by Group"
   ]
  },
  {
   "cell_type": "code",
   "execution_count": 32,
   "id": "9203f69b",
   "metadata": {},
   "outputs": [
    {
     "name": "stdout",
     "output_type": "stream",
     "text": [
      "('female', 32962, 63.63, 100)\n",
      "('male', 33127, 68.73, 73)\n"
     ]
    }
   ],
   "source": [
    "query = '''SELECT gender,\n",
    "                  SUM(math_score) AS total_math,\n",
    "                  ROUND(AVG(math_score),2) AS average_math,\n",
    "                  MAX(math_score) - MIN(math_score) AS range_math\n",
    "              FROM performance\n",
    "             GROUP BY gender;'''\n",
    "\n",
    "for v in fetchall():\n",
    "    print(v)"
   ]
  },
  {
   "cell_type": "markdown",
   "id": "d32d6bd4",
   "metadata": {},
   "source": [
    "## 5- Multiple Group Columns"
   ]
  },
  {
   "cell_type": "code",
   "execution_count": 31,
   "id": "03a62efb",
   "metadata": {},
   "outputs": [
    {
     "data": {
      "text/plain": [
       "[('female', 'group A', 2443, 67.86111111111111),\n",
       " ('female', 'group B', 7285, 70.04807692307692),\n",
       " ('female', 'group C', 12920, 71.77777777777777),\n",
       " ('female', 'group D', 9678, 75.02325581395348),\n",
       " ('female', 'group E', 5212, 75.53623188405797),\n",
       " ('male', 'group A', 3135, 59.15094339622642),\n",
       " ('male', 'group B', 5179, 60.22093023255814),\n",
       " ('male', 'group C', 8717, 62.71223021582734),\n",
       " ('male', 'group D', 8700, 65.41353383458646),\n",
       " ('male', 'group E', 4785, 67.3943661971831)]"
      ]
     },
     "execution_count": 31,
     "metadata": {},
     "output_type": "execute_result"
    }
   ],
   "source": [
    "query = '''SELECT gender,race_ethnicity,\n",
    "                  SUM(writing_score) AS total_writing,\n",
    "                  AVG(writing_Score) AS average_writing\n",
    "              FROM performance\n",
    "             GROUP BY gender,race_ethnicity;'''\n",
    "\n",
    "fetchall()"
   ]
  },
  {
   "cell_type": "markdown",
   "id": "2671d775",
   "metadata": {},
   "source": [
    "## 6- Querying Virtual Columns With the HAVING Statement"
   ]
  },
  {
   "cell_type": "code",
   "execution_count": 55,
   "id": "a78319f6",
   "metadata": {},
   "outputs": [
    {
     "data": {
      "text/plain": [
       "[('group C', 31.9), ('group D', 26.2)]"
      ]
     },
     "execution_count": 55,
     "metadata": {},
     "output_type": "execute_result"
    }
   ],
   "source": [
    "query = '''SELECT race_ethnicity,\n",
    "                  ROUND((COUNT(*) / 1000.0) * 100,2) AS percentage\n",
    "               FROM performance\n",
    "              GROUP BY race_ethnicity\n",
    "              HAVING percentage > 25;'''\n",
    "\n",
    "fetchall()"
   ]
  },
  {
   "cell_type": "markdown",
   "id": "95568024",
   "metadata": {},
   "source": [
    "## 7- Casting"
   ]
  },
  {
   "cell_type": "code",
   "execution_count": 58,
   "id": "f71f00e6",
   "metadata": {},
   "outputs": [
    {
     "data": {
      "text/plain": [
       "[('group D', 0.9983676134508651),\n",
       " ('group C', 1.0188103711235383),\n",
       " ('group E', 1.0227068120436131),\n",
       " ('group B', 1.026716944801027),\n",
       " ('group A', 1.031911079239871)]"
      ]
     },
     "execution_count": 58,
     "metadata": {},
     "output_type": "execute_result"
    }
   ],
   "source": [
    "query = '''SELECT race_ethnicity,\n",
    "                  CAST(SUM(reading_score) AS Float) / CAST(SUM(writing_score) AS Float) AS rw\n",
    "              FROM performance\n",
    "             GROUP BY race_ethnicity\n",
    "             ORDER BY rw;'''\n",
    "\n",
    "fetchall()"
   ]
  },
  {
   "cell_type": "code",
   "execution_count": 61,
   "id": "bc69a186",
   "metadata": {},
   "outputs": [],
   "source": [
    "#closing the connection\n",
    "conn.close()"
   ]
  }
 ],
 "metadata": {
  "kernelspec": {
   "display_name": "Python 3",
   "language": "python",
   "name": "python3"
  },
  "language_info": {
   "codemirror_mode": {
    "name": "ipython",
    "version": 3
   },
   "file_extension": ".py",
   "mimetype": "text/x-python",
   "name": "python",
   "nbconvert_exporter": "python",
   "pygments_lexer": "ipython3",
   "version": "3.8.8"
  }
 },
 "nbformat": 4,
 "nbformat_minor": 5
}
