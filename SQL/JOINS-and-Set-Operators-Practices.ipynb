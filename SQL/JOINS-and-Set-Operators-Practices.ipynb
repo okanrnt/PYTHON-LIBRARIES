{
 "cells": [
  {
   "cell_type": "code",
   "execution_count": 1,
   "id": "3021d1d3",
   "metadata": {},
   "outputs": [],
   "source": [
    "import sqlite3 as sql"
   ]
  },
  {
   "cell_type": "code",
   "execution_count": 2,
   "id": "cc867268",
   "metadata": {},
   "outputs": [],
   "source": [
    "conn = sql.connect('new.db')\n",
    "cursor = conn.cursor()"
   ]
  },
  {
   "cell_type": "markdown",
   "id": "3a2d6c8b",
   "metadata": {},
   "source": [
    "## 1. Joining Two Tables"
   ]
  },
  {
   "cell_type": "code",
   "execution_count": null,
   "id": "195554b8",
   "metadata": {},
   "outputs": [],
   "source": [
    "query = '''SELECT * \n",
    "            FROM performance \n",
    "            JOIN survey \n",
    "              ON performance.student_id = survey.student_id;'''\n",
    "\n",
    "cursor.execute(query).fetchall()"
   ]
  },
  {
   "cell_type": "markdown",
   "id": "ba0957c1",
   "metadata": {},
   "source": [
    "## 2. Selecting Columns From An Inner Join"
   ]
  },
  {
   "cell_type": "code",
   "execution_count": null,
   "id": "7b4d4c1e",
   "metadata": {},
   "outputs": [],
   "source": [
    "query = '''SELECT performance.math_score,\n",
    "                  performance.reading_score,\n",
    "                  performance.writing_score,\n",
    "                  survey.plays_sports,\n",
    "                  survey.suspended\n",
    "             FROM performance\n",
    "             JOIN survey\n",
    "               ON performance.student_id = survey.student_id;'''\n",
    "\n",
    "cursor.execute(query).fetchall()"
   ]
  },
  {
   "cell_type": "markdown",
   "id": "aec6baec",
   "metadata": {},
   "source": [
    "## 3. Aliasing Tables"
   ]
  },
  {
   "cell_type": "code",
   "execution_count": null,
   "id": "aa549f76",
   "metadata": {},
   "outputs": [],
   "source": [
    "query = '''SELECT pu.student_id,\n",
    "                  pu.math_score AS new_math,\n",
    "                  p.math_score AS old_math\n",
    "             FROM performance_updated AS pu\n",
    "             JOIN performance AS p\n",
    "             ON pu.student_id = p.student_id;'''\n",
    "\n",
    "cursor.execute(query).fetchall()"
   ]
  },
  {
   "cell_type": "markdown",
   "id": "ce6ce515",
   "metadata": {},
   "source": [
    "## 4. Summarizing Data from a Joined Table"
   ]
  },
  {
   "cell_type": "code",
   "execution_count": null,
   "id": "32994394",
   "metadata": {},
   "outputs": [],
   "source": [
    "query = '''SELECT AVG(s.hours_per_week) AS hours_per_week_avg\n",
    "             FROM performance_updated AS pu\n",
    "             JOIN survey AS s\n",
    "               ON pu.student_id = s.student_id\n",
    "            WHERE gender == 'male';'''\n",
    "\n",
    "cursor.execute(query).fetchall()"
   ]
  },
  {
   "cell_type": "markdown",
   "id": "95f83a6d",
   "metadata": {},
   "source": [
    "## 5. Summarizing Data from a Joined Table with group by"
   ]
  },
  {
   "cell_type": "code",
   "execution_count": null,
   "id": "5bcf183f",
   "metadata": {},
   "outputs": [],
   "source": [
    "query = '''SELECT pu.race_group,\n",
    "                  pu.gender,\n",
    "                  AVG(s.suspended) * 100 AS percentage_suspended\n",
    "               FROM performance_updated AS pu\n",
    "               JOIN survey AS s\n",
    "                 ON pu.student_id = s.student_id\n",
    "              GROUP BY pu.race_group,pu.gender;'''\n",
    "\n",
    "cursor.execute(query).fetchall()"
   ]
  },
  {
   "cell_type": "markdown",
   "id": "4bc3e1a9",
   "metadata": {},
   "source": [
    "## 6. Practice with Self Joins"
   ]
  },
  {
   "cell_type": "code",
   "execution_count": null,
   "id": "2605519c",
   "metadata": {},
   "outputs": [],
   "source": [
    "query = '''SELECT p1.student_id, \n",
    "                  p1.math_score AS old_math,\n",
    "                  p2.math_score AS new_math\n",
    "              FROM perf_with_retakes AS p1\n",
    "              JOIN perf_with_retakes AS p2\n",
    "                ON p1.student_id = p2.student_id \n",
    "               AND p1.math_score <> p2.math_score;'''\n",
    "\n",
    "cursor.execute(query).fetchall()"
   ]
  },
  {
   "cell_type": "markdown",
   "id": "09b93ef4",
   "metadata": {},
   "source": [
    "## 7. Practice with LEFT JOIN"
   ]
  },
  {
   "cell_type": "code",
   "execution_count": null,
   "id": "b30ebafa",
   "metadata": {},
   "outputs": [],
   "source": [
    "query = '''SELECT s.student_id IS NULL AS survey_missing,\n",
    "                  COUNT(*) AS n_occurences\n",
    "              FROM performance_updated AS pu\n",
    "              LEFT JOIN survey AS s\n",
    "                ON pu.student_id = s.student_id\n",
    "            GROUP BY survey_missing;'''\n",
    "\n",
    "cursor.execute(query).fetchall()"
   ]
  },
  {
   "cell_type": "markdown",
   "id": "96685f35",
   "metadata": {},
   "source": [
    "## 8. Practice with Non-Equi Joins"
   ]
  },
  {
   "cell_type": "code",
   "execution_count": null,
   "id": "743a8867",
   "metadata": {},
   "outputs": [],
   "source": [
    "query = '''SELECT p1.student_id,\n",
    "                  CAST(COUNT(*) AS REAL) / 1000 AS quantile\n",
    "              FROM performance AS p1\n",
    "              LEFT JOIN performance AS p2\n",
    "                ON p1.reading_score >=  p2.reading_score\n",
    "             GROUP BY p1.student_id;'''\n",
    "\n",
    "cursor.execute(query).fetchall()"
   ]
  },
  {
   "cell_type": "markdown",
   "id": "2281c8d9",
   "metadata": {},
   "source": [
    "## 9. Practice with UNION 1"
   ]
  },
  {
   "cell_type": "code",
   "execution_count": null,
   "id": "93515908",
   "metadata": {},
   "outputs": [],
   "source": [
    "# Duplicate rows are acceptable\n",
    "query = '''SELECT * \n",
    "            FROM performance\n",
    "    \n",
    "           UNION ALL\n",
    "  \n",
    "           SELECT *\n",
    "            FROM performance_updated'''\n",
    "\n",
    "cursor.execute(query).fetchall()"
   ]
  },
  {
   "cell_type": "markdown",
   "id": "c20a8e6a",
   "metadata": {},
   "source": [
    "## 10. Practice with UNION 2"
   ]
  },
  {
   "cell_type": "code",
   "execution_count": null,
   "id": "7b287205",
   "metadata": {},
   "outputs": [],
   "source": [
    "# Duplicate rows should be removed\n",
    "query = '''SELECT *\n",
    "            FROM performance\n",
    "    \n",
    "           UNION\n",
    "\n",
    "           SELECT *\n",
    "            FROM performance_updated;'''\n",
    "\n",
    "cursor.execute(query).fetchall()"
   ]
  },
  {
   "cell_type": "markdown",
   "id": "507ad96a",
   "metadata": {},
   "source": [
    "## 11.  Practice with INTERSECT"
   ]
  },
  {
   "cell_type": "code",
   "execution_count": null,
   "id": "fdf47727",
   "metadata": {},
   "outputs": [],
   "source": [
    "query = '''SELECT *\n",
    "            FROM performance\n",
    "    \n",
    "           INTERSECT\n",
    "  \n",
    "           SELECT * \n",
    "            FROM performance_updated;'''\n",
    "\n",
    "cursor.execute(query).fetchall()"
   ]
  },
  {
   "cell_type": "markdown",
   "id": "ad282dbf",
   "metadata": {},
   "source": [
    "## 12. Practice with EXCEPT"
   ]
  },
  {
   "cell_type": "code",
   "execution_count": null,
   "id": "4f9535d0",
   "metadata": {},
   "outputs": [],
   "source": [
    "query = '''SELECT *\n",
    "            FROM performance_updated\n",
    "    \n",
    "           EXCEPT\n",
    "  \n",
    "           SELECT *\n",
    "            FROM performance;'''\n",
    "\n",
    "cursor.execute(query).fetchall()"
   ]
  },
  {
   "cell_type": "code",
   "execution_count": 3,
   "id": "f7eade96",
   "metadata": {},
   "outputs": [],
   "source": [
    "conn.close()"
   ]
  }
 ],
 "metadata": {
  "kernelspec": {
   "display_name": "Python 3",
   "language": "python",
   "name": "python3"
  },
  "language_info": {
   "codemirror_mode": {
    "name": "ipython",
    "version": 3
   },
   "file_extension": ".py",
   "mimetype": "text/x-python",
   "name": "python",
   "nbconvert_exporter": "python",
   "pygments_lexer": "ipython3",
   "version": "3.8.8"
  }
 },
 "nbformat": 4,
 "nbformat_minor": 5
}
