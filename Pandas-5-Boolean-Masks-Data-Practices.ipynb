{
 "cells": [
  {
   "cell_type": "code",
   "execution_count": 82,
   "id": "a90920f8",
   "metadata": {},
   "outputs": [],
   "source": [
    "import numpy as np\n",
    "import pandas as pd"
   ]
  },
  {
   "cell_type": "markdown",
   "id": "021cfec1",
   "metadata": {},
   "source": [
    "### 1- Use the Country column (index 0) as the DataFrame index"
   ]
  },
  {
   "cell_type": "code",
   "execution_count": 30,
   "id": "a7132746",
   "metadata": {},
   "outputs": [],
   "source": [
    "countries = pd.read_csv('countries.csv',index_col='Country')"
   ]
  },
  {
   "cell_type": "code",
   "execution_count": 31,
   "id": "a4fb0eea",
   "metadata": {},
   "outputs": [],
   "source": [
    "name_dict = {\n",
    "    'Original Name': 'New Name',\n",
    "    'Area (sq. mi.)': 'Area',\n",
    "    'Pop. Density (per sq. mi.)': 'Pop Density',\n",
    "    'Coastline (coast/area ratio)': 'Coastline',\n",
    "    'Net migration': 'Migration',\n",
    "    'Infant mortality (per 1000 births)': 'Infant Mortality',\n",
    "    'GDP ($ per capita)': 'GDP Capita',\n",
    "    'Literacy (%)': 'Literacy',\n",
    "    'Phones (per 1000)': 'Phones',\n",
    "    'Arable (%)': 'Arable',\n",
    "    'Crops (%)': 'Crops',\n",
    "    'Other (%)': 'Other'    \n",
    "}\n",
    "\n",
    "countries.rename(columns=name_dict,inplace=True)"
   ]
  },
  {
   "cell_type": "code",
   "execution_count": 32,
   "id": "507167b5",
   "metadata": {},
   "outputs": [],
   "source": [
    "cols_to_change = [\n",
    "    'Pop Density',\n",
    "    'Coastline',\n",
    "    'Migration',\n",
    "    'Infant Mortality',\n",
    "    'Literacy',\n",
    "    'Phones',\n",
    "    'Arable',\n",
    "    'Crops',\n",
    "    'Other',\n",
    "    'Climate',\n",
    "    'Birthrate',\n",
    "    'Deathrate',\n",
    "    'Agriculture',\n",
    "    'Industry',\n",
    "    'Service'\n",
    "]\n",
    "\n",
    "for col in cols_to_change:\n",
    "    countries[col] = countries[col].str.replace(',','.').astype(float)"
   ]
  },
  {
   "cell_type": "markdown",
   "id": "9e1206d9",
   "metadata": {},
   "source": [
    "### 2- The Birthrate is smaller than the Deathrate"
   ]
  },
  {
   "cell_type": "code",
   "execution_count": 97,
   "id": "cbd25169",
   "metadata": {},
   "outputs": [],
   "source": [
    "birth_vs_death = countries[countries['Birthrate'] < countries['Deathrate']]"
   ]
  },
  {
   "cell_type": "markdown",
   "id": "32cccf54",
   "metadata": {},
   "source": [
    "### 3- The Literacy is 100%"
   ]
  },
  {
   "cell_type": "code",
   "execution_count": 98,
   "id": "f9899e70",
   "metadata": {},
   "outputs": [],
   "source": [
    "literacy_100 = countries[countries['Literacy'] == 100]"
   ]
  },
  {
   "cell_type": "markdown",
   "id": "9c1bfd8a",
   "metadata": {},
   "source": [
    "### 4- The GDP Capita is larger than the average value of the GDP Capita column"
   ]
  },
  {
   "cell_type": "code",
   "execution_count": 99,
   "id": "50c0f37e",
   "metadata": {},
   "outputs": [],
   "source": [
    "above_average_gdp = countries[countries['GDP Capita'].mean() < countries['GDP Capita']]"
   ]
  },
  {
   "cell_type": "markdown",
   "id": "96733592",
   "metadata": {},
   "source": [
    "### 5- The Agriculture value is larger than the Industry value"
   ]
  },
  {
   "cell_type": "code",
   "execution_count": 96,
   "id": "d67ccfdf",
   "metadata": {},
   "outputs": [],
   "source": [
    "agriculture_vs_industry = countries[countries['Agriculture'] > countries['Industry']]"
   ]
  },
  {
   "cell_type": "markdown",
   "id": "fcb417db",
   "metadata": {},
   "source": [
    "### 6- The Pop Density value is larger than or equal to 10,000"
   ]
  },
  {
   "cell_type": "code",
   "execution_count": 37,
   "id": "65034bc7",
   "metadata": {},
   "outputs": [
    {
     "data": {
      "text/html": [
       "<div>\n",
       "<style scoped>\n",
       "    .dataframe tbody tr th:only-of-type {\n",
       "        vertical-align: middle;\n",
       "    }\n",
       "\n",
       "    .dataframe tbody tr th {\n",
       "        vertical-align: top;\n",
       "    }\n",
       "\n",
       "    .dataframe thead th {\n",
       "        text-align: right;\n",
       "    }\n",
       "</style>\n",
       "<table border=\"1\" class=\"dataframe\">\n",
       "  <thead>\n",
       "    <tr style=\"text-align: right;\">\n",
       "      <th></th>\n",
       "      <th>Region</th>\n",
       "      <th>Population</th>\n",
       "      <th>Area</th>\n",
       "      <th>Pop Density</th>\n",
       "      <th>Coastline</th>\n",
       "      <th>Migration</th>\n",
       "      <th>Infant Mortality</th>\n",
       "      <th>GDP Capita</th>\n",
       "      <th>Literacy</th>\n",
       "      <th>Phones</th>\n",
       "      <th>Arable</th>\n",
       "      <th>Crops</th>\n",
       "      <th>Other</th>\n",
       "      <th>Climate</th>\n",
       "      <th>Birthrate</th>\n",
       "      <th>Deathrate</th>\n",
       "      <th>Agriculture</th>\n",
       "      <th>Industry</th>\n",
       "      <th>Service</th>\n",
       "    </tr>\n",
       "    <tr>\n",
       "      <th>Country</th>\n",
       "      <th></th>\n",
       "      <th></th>\n",
       "      <th></th>\n",
       "      <th></th>\n",
       "      <th></th>\n",
       "      <th></th>\n",
       "      <th></th>\n",
       "      <th></th>\n",
       "      <th></th>\n",
       "      <th></th>\n",
       "      <th></th>\n",
       "      <th></th>\n",
       "      <th></th>\n",
       "      <th></th>\n",
       "      <th></th>\n",
       "      <th></th>\n",
       "      <th></th>\n",
       "      <th></th>\n",
       "      <th></th>\n",
       "    </tr>\n",
       "  </thead>\n",
       "  <tbody>\n",
       "    <tr>\n",
       "      <th>Macau</th>\n",
       "      <td>ASIA (EX. NEAR EAST)</td>\n",
       "      <td>453125</td>\n",
       "      <td>28</td>\n",
       "      <td>16183.0</td>\n",
       "      <td>146.43</td>\n",
       "      <td>4.86</td>\n",
       "      <td>4.39</td>\n",
       "      <td>19400.0</td>\n",
       "      <td>94.5</td>\n",
       "      <td>384.9</td>\n",
       "      <td>0.0</td>\n",
       "      <td>0.0</td>\n",
       "      <td>100.0</td>\n",
       "      <td>2.0</td>\n",
       "      <td>8.48</td>\n",
       "      <td>4.47</td>\n",
       "      <td>0.001</td>\n",
       "      <td>0.072</td>\n",
       "      <td>0.927</td>\n",
       "    </tr>\n",
       "    <tr>\n",
       "      <th>Monaco</th>\n",
       "      <td>WESTERN EUROPE</td>\n",
       "      <td>32543</td>\n",
       "      <td>2</td>\n",
       "      <td>16271.5</td>\n",
       "      <td>205.00</td>\n",
       "      <td>7.75</td>\n",
       "      <td>5.43</td>\n",
       "      <td>27000.0</td>\n",
       "      <td>99.0</td>\n",
       "      <td>1035.6</td>\n",
       "      <td>0.0</td>\n",
       "      <td>0.0</td>\n",
       "      <td>100.0</td>\n",
       "      <td>NaN</td>\n",
       "      <td>9.19</td>\n",
       "      <td>12.91</td>\n",
       "      <td>0.170</td>\n",
       "      <td>NaN</td>\n",
       "      <td>NaN</td>\n",
       "    </tr>\n",
       "  </tbody>\n",
       "</table>\n",
       "</div>"
      ],
      "text/plain": [
       "                                      Region  Population  Area  Pop Density  \\\n",
       "Country                                                                       \n",
       "Macau          ASIA (EX. NEAR EAST)               453125    28      16183.0   \n",
       "Monaco   WESTERN EUROPE                            32543     2      16271.5   \n",
       "\n",
       "         Coastline  Migration  Infant Mortality  GDP Capita  Literacy  Phones  \\\n",
       "Country                                                                         \n",
       "Macau       146.43       4.86              4.39     19400.0      94.5   384.9   \n",
       "Monaco      205.00       7.75              5.43     27000.0      99.0  1035.6   \n",
       "\n",
       "         Arable  Crops  Other  Climate  Birthrate  Deathrate  Agriculture  \\\n",
       "Country                                                                     \n",
       "Macau       0.0    0.0  100.0      2.0       8.48       4.47        0.001   \n",
       "Monaco      0.0    0.0  100.0      NaN       9.19      12.91        0.170   \n",
       "\n",
       "         Industry  Service  \n",
       "Country                     \n",
       "Macau       0.072    0.927  \n",
       "Monaco        NaN      NaN  "
      ]
     },
     "execution_count": 37,
     "metadata": {},
     "output_type": "execute_result"
    }
   ],
   "source": [
    "high_density = countries[countries['Pop Density'] >= 10000]\n",
    "high_density"
   ]
  },
  {
   "cell_type": "markdown",
   "id": "2b192843",
   "metadata": {},
   "source": [
    "### 7- Select the country with the lowest population density and the highest population density"
   ]
  },
  {
   "cell_type": "code",
   "execution_count": 38,
   "id": "66b6db49",
   "metadata": {},
   "outputs": [
    {
     "name": "stdout",
     "output_type": "stream",
     "text": [
      "Greenland \n",
      "Monaco \n"
     ]
    }
   ],
   "source": [
    "lowest_density = countries[countries['Pop Density'] == countries['Pop Density'].min()].index[0]\n",
    "highest_density = countries[countries['Pop Density'] == countries['Pop Density'].max()].index[0]\n",
    "print(lowest_density)\n",
    "print(highest_density)"
   ]
  },
  {
   "cell_type": "markdown",
   "id": "7887ced6",
   "metadata": {},
   "source": [
    "### 8- Count how many countries have a population density lower than Portugal"
   ]
  },
  {
   "cell_type": "code",
   "execution_count": 77,
   "id": "f856b529",
   "metadata": {},
   "outputs": [],
   "source": [
    "countries_lower_pt = countries[countries['Pop Density'] < countries.loc['Portugal ', 'Pop Density']]\n",
    "lower_density_pt_count = countries_lower_pt.shape[0]"
   ]
  },
  {
   "cell_type": "markdown",
   "id": "f3e83ce5",
   "metadata": {},
   "source": [
    "### 8-  The Population is at greater than or equal to 108 and The Area is smaller than or equal to 106"
   ]
  },
  {
   "cell_type": "code",
   "execution_count": 46,
   "id": "ae417886",
   "metadata": {},
   "outputs": [
    {
     "data": {
      "text/html": [
       "<div>\n",
       "<style scoped>\n",
       "    .dataframe tbody tr th:only-of-type {\n",
       "        vertical-align: middle;\n",
       "    }\n",
       "\n",
       "    .dataframe tbody tr th {\n",
       "        vertical-align: top;\n",
       "    }\n",
       "\n",
       "    .dataframe thead th {\n",
       "        text-align: right;\n",
       "    }\n",
       "</style>\n",
       "<table border=\"1\" class=\"dataframe\">\n",
       "  <thead>\n",
       "    <tr style=\"text-align: right;\">\n",
       "      <th></th>\n",
       "      <th>Region</th>\n",
       "      <th>Population</th>\n",
       "      <th>Area</th>\n",
       "      <th>Pop Density</th>\n",
       "      <th>Coastline</th>\n",
       "      <th>Migration</th>\n",
       "      <th>Infant Mortality</th>\n",
       "      <th>GDP Capita</th>\n",
       "      <th>Literacy</th>\n",
       "      <th>Phones</th>\n",
       "      <th>Arable</th>\n",
       "      <th>Crops</th>\n",
       "      <th>Other</th>\n",
       "      <th>Climate</th>\n",
       "      <th>Birthrate</th>\n",
       "      <th>Deathrate</th>\n",
       "      <th>Agriculture</th>\n",
       "      <th>Industry</th>\n",
       "      <th>Service</th>\n",
       "    </tr>\n",
       "    <tr>\n",
       "      <th>Country</th>\n",
       "      <th></th>\n",
       "      <th></th>\n",
       "      <th></th>\n",
       "      <th></th>\n",
       "      <th></th>\n",
       "      <th></th>\n",
       "      <th></th>\n",
       "      <th></th>\n",
       "      <th></th>\n",
       "      <th></th>\n",
       "      <th></th>\n",
       "      <th></th>\n",
       "      <th></th>\n",
       "      <th></th>\n",
       "      <th></th>\n",
       "      <th></th>\n",
       "      <th></th>\n",
       "      <th></th>\n",
       "      <th></th>\n",
       "    </tr>\n",
       "  </thead>\n",
       "  <tbody>\n",
       "    <tr>\n",
       "      <th>Bangladesh</th>\n",
       "      <td>ASIA (EX. NEAR EAST)</td>\n",
       "      <td>147365352</td>\n",
       "      <td>144000</td>\n",
       "      <td>1023.4</td>\n",
       "      <td>0.40</td>\n",
       "      <td>-0.71</td>\n",
       "      <td>62.60</td>\n",
       "      <td>1900.0</td>\n",
       "      <td>43.1</td>\n",
       "      <td>7.3</td>\n",
       "      <td>62.11</td>\n",
       "      <td>3.07</td>\n",
       "      <td>34.82</td>\n",
       "      <td>2.0</td>\n",
       "      <td>29.80</td>\n",
       "      <td>8.27</td>\n",
       "      <td>0.199</td>\n",
       "      <td>0.198</td>\n",
       "      <td>0.603</td>\n",
       "    </tr>\n",
       "    <tr>\n",
       "      <th>Japan</th>\n",
       "      <td>ASIA (EX. NEAR EAST)</td>\n",
       "      <td>127463611</td>\n",
       "      <td>377835</td>\n",
       "      <td>337.4</td>\n",
       "      <td>7.87</td>\n",
       "      <td>0.00</td>\n",
       "      <td>3.26</td>\n",
       "      <td>28200.0</td>\n",
       "      <td>99.0</td>\n",
       "      <td>461.2</td>\n",
       "      <td>12.19</td>\n",
       "      <td>0.96</td>\n",
       "      <td>86.85</td>\n",
       "      <td>3.0</td>\n",
       "      <td>9.37</td>\n",
       "      <td>9.16</td>\n",
       "      <td>0.017</td>\n",
       "      <td>0.258</td>\n",
       "      <td>0.725</td>\n",
       "    </tr>\n",
       "    <tr>\n",
       "      <th>Nigeria</th>\n",
       "      <td>SUB-SAHARAN AFRICA</td>\n",
       "      <td>131859731</td>\n",
       "      <td>923768</td>\n",
       "      <td>142.7</td>\n",
       "      <td>0.09</td>\n",
       "      <td>0.26</td>\n",
       "      <td>98.80</td>\n",
       "      <td>900.0</td>\n",
       "      <td>68.0</td>\n",
       "      <td>9.3</td>\n",
       "      <td>31.29</td>\n",
       "      <td>2.96</td>\n",
       "      <td>65.75</td>\n",
       "      <td>1.5</td>\n",
       "      <td>40.43</td>\n",
       "      <td>16.94</td>\n",
       "      <td>0.269</td>\n",
       "      <td>0.487</td>\n",
       "      <td>0.244</td>\n",
       "    </tr>\n",
       "    <tr>\n",
       "      <th>Pakistan</th>\n",
       "      <td>ASIA (EX. NEAR EAST)</td>\n",
       "      <td>165803560</td>\n",
       "      <td>803940</td>\n",
       "      <td>206.2</td>\n",
       "      <td>0.13</td>\n",
       "      <td>-2.77</td>\n",
       "      <td>72.44</td>\n",
       "      <td>2100.0</td>\n",
       "      <td>45.7</td>\n",
       "      <td>31.8</td>\n",
       "      <td>27.87</td>\n",
       "      <td>0.87</td>\n",
       "      <td>71.26</td>\n",
       "      <td>1.0</td>\n",
       "      <td>29.74</td>\n",
       "      <td>8.23</td>\n",
       "      <td>0.216</td>\n",
       "      <td>0.251</td>\n",
       "      <td>0.533</td>\n",
       "    </tr>\n",
       "  </tbody>\n",
       "</table>\n",
       "</div>"
      ],
      "text/plain": [
       "                                          Region  Population    Area  \\\n",
       "Country                                                                \n",
       "Bangladesh         ASIA (EX. NEAR EAST)            147365352  144000   \n",
       "Japan              ASIA (EX. NEAR EAST)            127463611  377835   \n",
       "Nigeria      SUB-SAHARAN AFRICA                    131859731  923768   \n",
       "Pakistan           ASIA (EX. NEAR EAST)            165803560  803940   \n",
       "\n",
       "             Pop Density  Coastline  Migration  Infant Mortality  GDP Capita  \\\n",
       "Country                                                                        \n",
       "Bangladesh        1023.4       0.40      -0.71             62.60      1900.0   \n",
       "Japan              337.4       7.87       0.00              3.26     28200.0   \n",
       "Nigeria            142.7       0.09       0.26             98.80       900.0   \n",
       "Pakistan           206.2       0.13      -2.77             72.44      2100.0   \n",
       "\n",
       "             Literacy  Phones  Arable  Crops  Other  Climate  Birthrate  \\\n",
       "Country                                                                   \n",
       "Bangladesh       43.1     7.3   62.11   3.07  34.82      2.0      29.80   \n",
       "Japan            99.0   461.2   12.19   0.96  86.85      3.0       9.37   \n",
       "Nigeria          68.0     9.3   31.29   2.96  65.75      1.5      40.43   \n",
       "Pakistan         45.7    31.8   27.87   0.87  71.26      1.0      29.74   \n",
       "\n",
       "             Deathrate  Agriculture  Industry  Service  \n",
       "Country                                                 \n",
       "Bangladesh        8.27        0.199     0.198    0.603  \n",
       "Japan             9.16        0.017     0.258    0.725  \n",
       "Nigeria          16.94        0.269     0.487    0.244  \n",
       "Pakistan          8.23        0.216     0.251    0.533  "
      ]
     },
     "execution_count": 46,
     "metadata": {},
     "output_type": "execute_result"
    }
   ],
   "source": [
    "my_selection = countries[(countries['Population'] >= 10**8) & (countries['Area'] <= 10**6)]\n",
    "my_selection"
   ]
  },
  {
   "cell_type": "markdown",
   "id": "6bb544da",
   "metadata": {},
   "source": [
    "### 9- The Infant Mortality smaller than 4 or the Birthrate is bigger than 45"
   ]
  },
  {
   "cell_type": "code",
   "execution_count": 100,
   "id": "e0df2051",
   "metadata": {},
   "outputs": [],
   "source": [
    "my_selection = countries[(countries['Infant Mortality'] < 4) | (countries['Birthrate'] > 45)]"
   ]
  },
  {
   "cell_type": "markdown",
   "id": "0a63eafd",
   "metadata": {},
   "source": [
    "### 10- The Coastline is equal to 0,the Migration is equal to 0( that satisfy at least one of these conditions but not both)"
   ]
  },
  {
   "cell_type": "code",
   "execution_count": 92,
   "id": "4e8fdec0",
   "metadata": {
    "scrolled": false
   },
   "outputs": [],
   "source": [
    "my_selection = countries[(countries['Coastline'] == 0) ^ (countries['Migration'] == 0)]"
   ]
  },
  {
   "cell_type": "markdown",
   "id": "08661898",
   "metadata": {},
   "source": [
    "### 11- The Region is equal to OCEANIA or equal to BALTICS and The Coastline is smaller than or equal to 1"
   ]
  },
  {
   "cell_type": "code",
   "execution_count": 76,
   "id": "7c4ba074",
   "metadata": {},
   "outputs": [],
   "source": [
    "# using Series.isin()\n",
    "my_selection = countries.loc[(countries['Region'].isin(['OCEANIA', 'BALTICS'])) \n",
    "                             & (countries['Coastline'] <= 1), ['Population', 'Area']]\n",
    "\n",
    "'''\n",
    "Alternative answer\n",
    "my_selection = countries.loc[\n",
    "    ((countries['Region'] == 'OCEANIA') | (countries['Region'] == 'BALTICS')) \n",
    "       & (countries['Coastline'] <= 1), ['Population', 'Area']]\n",
    "'''"
   ]
  },
  {
   "cell_type": "markdown",
   "id": "72c7cf07",
   "metadata": {},
   "source": [
    "### 12- The Region is not equal to WESTERN EUROPE and not equal to EASTERN EUROPE and The Arable is greater than 50"
   ]
  },
  {
   "cell_type": "code",
   "execution_count": 78,
   "id": "3820f0a2",
   "metadata": {},
   "outputs": [],
   "source": [
    "my_selection = countries.loc[~(countries['Region'].isin(['WESTERN EUROPE','EASTERN EUROPE'])) \n",
    "                             & (countries['Arable'] > 50),['Coastline','Crops','Climate']]"
   ]
  },
  {
   "cell_type": "markdown",
   "id": "21a4da84",
   "metadata": {},
   "source": [
    "### 13- Select all columns  that have missing values"
   ]
  },
  {
   "cell_type": "code",
   "execution_count": 80,
   "id": "46ea172d",
   "metadata": {},
   "outputs": [],
   "source": [
    "cols_with_nan = countries[countries.columns[countries.isnull().any()]]"
   ]
  },
  {
   "cell_type": "markdown",
   "id": "09e9d795",
   "metadata": {},
   "source": [
    "### 14- Select all numeric columns"
   ]
  },
  {
   "cell_type": "code",
   "execution_count": 84,
   "id": "9045dc88",
   "metadata": {},
   "outputs": [],
   "source": [
    "numeric_cols = countries.select_dtypes(include=np.number)"
   ]
  },
  {
   "cell_type": "markdown",
   "id": "b177a63d",
   "metadata": {},
   "source": [
    "### 15- Select all integer columns "
   ]
  },
  {
   "cell_type": "code",
   "execution_count": 85,
   "id": "2b36abcf",
   "metadata": {},
   "outputs": [],
   "source": [
    "integer_cols = countries.select_dtypes(include=['int'])"
   ]
  },
  {
   "cell_type": "markdown",
   "id": "2a184ca4",
   "metadata": {},
   "source": [
    "### 16- Select all floating-point columns"
   ]
  },
  {
   "cell_type": "code",
   "execution_count": 86,
   "id": "84764ef9",
   "metadata": {},
   "outputs": [],
   "source": [
    "float_cols = countries.select_dtypes(include=['float'])"
   ]
  },
  {
   "cell_type": "markdown",
   "id": "b5177960",
   "metadata": {},
   "source": [
    "### 17- Select all numeric columns from the countries DataFrame whose sum is at most 1,000"
   ]
  },
  {
   "cell_type": "code",
   "execution_count": 89,
   "id": "455f93c1",
   "metadata": {},
   "outputs": [],
   "source": [
    "numeric_cols = countries.select_dtypes(include=np.number)\n",
    "numeric_cols_leq_1000 = numeric_cols.loc[:, numeric_cols.sum() <= 1000]"
   ]
  },
  {
   "cell_type": "markdown",
   "id": "f4f71eca",
   "metadata": {},
   "source": [
    "### 18- Select all numeric columns(that contain negative values)"
   ]
  },
  {
   "cell_type": "code",
   "execution_count": 90,
   "id": "e0a7e8df",
   "metadata": {},
   "outputs": [],
   "source": [
    "numeric_cols = countries.select_dtypes(include=np.number)\n",
    "numeric_cols_negative = numeric_cols.loc[:, numeric_cols.min() < 0]"
   ]
  },
  {
   "cell_type": "markdown",
   "id": "9d58518b",
   "metadata": {},
   "source": [
    "### 19- Select all numeric columns(between 0 and 100 (both inclusive))"
   ]
  },
  {
   "cell_type": "code",
   "execution_count": 91,
   "id": "40fa639d",
   "metadata": {},
   "outputs": [],
   "source": [
    "numeric_cols = countries.select_dtypes(include=np.number)\n",
    "cols_0_to_100 = numeric_cols.loc[:, (numeric_cols.min() >= 0) & (numeric_cols.max() <= 100)]"
   ]
  },
  {
   "cell_type": "markdown",
   "id": "6cb87430",
   "metadata": {},
   "source": [
    "### 20- Count how many countries have a bigger coastline than Singapore"
   ]
  },
  {
   "cell_type": "code",
   "execution_count": 95,
   "id": "b6f54bb7",
   "metadata": {},
   "outputs": [],
   "source": [
    "countries_bigger_coastline_singapore = countries[countries['Coastline'] > countries.loc['Singapore ', 'Coastline']]\n",
    "bigger_coastline_singapore = countries_bigger_coastline_singapore.shape[0]"
   ]
  }
 ],
 "metadata": {
  "kernelspec": {
   "display_name": "Python 3",
   "language": "python",
   "name": "python3"
  },
  "language_info": {
   "codemirror_mode": {
    "name": "ipython",
    "version": 3
   },
   "file_extension": ".py",
   "mimetype": "text/x-python",
   "name": "python",
   "nbconvert_exporter": "python",
   "pygments_lexer": "ipython3",
   "version": "3.8.8"
  }
 },
 "nbformat": 4,
 "nbformat_minor": 5
}
