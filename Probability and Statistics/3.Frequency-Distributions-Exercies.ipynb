{
 "cells": [
  {
   "cell_type": "code",
   "execution_count": 1,
   "id": "ce3b999f",
   "metadata": {},
   "outputs": [],
   "source": [
    "import pandas as pd"
   ]
  },
  {
   "cell_type": "code",
   "execution_count": 2,
   "id": "0347f66b",
   "metadata": {},
   "outputs": [],
   "source": [
    "wnba = pd.read_csv('WNBA Stats.csv')"
   ]
  },
  {
   "cell_type": "markdown",
   "id": "ccd8c95a",
   "metadata": {},
   "source": [
    "## 1. Frequency Distribution Tables"
   ]
  },
  {
   "cell_type": "code",
   "execution_count": 5,
   "id": "b89a96a6",
   "metadata": {},
   "outputs": [
    {
     "data": {
      "text/plain": [
       "G      60\n",
       "F      33\n",
       "C      25\n",
       "G/F    13\n",
       "F/C    12\n",
       "Name: Pos, dtype: int64"
      ]
     },
     "execution_count": 5,
     "metadata": {},
     "output_type": "execute_result"
    }
   ],
   "source": [
    "freq_distro_pos = wnba['Pos'].value_counts()\n",
    "freq_distro_pos"
   ]
  },
  {
   "cell_type": "code",
   "execution_count": 6,
   "id": "ec8f8df5",
   "metadata": {},
   "outputs": [
    {
     "data": {
      "text/plain": [
       "188    20\n",
       "193    18\n",
       "175    16\n",
       "185    15\n",
       "173    11\n",
       "183    11\n",
       "191    11\n",
       "196     9\n",
       "178     8\n",
       "180     7\n",
       "170     6\n",
       "198     5\n",
       "168     2\n",
       "201     2\n",
       "165     1\n",
       "206     1\n",
       "Name: Height, dtype: int64"
      ]
     },
     "execution_count": 6,
     "metadata": {},
     "output_type": "execute_result"
    }
   ],
   "source": [
    "freq_distro_height = wnba['Height'].value_counts()\n",
    "freq_distro_height"
   ]
  },
  {
   "cell_type": "markdown",
   "id": "7b400f74",
   "metadata": {},
   "source": [
    "## 2. Sorting Frequency Distribution Tables"
   ]
  },
  {
   "cell_type": "code",
   "execution_count": 8,
   "id": "b336458e",
   "metadata": {},
   "outputs": [
    {
     "data": {
      "text/plain": [
       "21     2\n",
       "22    10\n",
       "23    15\n",
       "24    16\n",
       "25    15\n",
       "26    12\n",
       "27    13\n",
       "28    14\n",
       "29     8\n",
       "30     9\n",
       "31     8\n",
       "32     8\n",
       "33     3\n",
       "34     5\n",
       "35     4\n",
       "36     1\n",
       "Name: Age, dtype: int64"
      ]
     },
     "execution_count": 8,
     "metadata": {},
     "output_type": "execute_result"
    }
   ],
   "source": [
    "wnba['Age'].value_counts().sort_index() #ascending"
   ]
  },
  {
   "cell_type": "code",
   "execution_count": 9,
   "id": "b03db2ce",
   "metadata": {},
   "outputs": [
    {
     "data": {
      "text/plain": [
       "36     1\n",
       "35     4\n",
       "34     5\n",
       "33     3\n",
       "32     8\n",
       "31     8\n",
       "30     9\n",
       "29     8\n",
       "28    14\n",
       "27    13\n",
       "26    12\n",
       "25    15\n",
       "24    16\n",
       "23    15\n",
       "22    10\n",
       "21     2\n",
       "Name: Age, dtype: int64"
      ]
     },
     "execution_count": 9,
     "metadata": {},
     "output_type": "execute_result"
    }
   ],
   "source": [
    "wnba['Age'].value_counts().sort_index(ascending = False) # descending"
   ]
  },
  {
   "cell_type": "markdown",
   "id": "71448186",
   "metadata": {},
   "source": [
    "## 3. Sorting Tables for Ordinal Variables"
   ]
  },
  {
   "cell_type": "code",
   "execution_count": 13,
   "id": "8d5c44de",
   "metadata": {},
   "outputs": [
    {
     "data": {
      "text/plain": [
       "much more than average      13\n",
       "more than average           21\n",
       "average number of points    45\n",
       "many, but below average     25\n",
       "few points                  27\n",
       "very few points             12\n",
       "Name: PTS_ordinal_scale, dtype: int64"
      ]
     },
     "execution_count": 13,
     "metadata": {},
     "output_type": "execute_result"
    }
   ],
   "source": [
    "def make_pts_ordinal(row):\n",
    "    if row['PTS'] <= 20:\n",
    "        return 'very few points'\n",
    "    if (20 < row['PTS'] <=  80):\n",
    "        return 'few points'\n",
    "    if (80 < row['PTS'] <=  150):\n",
    "        return 'many, but below average'\n",
    "    if (150 < row['PTS'] <= 300):\n",
    "        return 'average number of points'\n",
    "    if (300 < row['PTS'] <=  450):\n",
    "        return 'more than average'\n",
    "    else:\n",
    "        return 'much more than average'\n",
    "\n",
    "# converting PTS column to ordinal scale from ratio scale  \n",
    "wnba['PTS_ordinal_scale'] = wnba.apply(make_pts_ordinal, axis = 1)\n",
    "\n",
    "pts_ordinal_desc = wnba['PTS_ordinal_scale'].value_counts().iloc[[4, 3, 0, 2, 1, 5]] #descending\n",
    "pts_ordinal_desc"
   ]
  },
  {
   "cell_type": "markdown",
   "id": "504b87b9",
   "metadata": {},
   "source": [
    "## 4. Proportions and Percentages"
   ]
  },
  {
   "cell_type": "code",
   "execution_count": 14,
   "id": "2c7df33d",
   "metadata": {},
   "outputs": [
    {
     "name": "stdout",
     "output_type": "stream",
     "text": [
      "G      60\n",
      "F      33\n",
      "C      25\n",
      "G/F    13\n",
      "F/C    12\n",
      "Name: Pos, dtype: int64\n"
     ]
    }
   ],
   "source": [
    "print(wnba['Pos'].value_counts())"
   ]
  },
  {
   "cell_type": "code",
   "execution_count": 15,
   "id": "94b7bd3f",
   "metadata": {},
   "outputs": [
    {
     "name": "stdout",
     "output_type": "stream",
     "text": [
      "G      0.419580\n",
      "F      0.230769\n",
      "C      0.174825\n",
      "G/F    0.090909\n",
      "F/C    0.083916\n",
      "Name: Pos, dtype: float64\n"
     ]
    }
   ],
   "source": [
    "print(wnba['Pos'].value_counts() / len(wnba))"
   ]
  },
  {
   "cell_type": "code",
   "execution_count": 16,
   "id": "f29388c8",
   "metadata": {},
   "outputs": [
    {
     "name": "stdout",
     "output_type": "stream",
     "text": [
      "G      0.419580\n",
      "F      0.230769\n",
      "C      0.174825\n",
      "G/F    0.090909\n",
      "F/C    0.083916\n",
      "Name: Pos, dtype: float64\n"
     ]
    }
   ],
   "source": [
    "print(wnba['Pos'].value_counts(normalize = True))"
   ]
  },
  {
   "cell_type": "code",
   "execution_count": 17,
   "id": "fd11d179",
   "metadata": {},
   "outputs": [
    {
     "name": "stdout",
     "output_type": "stream",
     "text": [
      "G      41.958042\n",
      "F      23.076923\n",
      "C      17.482517\n",
      "G/F     9.090909\n",
      "F/C     8.391608\n",
      "Name: Pos, dtype: float64\n"
     ]
    }
   ],
   "source": [
    "print(wnba['Pos'].value_counts(normalize = True) * 100)"
   ]
  },
  {
   "cell_type": "code",
   "execution_count": 19,
   "id": "eb84663e",
   "metadata": {},
   "outputs": [
    {
     "data": {
      "text/plain": [
       "21     1.398601\n",
       "22     6.993007\n",
       "23    10.489510\n",
       "24    11.188811\n",
       "25    10.489510\n",
       "26     8.391608\n",
       "27     9.090909\n",
       "28     9.790210\n",
       "29     5.594406\n",
       "30     6.293706\n",
       "31     5.594406\n",
       "32     5.594406\n",
       "33     2.097902\n",
       "34     3.496503\n",
       "35     2.797203\n",
       "36     0.699301\n",
       "Name: Age, dtype: float64"
      ]
     },
     "execution_count": 19,
     "metadata": {},
     "output_type": "execute_result"
    }
   ],
   "source": [
    "percentages = wnba['Age'].value_counts(normalize = True).sort_index() * 100\n",
    "percentages"
   ]
  },
  {
   "cell_type": "code",
   "execution_count": 20,
   "id": "d806ce6c",
   "metadata": {},
   "outputs": [
    {
     "data": {
      "text/plain": [
       "0.1048951048951049"
      ]
     },
     "execution_count": 20,
     "metadata": {},
     "output_type": "execute_result"
    }
   ],
   "source": [
    "proportion_25 = percentages[25] / 100\n",
    "proportion_25"
   ]
  },
  {
   "cell_type": "code",
   "execution_count": 22,
   "id": "04a93b9b",
   "metadata": {},
   "outputs": [
    {
     "data": {
      "text/plain": [
       "6.293706293706294"
      ]
     },
     "execution_count": 22,
     "metadata": {},
     "output_type": "execute_result"
    }
   ],
   "source": [
    "percentage_30 = percentages[30]\n",
    "percentage_30"
   ]
  },
  {
   "cell_type": "code",
   "execution_count": 23,
   "id": "df717017",
   "metadata": {},
   "outputs": [
    {
     "data": {
      "text/plain": [
       "26.573426573426573"
      ]
     },
     "execution_count": 23,
     "metadata": {},
     "output_type": "execute_result"
    }
   ],
   "source": [
    "percentage_over_30 = percentages.loc[30:].sum()\n",
    "percentage_over_30"
   ]
  },
  {
   "cell_type": "code",
   "execution_count": 24,
   "id": "5f833cf3",
   "metadata": {},
   "outputs": [
    {
     "data": {
      "text/plain": [
       "18.88111888111888"
      ]
     },
     "execution_count": 24,
     "metadata": {},
     "output_type": "execute_result"
    }
   ],
   "source": [
    "percentage_below_23 = percentages.loc[:23].sum()\n",
    "percentage_below_23"
   ]
  },
  {
   "cell_type": "markdown",
   "id": "6e369b11",
   "metadata": {},
   "source": [
    "## 5. Finding Percentiles with pandas"
   ]
  },
  {
   "cell_type": "code",
   "execution_count": 25,
   "id": "93b58a46",
   "metadata": {},
   "outputs": [
    {
     "name": "stdout",
     "output_type": "stream",
     "text": [
      "count    143.000000\n",
      "mean      27.076923\n",
      "std        3.679170\n",
      "min       21.000000\n",
      "25%       24.000000\n",
      "50%       27.000000\n",
      "75%       30.000000\n",
      "max       36.000000\n",
      "Name: Age, dtype: float64\n"
     ]
    }
   ],
   "source": [
    "print(wnba['Age'].describe())"
   ]
  },
  {
   "cell_type": "code",
   "execution_count": 26,
   "id": "04a5c7d3",
   "metadata": {},
   "outputs": [
    {
     "name": "stdout",
     "output_type": "stream",
     "text": [
      "min    21.0\n",
      "25%    24.0\n",
      "50%    27.0\n",
      "75%    30.0\n",
      "max    36.0\n",
      "Name: Age, dtype: float64\n"
     ]
    }
   ],
   "source": [
    "print(wnba['Age'].describe().iloc[3:])"
   ]
  },
  {
   "cell_type": "code",
   "execution_count": 27,
   "id": "84e70232",
   "metadata": {},
   "outputs": [
    {
     "name": "stdout",
     "output_type": "stream",
     "text": [
      "min      21.0\n",
      "10%      23.0\n",
      "15%      23.0\n",
      "33%      25.0\n",
      "50%      27.0\n",
      "59.2%    28.0\n",
      "85%      31.0\n",
      "90%      32.0\n",
      "max      36.0\n",
      "Name: Age, dtype: float64\n"
     ]
    }
   ],
   "source": [
    "print(wnba['Age'].describe(percentiles = [.1, .15, .33, .5, .592, .85, .9]).iloc[3:])"
   ]
  },
  {
   "cell_type": "markdown",
   "id": "4e65fe00",
   "metadata": {},
   "source": [
    "## 6. Grouped Frequency Distribution Tables"
   ]
  },
  {
   "cell_type": "code",
   "execution_count": 30,
   "id": "37db010a",
   "metadata": {},
   "outputs": [
    {
     "name": "stdout",
     "output_type": "stream",
     "text": [
      "(54.941, 60.8]     5\n",
      "(60.8, 66.6]      21\n",
      "(66.6, 72.4]      10\n",
      "(72.4, 78.2]      33\n",
      "(78.2, 84.0]      31\n",
      "(84.0, 89.8]      24\n",
      "(89.8, 95.6]      10\n",
      "(95.6, 101.4]      3\n",
      "(101.4, 107.2]     2\n",
      "(107.2, 113.0]     3\n",
      "Name: Weight, dtype: int64\n"
     ]
    }
   ],
   "source": [
    "print(wnba['Weight'].value_counts(bins = 10).sort_index())"
   ]
  },
  {
   "cell_type": "code",
   "execution_count": 28,
   "id": "941aab2d",
   "metadata": {},
   "outputs": [
    {
     "data": {
      "text/plain": [
       "(525.8, 584.0]     3.496503\n",
       "(467.6, 525.8]     2.797203\n",
       "(409.4, 467.6]     5.594406\n",
       "(351.2, 409.4]     6.993007\n",
       "(293.0, 351.2]     5.594406\n",
       "(234.8, 293.0]    11.888112\n",
       "(176.6, 234.8]    13.986014\n",
       "(118.4, 176.6]    11.888112\n",
       "(60.2, 118.4]     16.783217\n",
       "(1.417, 60.2]     20.979021\n",
       "Name: PTS, dtype: float64"
      ]
     },
     "execution_count": 28,
     "metadata": {},
     "output_type": "execute_result"
    }
   ],
   "source": [
    "grouped_freq_table = wnba['PTS'].value_counts(bins = 10,\n",
    "                normalize = True).sort_index(ascending = False) * 100\n",
    "\n",
    "grouped_freq_table"
   ]
  },
  {
   "cell_type": "markdown",
   "id": "6450bdc4",
   "metadata": {},
   "source": [
    "## 7. Readability for Grouped Frequency Tables"
   ]
  },
  {
   "cell_type": "code",
   "execution_count": 34,
   "id": "af2a6341",
   "metadata": {},
   "outputs": [
    {
     "data": {
      "text/plain": [
       "(1.417, 60.2]     30\n",
       "(60.2, 118.4]     24\n",
       "(176.6, 234.8]    20\n",
       "(118.4, 176.6]    17\n",
       "(234.8, 293.0]    17\n",
       "(351.2, 409.4]    10\n",
       "(293.0, 351.2]     8\n",
       "(409.4, 467.6]     8\n",
       "(525.8, 584.0]     5\n",
       "(467.6, 525.8]     4\n",
       "Name: PTS, dtype: int64"
      ]
     },
     "execution_count": 34,
     "metadata": {},
     "output_type": "execute_result"
    }
   ],
   "source": [
    "wnba['PTS'].value_counts(bins=10)"
   ]
  },
  {
   "cell_type": "code",
   "execution_count": 32,
   "id": "794792a5",
   "metadata": {},
   "outputs": [
    {
     "data": {
      "text/plain": [
       "(0, 60]       30\n",
       "(60, 120]     25\n",
       "(120, 180]    17\n",
       "(180, 240]    22\n",
       "(240, 300]    15\n",
       "(300, 360]     7\n",
       "(360, 420]    11\n",
       "(420, 480]     7\n",
       "(480, 540]     4\n",
       "(540, 600]     5\n",
       "Name: PTS, dtype: int64"
      ]
     },
     "execution_count": 32,
     "metadata": {},
     "output_type": "execute_result"
    }
   ],
   "source": [
    "intervals = pd.interval_range(start = 0, end = 600, freq = 60)\n",
    "\n",
    "gr_freq_table_10 = wnba['PTS'].value_counts(bins = intervals).sort_index()\n",
    "gr_freq_table_10"
   ]
  },
  {
   "cell_type": "markdown",
   "id": "36a43711",
   "metadata": {},
   "source": [
    "## 8. Frequency Tables and Continuous Variables"
   ]
  },
  {
   "cell_type": "code",
   "execution_count": 38,
   "id": "936e446f",
   "metadata": {},
   "outputs": [
    {
     "name": "stdout",
     "output_type": "stream",
     "text": [
      "16\n"
     ]
    }
   ],
   "source": [
    "# The height of 175 cm has a frequency of 16 in the distribution of the Height variable\n",
    "print(wnba['Height'].value_counts()[175])\n",
    "# there are 16 players with a height that's somewhere between 174.5 cm and 175.5 cm"
   ]
  },
  {
   "cell_type": "code",
   "execution_count": 36,
   "id": "9125b060",
   "metadata": {},
   "outputs": [
    {
     "name": "stdout",
     "output_type": "stream",
     "text": [
      "min    165.0\n",
      "25%    176.5\n",
      "50%    185.0\n",
      "75%    191.0\n",
      "max    206.0\n",
      "Name: Height, dtype: float64\n"
     ]
    }
   ],
   "source": [
    "print(wnba['Height'].describe().iloc[3:])"
   ]
  }
 ],
 "metadata": {
  "kernelspec": {
   "display_name": "Python 3",
   "language": "python",
   "name": "python3"
  },
  "language_info": {
   "codemirror_mode": {
    "name": "ipython",
    "version": 3
   },
   "file_extension": ".py",
   "mimetype": "text/x-python",
   "name": "python",
   "nbconvert_exporter": "python",
   "pygments_lexer": "ipython3",
   "version": "3.8.8"
  }
 },
 "nbformat": 4,
 "nbformat_minor": 5
}
