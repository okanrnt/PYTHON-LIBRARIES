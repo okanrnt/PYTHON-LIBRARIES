{
 "cells": [
  {
   "cell_type": "markdown",
   "id": "7802dd77",
   "metadata": {},
   "source": [
    "# Estimating Probabilities"
   ]
  },
  {
   "cell_type": "markdown",
   "id": "3cf9b2cc",
   "metadata": {},
   "source": [
    "##  The Empirical Probability"
   ]
  },
  {
   "cell_type": "code",
   "execution_count": 5,
   "id": "16db7411",
   "metadata": {},
   "outputs": [
    {
     "name": "stdout",
     "output_type": "stream",
     "text": [
      "0.44\n",
      "0.14\n",
      "0.51\n"
     ]
    }
   ],
   "source": [
    "# we tossed a coin 100 times and got heads 56 times\n",
    "p_tail = (100-56) / 100\n",
    "\n",
    "# We rolled a die 200 times and got a six 28 times\n",
    "p_six = 28 / 200\n",
    "\n",
    "# We got an odd number 102 times\n",
    "p_odd = 102 / 200\n",
    "\n",
    "print(p_tail)\n",
    "print(p_six)\n",
    "print(p_odd)"
   ]
  },
  {
   "cell_type": "markdown",
   "id": "5c880909",
   "metadata": {},
   "source": [
    "## Probability as Relative Frequency"
   ]
  },
  {
   "cell_type": "code",
   "execution_count": 6,
   "id": "7a62f4db",
   "metadata": {},
   "outputs": [
    {
     "name": "stdout",
     "output_type": "stream",
     "text": [
      "46.0\n",
      "51.0\n"
     ]
    }
   ],
   "source": [
    "# We tossed a coin 300 times and got tails 162 times\n",
    "p_heads_1 = (300 - 162) / 300\n",
    "\n",
    "# Transforming percentage from proportion\n",
    "percentage_1 = p_heads_1 * 100\n",
    "\n",
    "\n",
    "# we tossed a coin 5,000 times and got tails 2,450 times\n",
    "p_heads_2 = (5000 - 2450) / 5000\n",
    "percentage_2 = p_heads_2 * 100\n",
    "\n",
    "print(percentage_1)\n",
    "print(percentage_2)"
   ]
  },
  {
   "cell_type": "markdown",
   "id": "267ed060",
   "metadata": {},
   "source": [
    "## Repeating an Experiment"
   ]
  },
  {
   "cell_type": "code",
   "execution_count": 4,
   "id": "ce41d548",
   "metadata": {},
   "outputs": [
    {
     "name": "stdout",
     "output_type": "stream",
     "text": [
      "[1.0, 1.0, 0.6666666666666666, 0.5, 0.6, 0.6666666666666666, 0.7142857142857143, 0.75, 0.7777777777777778, 0.7]\n",
      "[0.4993494144730257, 0.49939951961569257, 0.4993495446812769, 0.4993996397838703, 0.4993496748374187, 0.4992997198879552, 0.49934980494148246, 0.4993998799759952, 0.49934993499349933, 0.4994]\n"
     ]
    }
   ],
   "source": [
    "from numpy.random import seed, randint\n",
    "\n",
    "seed(1)\n",
    "\n",
    "def coin_toss():\n",
    "    if randint(0,2) == 1:\n",
    "        return 'HEAD'\n",
    "    else:\n",
    "        return 'TAIL'\n",
    "    \n",
    "probabilities = []\n",
    "heads = 0\n",
    "\n",
    "for n in range(1, 10001):\n",
    "    outcome = coin_toss()\n",
    "    if outcome == 'HEAD':\n",
    "        heads += 1\n",
    "    current_probability = heads / n\n",
    "    probabilities.append(current_probability)\n",
    "\n",
    "print(probabilities[:10])\n",
    "print(probabilities[-10:])"
   ]
  },
  {
   "cell_type": "markdown",
   "id": "be63087c",
   "metadata": {},
   "source": [
    "## The True Probability Value"
   ]
  },
  {
   "cell_type": "code",
   "execution_count": 28,
   "id": "4b138245",
   "metadata": {},
   "outputs": [
    {
     "data": {
      "image/png": "[encoded data removed]",
      "text/plain": [
       "<Figure size 720x576 with 1 Axes>"
      ]
     },
     "metadata": {
      "needs_background": "light"
     },
     "output_type": "display_data"
    }
   ],
   "source": [
    "import matplotlib.pyplot as plt\n",
    "plt.figure(figsize = [10,8])\n",
    "plt.plot(range(1,10001),probabilities)\n",
    "plt.title('P(H) Tends to Approach the True Value')\n",
    "plt.ylabel('P(H)')\n",
    "plt.xlabel('Number of Coin Tosses')\n",
    "plt.axhline(0.5,ls='--',color='red',label='True P(H)')\n",
    "plt.legend()\n",
    "plt.show()"
   ]
  },
  {
   "cell_type": "markdown",
   "id": "1ec4e307",
   "metadata": {},
   "source": [
    "## The Theoretical Probability"
   ]
  },
  {
   "cell_type": "code",
   "execution_count": 30,
   "id": "1596a951",
   "metadata": {},
   "outputs": [],
   "source": [
    "# Finding the theoretical probability of getting a 5 when rolling a six-sided die\n",
    "p_5 = 1 / 6\n",
    "\n",
    "# Tossing a coin twice has four possible outcomes\n",
    "# head-tail\n",
    "p_ht = (1 / 2) * (1 / 2)\n",
    "\n",
    "# tail-tail\n",
    "p_tt = (1 / 2) * (1 / 2)"
   ]
  },
  {
   "cell_type": "markdown",
   "id": "834d958d",
   "metadata": {},
   "source": [
    "## Events vs. Outcomes"
   ]
  },
  {
   "cell_type": "code",
   "execution_count": 31,
   "id": "76a44486",
   "metadata": {},
   "outputs": [],
   "source": [
    "# all the outcomes of rolling a six-sided die\n",
    "# even number\n",
    "p_even = 3 / 6\n",
    "\n",
    "# odd number different than 3\n",
    "p_odd_no_3 = 2 / 6\n",
    "\n",
    "# odd number greater than 5\n",
    "p_odd_greater_5 = 0 / 6"
   ]
  },
  {
   "cell_type": "markdown",
   "id": "1aed81a2",
   "metadata": {},
   "source": [
    "## A Biased Die"
   ]
  },
  {
   "cell_type": "code",
   "execution_count": 32,
   "id": "949589c7",
   "metadata": {},
   "outputs": [],
   "source": [
    "#In a jar of 100 marbles, 90 marbles are red and 10 are blue\n",
    "\n",
    "# randomly selecting a blue marble\n",
    "p_blue = 10 / 100\n",
    "\n",
    "# randomly selecting a red marble\n",
    "p_red = 90 / 100"
   ]
  },
  {
   "cell_type": "markdown",
   "id": "0adfbfbf",
   "metadata": {},
   "source": [
    "# Probability Rules"
   ]
  },
  {
   "cell_type": "markdown",
   "id": "990785a5",
   "metadata": {},
   "source": [
    "## Sample Space"
   ]
  },
  {
   "cell_type": "code",
   "execution_count": 1,
   "id": "41070371",
   "metadata": {},
   "outputs": [],
   "source": [
    "# We toss a normal coin two times. Find the sample space.\n",
    "coin_toss_omega = {'HT','TH','TT','HH'}"
   ]
  },
  {
   "cell_type": "markdown",
   "id": "91536548",
   "metadata": {},
   "source": [
    "##            Probability of Events"
   ]
  },
  {
   "cell_type": "code",
   "execution_count": 3,
   "id": "21654107",
   "metadata": {},
   "outputs": [
    {
     "name": "stdout",
     "output_type": "stream",
     "text": [
      "0.1388888888888889\n",
      "1.0\n",
      "0.0\n"
     ]
    }
   ],
   "source": [
    "# The sum of the two rolls is 6 \n",
    "p_sum_6 = 5 / 36\n",
    "\n",
    "# The sum of the two rolls is lower than 15\n",
    "p_lower_15 = 36 / 36\n",
    "\n",
    "# The sum of the two rolls is greater than 13\n",
    "p_greater_13 = 0 / 36\n",
    "\n",
    "print(p_sum_6)\n",
    "print(p_lower_15)\n",
    "print(p_greater_13)"
   ]
  },
  {
   "cell_type": "markdown",
   "id": "59ca1429",
   "metadata": {},
   "source": [
    "##  Certain and Impossible Events"
   ]
  },
  {
   "cell_type": "code",
   "execution_count": 5,
   "id": "a6647426",
   "metadata": {},
   "outputs": [
    {
     "name": "stdout",
     "output_type": "stream",
     "text": [
      "0.1111111111111111\n",
      "0.027777777777777776\n"
     ]
    }
   ],
   "source": [
    "# The sum is either 2 or 4\n",
    "p_2_or_4 = 4/36\n",
    "\n",
    "# The sum is either 12 or 13\n",
    "p_12_or_13 = 1/36\n",
    "\n",
    "print(p_2_or_4)\n",
    "print(p_12_or_13)"
   ]
  },
  {
   "cell_type": "markdown",
   "id": "5bc3ac3f",
   "metadata": {},
   "source": [
    "## The Addition Rule"
   ]
  },
  {
   "cell_type": "code",
   "execution_count": 6,
   "id": "14b6bff4",
   "metadata": {},
   "outputs": [
    {
     "name": "stdout",
     "output_type": "stream",
     "text": [
      "0.2222222222222222\n",
      "0.5\n",
      "0.41666666666666663\n"
     ]
    }
   ],
   "source": [
    "# The sum is either 5 or 9\n",
    "p_5_or_9 = (4 / 36) + (4 / 36)\n",
    "\n",
    "# The sum is either even or less than 2\n",
    "p_even_or_less_2 = (18 / 36) + (0 / 36)\n",
    "\n",
    "# The sum is either 4 or a multiple of 3\n",
    "p_4_or_3_multiple = (3 / 36) + (12 / 36)\n",
    "\n",
    "print(p_5_or_9)\n",
    "print(p_even_or_less_2)\n",
    "print(p_4_or_3_multiple)"
   ]
  },
  {
   "cell_type": "code",
   "execution_count": 7,
   "id": "927c3284",
   "metadata": {},
   "outputs": [
    {
     "name": "stdout",
     "output_type": "stream",
     "text": [
      "1.0\n",
      "0.6666666666666666\n"
     ]
    }
   ],
   "source": [
    "# a die\n",
    "#getting an even number\n",
    "p_c = 3 / 6\n",
    "\n",
    "# getting a number greater than 3\n",
    "p_d = 3 / 6\n",
    "\n",
    "# using the addition rule\n",
    "p_c_d_addition = p_c + p_d\n",
    "\n",
    "#  using the formula(theoretical probabilities)\n",
    "p_c_d_formula = 4 / 6\n",
    "\n",
    "\n",
    "print(p_c_d_addition)\n",
    "print(p_c_d_formula)"
   ]
  },
  {
   "cell_type": "markdown",
   "id": "707823d0",
   "metadata": {},
   "source": [
    "## Exceptions to the Addition Rule"
   ]
  },
  {
   "cell_type": "code",
   "execution_count": 11,
   "id": "cdc378a9",
   "metadata": {},
   "outputs": [
    {
     "data": {
      "text/plain": [
       "0.33999999999999997"
      ]
     },
     "execution_count": 11,
     "metadata": {},
     "output_type": "execute_result"
    }
   ],
   "source": [
    "'''\n",
    "the empirical probabilities:\n",
    "F: the probability is 0.26\n",
    "T: the probability is 0.11\n",
    "T and F: the probability is 0.03\n",
    "Find the probability is either on F or T\n",
    "'''\n",
    "p_f_or_t = 0.26 + 0.11  - 0.03\n",
    "p_f_or_t"
   ]
  },
  {
   "cell_type": "markdown",
   "id": "93de5074",
   "metadata": {},
   "source": [
    "## Mutually Exclusive Events"
   ]
  },
  {
   "cell_type": "code",
   "execution_count": 10,
   "id": "03fba40e",
   "metadata": {},
   "outputs": [
    {
     "data": {
      "text/plain": [
       "0.01999999999999999"
      ]
     },
     "execution_count": 10,
     "metadata": {},
     "output_type": "execute_result"
    }
   ],
   "source": [
    "'''\n",
    "the empirical probabilities:\n",
    "H: 0.08\n",
    "C: 0.11\n",
    "H or C: 0.17\n",
    "Find the probability both H and T\n",
    "'''\n",
    "\n",
    "p_h_and_c = 0.08 + 0.11 - 0.17\n",
    "p_h_and_c"
   ]
  },
  {
   "cell_type": "markdown",
   "id": "96b9a5d9",
   "metadata": {},
   "source": [
    "# Solving Complex Probability Problems"
   ]
  },
  {
   "cell_type": "markdown",
   "id": "34c4de4a",
   "metadata": {},
   "source": [
    "## Complex Probability Problems"
   ]
  },
  {
   "cell_type": "code",
   "execution_count": 13,
   "id": "e131efe2",
   "metadata": {},
   "outputs": [
    {
     "name": "stdout",
     "output_type": "stream",
     "text": [
      "0.12\n",
      "0.17\n",
      "0.03\n",
      "0.26\n"
     ]
    }
   ],
   "source": [
    "'''\n",
    "shows two ads on the same web page (ad \"A\" and ad \"B\") to 100 user\n",
    "12 users clicked on ad \"A\"\n",
    "17 users clicked on ad \"B\"\n",
    "3 users clicked on both ad \"A\" and ad \"B\"\n",
    "'''\n",
    "\n",
    "# The empirical probability that a user clicks on ad \"A.\"\n",
    "p_a = 12 / 100\n",
    "print(p_a)\n",
    "\n",
    "# The empirical probability that a user clicks on ad \"B.\"\n",
    "p_b = 17 / 100\n",
    "print(p_b)\n",
    "\n",
    "# The empirical probability that a user clicks on both ad \"A\" and ad \"B.\"\n",
    "p_a_and_b = 3 / 100\n",
    "print(p_a_and_b)\n",
    "\n",
    "# The probability that a user clicks on either ad \"A\" or ad \"B.\"\n",
    "p_a_or_b = p_a + p_b - p_a_and_b\n",
    "print(p_a_or_b)"
   ]
  },
  {
   "cell_type": "markdown",
   "id": "298b44ec",
   "metadata": {},
   "source": [
    "## Opposite Events"
   ]
  },
  {
   "cell_type": "code",
   "execution_count": 14,
   "id": "2e0dee93",
   "metadata": {},
   "outputs": [
    {
     "name": "stdout",
     "output_type": "stream",
     "text": [
      "0.8\n",
      "0.85\n",
      "0.35\n",
      "0.65\n"
     ]
    }
   ],
   "source": [
    "'''\n",
    "When a new user tries the product, there's a 0.2 probability the user buys the basic subscription and 0.15 he buys premium.\n",
    "'''\n",
    "# The probability that a new user doesn't buy a basic subscription\n",
    "p_non_basic = 1 - 0.2\n",
    "print(p_non_basic)\n",
    "\n",
    "# The probability that a new user doesn't buy a premium subscription\n",
    "p_non_premium = 1 - 0.15\n",
    "print(p_non_premium)\n",
    "\n",
    "# The probability that a user buys either basic or premium\n",
    "p_subscription = 0.2 + 0.15\n",
    "print(p_subscription)\n",
    "\n",
    "# The probability that a new user doesn't buy a subscription\n",
    "p_non_subscription = 1 - p_subscription\n",
    "print(p_non_subscription)"
   ]
  },
  {
   "cell_type": "markdown",
   "id": "02a495f8",
   "metadata": {},
   "source": [
    "## Example Walk-Through"
   ]
  },
  {
   "cell_type": "code",
   "execution_count": 15,
   "id": "5a9da671",
   "metadata": {},
   "outputs": [
    {
     "data": {
      "text/plain": [
       "0.125"
      ]
     },
     "execution_count": 15,
     "metadata": {},
     "output_type": "execute_result"
    }
   ],
   "source": [
    "# Find the probability that it takes four flips or more for a coin to land heads up\n",
    "p_non_b = 7 / 8\n",
    "p_b = 1 - p_non_b\n",
    "p_b"
   ]
  },
  {
   "cell_type": "markdown",
   "id": "90da21eb",
   "metadata": {},
   "source": [
    "## Set Complements"
   ]
  },
  {
   "cell_type": "code",
   "execution_count": 16,
   "id": "24f5c1e0",
   "metadata": {},
   "outputs": [
    {
     "name": "stdout",
     "output_type": "stream",
     "text": [
      "0.5\n",
      "0.75\n",
      "0.25\n"
     ]
    }
   ],
   "source": [
    "'''\n",
    "Regardless of the number of times the ad is shown to a user, the probability that the user clicks on the ad is 0.5. \n",
    "'''\n",
    "# The probability that a user doesn't click on the ad\n",
    "p_non_click = 1 - 0.5\n",
    "print(p_non_click)\n",
    "\n",
    "# The probability that it takes two times or less for a user to click on the ad.\n",
    "p_two_or_less = 3/4\n",
    "print(p_two_or_less)\n",
    "\n",
    "# The probability that it takes three times or more for a user to click on the ad.\n",
    "p_three_or_more = 1 - 3/4\n",
    "print(p_three_or_more)"
   ]
  },
  {
   "cell_type": "markdown",
   "id": "3f0c1b8f",
   "metadata": {},
   "source": [
    "## The Multiplication Rule"
   ]
  },
  {
   "cell_type": "code",
   "execution_count": 17,
   "id": "72f6ba29",
   "metadata": {},
   "outputs": [
    {
     "name": "stdout",
     "output_type": "stream",
     "text": [
      "0.027777777777777776\n",
      "0.027777777777777776\n",
      "0.25\n",
      "0.08333333333333333\n"
     ]
    }
   ],
   "source": [
    "# For rolling a fair six-sided die\n",
    "# getting a 6 two times in a row\n",
    "p_6_6 = (1 / 6) * (1 / 6)\n",
    "print(p_6_6)\n",
    "\n",
    "# getting a 3 on the first throw and a 2 on the second throw\n",
    "p_3_2 = (1/6)*(1/6)\n",
    "print(p_3_2)\n",
    "\n",
    "# getting an even number on both throws\n",
    "p_even_even = (3/6)*(3/6)\n",
    "print(p_even_even)\n",
    "\n",
    "# getting a 1 on the first throw and an even number on the second throw\n",
    "p_1_even = (1/6)*(3/6)\n",
    "print(p_1_even)"
   ]
  },
  {
   "cell_type": "markdown",
   "id": "702756c3",
   "metadata": {},
   "source": [
    "## Independent Events"
   ]
  },
  {
   "cell_type": "code",
   "execution_count": 18,
   "id": "a51dd5e5",
   "metadata": {},
   "outputs": [
    {
     "name": "stdout",
     "output_type": "stream",
     "text": [
      "3.814697265625e-06\n",
      "0.0046296296296296285\n",
      "0.4822530864197532\n"
     ]
    }
   ],
   "source": [
    "# Getting heads up 18 times in a row when flipping a fair coin\n",
    "p_18h = (1/2)**18\n",
    "print(p_18h)\n",
    "\n",
    "# Getting a six three times in a row when throwing a fair six-sided die\n",
    "p_666 = (1/6)**3\n",
    "print(p_666)\n",
    "\n",
    "# Not getting any six when throwing a fair six-sided die four times\n",
    "p_not_6 = (5/6)**4\n",
    "print(p_not_6)"
   ]
  },
  {
   "cell_type": "markdown",
   "id": "b50a4eb9",
   "metadata": {},
   "source": [
    "## Combining Formulas"
   ]
  },
  {
   "cell_type": "code",
   "execution_count": 19,
   "id": "1eb44a76",
   "metadata": {},
   "outputs": [
    {
     "data": {
      "text/plain": [
       "0.4914038761309034"
      ]
     },
     "execution_count": 19,
     "metadata": {},
     "output_type": "execute_result"
    }
   ],
   "source": [
    "# getting at least one double-six in 24 throws of two six-sided dice\n",
    "p_one_double_6 = 1- (35/36)**24\n",
    "p_one_double_6"
   ]
  },
  {
   "cell_type": "markdown",
   "id": "487c2f3c",
   "metadata": {},
   "source": [
    "## Sampling With(out) Replacement"
   ]
  },
  {
   "cell_type": "code",
   "execution_count": 20,
   "id": "efbbe6f3",
   "metadata": {},
   "outputs": [
    {
     "name": "stdout",
     "output_type": "stream",
     "text": [
      "0.004524886877828055\n",
      "0.0003770739064856712\n",
      "7.387570412780497e-06\n"
     ]
    }
   ],
   "source": [
    "# sampling without replacement from a standard 52-card deck\n",
    "# Getting two kings in a row\n",
    "p_kking = (4/52)*(3/51)\n",
    "print(p_kking)\n",
    "\n",
    "# Getting a seven of hearts, followed by a queen of diamonds\n",
    "p_7q = (1/52)*(1/51)\n",
    "print(p_7q)\n",
    "\n",
    "# Getting a jack, followed by a queen of diamonds, followed by a king, followed by another jack\n",
    "p_jqkj = (4/52)*(1/51)*(4/50)*(3/49)\n",
    "print(p_jqkj)"
   ]
  },
  {
   "cell_type": "markdown",
   "id": "a86129f4",
   "metadata": {},
   "source": [
    "# Permutations and Combinations"
   ]
  },
  {
   "cell_type": "markdown",
   "id": "0ab38cf3",
   "metadata": {},
   "source": [
    "## The Rule of Product"
   ]
  },
  {
   "cell_type": "code",
   "execution_count": 1,
   "id": "8a2ebb11",
   "metadata": {},
   "outputs": [],
   "source": [
    "'''\n",
    "Consider the composite experiment E1E2, where E1 is rolling a fair six-sided die once, and E2 is rolling the same die again. \n",
    "'''\n",
    "# calculate the total number of outcomes\n",
    "n_outcomes = 6*6\n",
    "\n",
    "#  the probability of getting a (6,6)\n",
    "p_six_six = 1/n_outcomes\n",
    "\n",
    "# the probability of not getting a (5,5)\n",
    "p_five_five = 1/n_outcomes\n",
    "p_not_five_five = 1-p_five_five"
   ]
  },
  {
   "cell_type": "markdown",
   "id": "2e935082",
   "metadata": {},
   "source": [
    "## Extended Rule of Product"
   ]
  },
  {
   "cell_type": "code",
   "execution_count": 3,
   "id": "244d5587",
   "metadata": {},
   "outputs": [],
   "source": [
    "'''\n",
    "We roll a fair six-sided die three times and then randomly draw a card from a standard 52-card deck.\n",
    "'''\n",
    "# calculate the total number of outcomes\n",
    "total_outcomes = 6 * 6 * 6 * 52\n",
    "\n",
    "# the probability of getting (6, 6, 6, ace of diamonds)\n",
    "p_666_ace_diamonds = 1 / total_outcomes\n",
    "\n",
    "# the probability of getting anything but (6, 6, 6, ace of diamonds)\n",
    "p_no_666_ace_diamonds = 1 - p_666_ace_diamonds"
   ]
  },
  {
   "cell_type": "markdown",
   "id": "68536701",
   "metadata": {},
   "source": [
    "## Example Walkthrough"
   ]
  },
  {
   "cell_type": "code",
   "execution_count": 4,
   "id": "89816bbc",
   "metadata": {},
   "outputs": [],
   "source": [
    "# the probability of cracking a 4-digit PIN code using the code 8362\n",
    "total_outcomes_4_pin = 10**4 # 10 multiplied by itself 4 times\n",
    "p_crack_4 = 1 / total_outcomes_4_pin\n",
    "\n",
    "# the probability of cracking a 6-digit PIN code using the code 348821\n",
    "total_outcomes_6_pin = 10**6 # 10 multiplied by itself 6 times\n",
    "p_crack_6 = 1/total_outcomes_6_pin"
   ]
  },
  {
   "cell_type": "markdown",
   "id": "0bc321cb",
   "metadata": {},
   "source": [
    "## Permutations"
   ]
  },
  {
   "cell_type": "code",
   "execution_count": 5,
   "id": "e099c8af",
   "metadata": {},
   "outputs": [],
   "source": [
    "def factorial(n):\n",
    "    final_product = 1\n",
    "    for i in range(n, 0, -1):\n",
    "        final_product *= i\n",
    "    return final_product\n",
    "\n",
    "# total number of permutations (arrangements where order matters) for the letters \"a\", \"b\", \"j\", \"k\", \"x\", \"y\"\n",
    "permutations_1 = factorial(6) \n",
    "\n",
    "# the total number of permutations for the 52 cards of a standard 52-card deck\n",
    "permutations_2 = factorial(52)"
   ]
  },
  {
   "cell_type": "markdown",
   "id": "2ee1eea1",
   "metadata": {},
   "source": [
    "## More About Permutations"
   ]
  },
  {
   "cell_type": "code",
   "execution_count": 6,
   "id": "d811100f",
   "metadata": {},
   "outputs": [],
   "source": [
    "# The number of permutations for 3-card hand when we're drawing without replacement from a 52-card standard deck\n",
    "perm_3_52 = 52 * 51 * 50\n",
    "\n",
    "# The number of permutations for a 4-card hand when we're drawing without replacement from a 20-card deck\n",
    "perm_4_20 = 20 * 19 * 18 * 17\n",
    "\n",
    "# The number of permutations for 4-card hand when we're drawing without replacement from a 27-card deck\n",
    "perm_4_27 = 27 * 26 * 25 * 24"
   ]
  },
  {
   "cell_type": "markdown",
   "id": "443424dd",
   "metadata": {},
   "source": [
    "## Permutations Formulas"
   ]
  },
  {
   "cell_type": "code",
   "execution_count": 8,
   "id": "ceef0f30",
   "metadata": {},
   "outputs": [],
   "source": [
    "'''\n",
    "A password manager software generates 16-character passwords from a list of \n",
    "127 characters (the list contains numbers, letters, or other symbols).\n",
    "\n",
    "The probability of cracking a password generated by this software if we're using \n",
    "the password \"@*AmgJ(UL3Yl726x\", which has 16 characters.\n",
    "'''\n",
    "\n",
    "def factorial(n):\n",
    "    final_product = 1\n",
    "    for i in range(n, 0, -1):\n",
    "        final_product *= i\n",
    "    return final_product\n",
    "def permutation(n, k):\n",
    "    numerator = factorial(n)\n",
    "    denominator = factorial(n-k)\n",
    "    return numerator/denominator\n",
    "\n",
    "total_n_outcomes = permutation(127, 16)"
   ]
  },
  {
   "cell_type": "markdown",
   "id": "80154de5",
   "metadata": {},
   "source": [
    "## Unique Arrangements"
   ]
  },
  {
   "cell_type": "code",
   "execution_count": 9,
   "id": "337e634d",
   "metadata": {},
   "outputs": [
    {
     "name": "stdout",
     "output_type": "stream",
     "text": [
      "7.151123842018516e-08\n"
     ]
    },
    {
     "data": {
      "text/plain": [
       "'\\nNote the output of p_big_prize ends in e-08\\nThis means we move eight decimals to the left\\nSo 7.1e-08 would become 0.000000071\\n'"
      ]
     },
     "execution_count": 9,
     "metadata": {},
     "output_type": "execute_result"
    }
   ],
   "source": [
    "def factorial(n):\n",
    "    final_product = 1\n",
    "    for i in range(n, 0, -1):\n",
    "        final_product *= i\n",
    "    return final_product\n",
    "\n",
    "def permutation(n, k):\n",
    "    numerator = factorial(n)\n",
    "    denominator = factorial(n-k)\n",
    "    return numerator/denominator\n",
    "\n",
    "'''\n",
    "Calculate the probability of getting a 5-card hand with four aces and \n",
    "a seven of diamonds (assume we're drawing randomly and without replacement from the deck).\n",
    "'''\n",
    "c = permutation(52,5) / factorial(5)\n",
    "p_aces_7 = 1/c\n",
    "\n",
    "\n",
    "'''\n",
    "For a state lottery, six numbers are drawn randomly and without replacement from a set containing numbers from 1 to 49.\n",
    "... find the total number of unique 6-number arrangements that could result.\n",
    "'''\n",
    "c_lottery = permutation(49,6) / factorial(6)\n",
    "p_big_prize = 1/c_lottery\n",
    "print(p_big_prize)\n",
    "\n",
    "'''\n",
    "Note the output of p_big_prize ends in e-08\n",
    "This means we move eight decimals to the left\n",
    "So 7.1e-08 would become 0.000000071\n",
    "'''"
   ]
  },
  {
   "cell_type": "markdown",
   "id": "7516b61b",
   "metadata": {},
   "source": [
    "## Combinations"
   ]
  },
  {
   "cell_type": "code",
   "execution_count": 11,
   "id": "cb57fa40",
   "metadata": {},
   "outputs": [],
   "source": [
    "def factorial(n):\n",
    "    final_product = 1\n",
    "    for i in range(n, 0, -1):\n",
    "        final_product *= i\n",
    "    return final_product\n",
    "def combinations(n, k):\n",
    "    numerator = factorial(n)\n",
    "    denominator = factorial(k) * factorial(n-k)\n",
    "    return numerator/denominator\n",
    "\n",
    "\n",
    "# Find the number of unique ways in which 18 customers can be selected from a group of 34\n",
    "c_18 = combinations(34, 18)\n",
    "\n",
    "'''\n",
    "One of the possible outcomes is group Y, which is a group formed by 18 customers. \n",
    "Assume all the outcomes have equal chances of occurring and calculate the probability of getting a group other than group Y. \n",
    "'''\n",
    "p_Y = 1/c_18\n",
    "p_non_Y = 1 - p_Y"
   ]
  }
 ],
 "metadata": {
  "kernelspec": {
   "display_name": "Python 3",
   "language": "python",
   "name": "python3"
  },
  "language_info": {
   "codemirror_mode": {
    "name": "ipython",
    "version": 3
   },
   "file_extension": ".py",
   "mimetype": "text/x-python",
   "name": "python",
   "nbconvert_exporter": "python",
   "pygments_lexer": "ipython3",
   "version": "3.8.8"
  }
 },
 "nbformat": 4,
 "nbformat_minor": 5
}
