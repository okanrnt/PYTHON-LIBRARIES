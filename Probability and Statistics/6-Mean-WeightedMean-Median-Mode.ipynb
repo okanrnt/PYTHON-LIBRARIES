{
 "cells": [
  {
   "cell_type": "code",
   "execution_count": 2,
   "id": "dd7285c2",
   "metadata": {},
   "outputs": [],
   "source": [
    "import pandas as pd\n",
    "from numpy.random import randint, seed\n",
    "import matplotlib.pyplot as plt"
   ]
  },
  {
   "cell_type": "markdown",
   "id": "7a5b96d3",
   "metadata": {},
   "source": [
    "# Mean"
   ]
  },
  {
   "cell_type": "markdown",
   "id": "40625e29",
   "metadata": {},
   "source": [
    "## 1. The Mean"
   ]
  },
  {
   "cell_type": "code",
   "execution_count": 3,
   "id": "2648b134",
   "metadata": {},
   "outputs": [
    {
     "data": {
      "text/plain": [
       "4.0"
      ]
     },
     "execution_count": 3,
     "metadata": {},
     "output_type": "execute_result"
    }
   ],
   "source": [
    "distribution = [0,2,3,3,3,4,13]\n",
    "mean = sum(distribution) / len(distribution)\n",
    "mean"
   ]
  },
  {
   "cell_type": "code",
   "execution_count": 4,
   "id": "fd2fff2f",
   "metadata": {},
   "outputs": [
    {
     "data": {
      "text/plain": [
       "True"
      ]
     },
     "execution_count": 4,
     "metadata": {},
     "output_type": "execute_result"
    }
   ],
   "source": [
    "above = []\n",
    "below = []\n",
    "\n",
    "for value in distribution:\n",
    "    if value < mean:\n",
    "        below.append(mean - value)\n",
    "    if value > mean:\n",
    "        above.append(value - mean)\n",
    "        \n",
    "equal_distances = (sum(above) == sum(below))\n",
    "equal_distances"
   ]
  },
  {
   "cell_type": "markdown",
   "id": "adc68c29",
   "metadata": {},
   "source": [
    "## 2. The Mean as a Balance Point"
   ]
  },
  {
   "cell_type": "code",
   "execution_count": 5,
   "id": "33544836",
   "metadata": {},
   "outputs": [
    {
     "data": {
      "text/plain": [
       "5000"
      ]
     },
     "execution_count": 5,
     "metadata": {},
     "output_type": "execute_result"
    }
   ],
   "source": [
    "equal_distances = 0\n",
    "\n",
    "for i in range(5000):\n",
    "    seed(i)\n",
    "    distribution = randint(0,1000,10)\n",
    "    mean = sum(distribution) / len(distribution)\n",
    "    \n",
    "    above = []\n",
    "    below = []\n",
    "    \n",
    "    for value in distribution:\n",
    "        if value == mean:\n",
    "            continue\n",
    "        if value < mean:\n",
    "            below.append(mean - value)\n",
    "        if value > mean:\n",
    "            above.append(value - mean)\n",
    "        \n",
    "    sum_above = round(sum(above),1)\n",
    "    sum_below = round(sum(below),1)\n",
    "    if (sum_above == sum_below):\n",
    "        equal_distances += 1\n",
    "        \n",
    "equal_distances"
   ]
  },
  {
   "cell_type": "markdown",
   "id": "93c61bb4",
   "metadata": {},
   "source": [
    "## 3. An Alternative Definition"
   ]
  },
  {
   "cell_type": "code",
   "execution_count": 6,
   "id": "4b24becc",
   "metadata": {},
   "outputs": [],
   "source": [
    "distribution_1 = [42, 24, 32, 11]\n",
    "distribution_2 = [102, 32, 74, 15, 38, 45, 22]\n",
    "distribution_3 = [3, 12, 7, 2, 15, 1, 21]\n",
    "\n",
    "def mean(distribution):\n",
    "    sum_distribution = 0\n",
    "    for value in distribution:\n",
    "        sum_distribution += value\n",
    "    \n",
    "    return sum_distribution / len(distribution)\n",
    "\n",
    "mean_1 = mean(distribution_1)\n",
    "mean_2 = mean(distribution_2)\n",
    "mean_3 = mean(distribution_3) "
   ]
  },
  {
   "cell_type": "code",
   "execution_count": 7,
   "id": "ab1a6cee",
   "metadata": {},
   "outputs": [],
   "source": [
    "houses = pd.read_csv('miami-housing.csv')"
   ]
  },
  {
   "cell_type": "code",
   "execution_count": 8,
   "id": "8b2b9f99",
   "metadata": {},
   "outputs": [
    {
     "data": {
      "text/html": [
       "<div>\n",
       "<style scoped>\n",
       "    .dataframe tbody tr th:only-of-type {\n",
       "        vertical-align: middle;\n",
       "    }\n",
       "\n",
       "    .dataframe tbody tr th {\n",
       "        vertical-align: top;\n",
       "    }\n",
       "\n",
       "    .dataframe thead th {\n",
       "        text-align: right;\n",
       "    }\n",
       "</style>\n",
       "<table border=\"1\" class=\"dataframe\">\n",
       "  <thead>\n",
       "    <tr style=\"text-align: right;\">\n",
       "      <th></th>\n",
       "      <th>LATITUDE</th>\n",
       "      <th>LONGITUDE</th>\n",
       "      <th>PARCELNO</th>\n",
       "      <th>SALE_PRC</th>\n",
       "      <th>LND_SQFOOT</th>\n",
       "      <th>TOT_LVG_AREA</th>\n",
       "      <th>SPEC_FEAT_VAL</th>\n",
       "      <th>RAIL_DIST</th>\n",
       "      <th>OCEAN_DIST</th>\n",
       "      <th>WATER_DIST</th>\n",
       "      <th>CNTR_DIST</th>\n",
       "      <th>SUBCNTR_DI</th>\n",
       "      <th>HWY_DIST</th>\n",
       "      <th>age</th>\n",
       "      <th>avno60plus</th>\n",
       "      <th>month_sold</th>\n",
       "      <th>structure_quality</th>\n",
       "    </tr>\n",
       "  </thead>\n",
       "  <tbody>\n",
       "    <tr>\n",
       "      <th>0</th>\n",
       "      <td>25.891031</td>\n",
       "      <td>-80.160561</td>\n",
       "      <td>622280070620</td>\n",
       "      <td>440000.0</td>\n",
       "      <td>9375</td>\n",
       "      <td>1753</td>\n",
       "      <td>0</td>\n",
       "      <td>2815.9</td>\n",
       "      <td>12811.4</td>\n",
       "      <td>347.6</td>\n",
       "      <td>42815.3</td>\n",
       "      <td>37742.2</td>\n",
       "      <td>15954.9</td>\n",
       "      <td>67</td>\n",
       "      <td>0</td>\n",
       "      <td>8</td>\n",
       "      <td>4</td>\n",
       "    </tr>\n",
       "    <tr>\n",
       "      <th>1</th>\n",
       "      <td>25.891324</td>\n",
       "      <td>-80.153968</td>\n",
       "      <td>622280100460</td>\n",
       "      <td>349000.0</td>\n",
       "      <td>9375</td>\n",
       "      <td>1715</td>\n",
       "      <td>0</td>\n",
       "      <td>4359.1</td>\n",
       "      <td>10648.4</td>\n",
       "      <td>337.8</td>\n",
       "      <td>43504.9</td>\n",
       "      <td>37340.5</td>\n",
       "      <td>18125.0</td>\n",
       "      <td>63</td>\n",
       "      <td>0</td>\n",
       "      <td>9</td>\n",
       "      <td>4</td>\n",
       "    </tr>\n",
       "    <tr>\n",
       "      <th>2</th>\n",
       "      <td>25.891334</td>\n",
       "      <td>-80.153740</td>\n",
       "      <td>622280100470</td>\n",
       "      <td>800000.0</td>\n",
       "      <td>9375</td>\n",
       "      <td>2276</td>\n",
       "      <td>49206</td>\n",
       "      <td>4412.9</td>\n",
       "      <td>10574.1</td>\n",
       "      <td>297.1</td>\n",
       "      <td>43530.4</td>\n",
       "      <td>37328.7</td>\n",
       "      <td>18200.5</td>\n",
       "      <td>61</td>\n",
       "      <td>0</td>\n",
       "      <td>2</td>\n",
       "      <td>4</td>\n",
       "    </tr>\n",
       "    <tr>\n",
       "      <th>3</th>\n",
       "      <td>25.891765</td>\n",
       "      <td>-80.152657</td>\n",
       "      <td>622280100530</td>\n",
       "      <td>988000.0</td>\n",
       "      <td>12450</td>\n",
       "      <td>2058</td>\n",
       "      <td>10033</td>\n",
       "      <td>4585.0</td>\n",
       "      <td>10156.5</td>\n",
       "      <td>0.0</td>\n",
       "      <td>43797.5</td>\n",
       "      <td>37423.2</td>\n",
       "      <td>18514.4</td>\n",
       "      <td>63</td>\n",
       "      <td>0</td>\n",
       "      <td>9</td>\n",
       "      <td>4</td>\n",
       "    </tr>\n",
       "    <tr>\n",
       "      <th>4</th>\n",
       "      <td>25.891825</td>\n",
       "      <td>-80.154639</td>\n",
       "      <td>622280100200</td>\n",
       "      <td>755000.0</td>\n",
       "      <td>12800</td>\n",
       "      <td>1684</td>\n",
       "      <td>16681</td>\n",
       "      <td>4063.4</td>\n",
       "      <td>10836.8</td>\n",
       "      <td>326.6</td>\n",
       "      <td>43599.7</td>\n",
       "      <td>37550.8</td>\n",
       "      <td>17903.4</td>\n",
       "      <td>42</td>\n",
       "      <td>0</td>\n",
       "      <td>7</td>\n",
       "      <td>4</td>\n",
       "    </tr>\n",
       "  </tbody>\n",
       "</table>\n",
       "</div>"
      ],
      "text/plain": [
       "    LATITUDE  LONGITUDE      PARCELNO  SALE_PRC  LND_SQFOOT  TOT_LVG_AREA  \\\n",
       "0  25.891031 -80.160561  622280070620  440000.0        9375          1753   \n",
       "1  25.891324 -80.153968  622280100460  349000.0        9375          1715   \n",
       "2  25.891334 -80.153740  622280100470  800000.0        9375          2276   \n",
       "3  25.891765 -80.152657  622280100530  988000.0       12450          2058   \n",
       "4  25.891825 -80.154639  622280100200  755000.0       12800          1684   \n",
       "\n",
       "   SPEC_FEAT_VAL  RAIL_DIST  OCEAN_DIST  WATER_DIST  CNTR_DIST  SUBCNTR_DI  \\\n",
       "0              0     2815.9     12811.4       347.6    42815.3     37742.2   \n",
       "1              0     4359.1     10648.4       337.8    43504.9     37340.5   \n",
       "2          49206     4412.9     10574.1       297.1    43530.4     37328.7   \n",
       "3          10033     4585.0     10156.5         0.0    43797.5     37423.2   \n",
       "4          16681     4063.4     10836.8       326.6    43599.7     37550.8   \n",
       "\n",
       "   HWY_DIST  age  avno60plus  month_sold  structure_quality  \n",
       "0   15954.9   67           0           8                  4  \n",
       "1   18125.0   63           0           9                  4  \n",
       "2   18200.5   61           0           2                  4  \n",
       "3   18514.4   63           0           9                  4  \n",
       "4   17903.4   42           0           7                  4  "
      ]
     },
     "execution_count": 8,
     "metadata": {},
     "output_type": "execute_result"
    }
   ],
   "source": [
    "houses.head()"
   ]
  },
  {
   "cell_type": "code",
   "execution_count": 9,
   "id": "f6ea38e0",
   "metadata": {},
   "outputs": [],
   "source": [
    "houses['SALE_PRC'] = houses['SALE_PRC'].astype(int)"
   ]
  },
  {
   "cell_type": "code",
   "execution_count": 10,
   "id": "65050d79",
   "metadata": {},
   "outputs": [],
   "source": [
    "houses.rename(columns={'SALE_PRC':'SalePrice'},inplace=True)"
   ]
  },
  {
   "cell_type": "code",
   "execution_count": 11,
   "id": "0567e37b",
   "metadata": {},
   "outputs": [],
   "source": [
    "for i in range(2930,13932):\n",
    "    houses.drop(index=[i],inplace=True)"
   ]
  },
  {
   "cell_type": "code",
   "execution_count": 12,
   "id": "da452e2b",
   "metadata": {},
   "outputs": [
    {
     "data": {
      "text/plain": [
       "(2930, 17)"
      ]
     },
     "execution_count": 12,
     "metadata": {},
     "output_type": "execute_result"
    }
   ],
   "source": [
    "houses.shape"
   ]
  },
  {
   "cell_type": "markdown",
   "id": "7c19595e",
   "metadata": {},
   "source": [
    "## 4. Mean House Prices"
   ]
  },
  {
   "cell_type": "code",
   "execution_count": 13,
   "id": "2d6884f5",
   "metadata": {},
   "outputs": [
    {
     "data": {
      "text/plain": [
       "True"
      ]
     },
     "execution_count": 13,
     "metadata": {},
     "output_type": "execute_result"
    }
   ],
   "source": [
    "def mean(distribution):\n",
    "    sum_distribution = 0\n",
    "    for value in distribution:\n",
    "        sum_distribution += value\n",
    "        \n",
    "    return sum_distribution / len(distribution)\n",
    "\n",
    "function_mean = mean(houses['SalePrice'])\n",
    "pandas_mean = houses['SalePrice'].mean()\n",
    "means_are_equal = (function_mean == pandas_mean)\n",
    "means_are_equal"
   ]
  },
  {
   "cell_type": "markdown",
   "id": "7d7e852f",
   "metadata": {},
   "source": [
    "## 5. Estimating the Population Mean"
   ]
  },
  {
   "cell_type": "code",
   "execution_count": 14,
   "id": "b3cc49aa",
   "metadata": {},
   "outputs": [
    {
     "data": {
      "image/png": "[encoded data removed]",
      "text/plain": [
       "<Figure size 432x288 with 1 Axes>"
      ]
     },
     "metadata": {
      "needs_background": "light"
     },
     "output_type": "display_data"
    }
   ],
   "source": [
    "parameter = houses['SalePrice'].mean()\n",
    "sample_size = 5\n",
    "\n",
    "sample_sizes = []\n",
    "sampling_errors = []\n",
    "\n",
    "for i in range(101):\n",
    "    sample = houses['SalePrice'].sample(sample_size , random_state = i)\n",
    "    statistic = sample.mean()\n",
    "    sampling_error = parameter - statistic\n",
    "    sampling_errors.append(sampling_error)\n",
    "    sample_sizes.append(sample_size)\n",
    "    sample_size += 29\n",
    "    \n",
    "plt.scatter(sample_sizes, sampling_errors)\n",
    "plt.axhline(0)\n",
    "plt.axvline(2930)\n",
    "plt.xlabel('Sample size')\n",
    "plt.ylabel('Sampling error')\n",
    "plt.show()"
   ]
  },
  {
   "cell_type": "markdown",
   "id": "63291cd1",
   "metadata": {},
   "source": [
    "## 6. Estimates from Low-Sized Samples"
   ]
  },
  {
   "cell_type": "code",
   "execution_count": 15,
   "id": "bf44a186",
   "metadata": {},
   "outputs": [
    {
     "data": {
      "image/png": "[encoded data removed]",
      "text/plain": [
       "<Figure size 432x288 with 1 Axes>"
      ]
     },
     "metadata": {
      "needs_background": "light"
     },
     "output_type": "display_data"
    }
   ],
   "source": [
    "means = []\n",
    "for i in range(10000):\n",
    "    sample = houses['SalePrice'].sample(100,random_state=i)\n",
    "    mean = sample.mean()\n",
    "    means.append(mean)\n",
    "\n",
    "    \n",
    "plt.hist(means)\n",
    "plt.axvline(houses['SalePrice'].mean())\n",
    "plt.xlabel('Sample mean')\n",
    "plt.ylabel('Frequency')\n",
    "plt.xlim(0,900000)\n",
    "plt.xticks(rotation=30)\n",
    "plt.show()"
   ]
  },
  {
   "cell_type": "markdown",
   "id": "c5c491c1",
   "metadata": {},
   "source": [
    "## 7. The Sample Mean as an Unbiased Estimator"
   ]
  },
  {
   "cell_type": "code",
   "execution_count": 16,
   "id": "e7f923dc",
   "metadata": {},
   "outputs": [
    {
     "data": {
      "text/plain": [
       "True"
      ]
     },
     "execution_count": 16,
     "metadata": {},
     "output_type": "execute_result"
    }
   ],
   "source": [
    "population = [3, 7, 2]\n",
    "samples = [[3, 7], [3, 2],\n",
    "           [7, 2], [7, 3],\n",
    "           [2, 3], [2, 7]\n",
    "          ]\n",
    "\n",
    "sample_means = []\n",
    "for sample in samples:\n",
    "    sample_means.append(sum(sample) / len(sample))\n",
    "    \n",
    "population_mean = sum(population) / len(population)\n",
    "mean_of_sample_means = sum(sample_means) / len(sample_means)\n",
    "\n",
    "unbiased = (population_mean == mean_of_sample_means)\n",
    "unbiased"
   ]
  },
  {
   "cell_type": "markdown",
   "id": "c577d794",
   "metadata": {},
   "source": [
    "# Median"
   ]
  },
  {
   "cell_type": "code",
   "execution_count": 17,
   "id": "5b12a5bb",
   "metadata": {},
   "outputs": [],
   "source": [
    "sold_count = houses.groupby('month_sold',as_index=False)['SalePrice'].count()\n",
    "sold_count.rename(columns={'SalePrice':'Houses Sold'},inplace=True)"
   ]
  },
  {
   "cell_type": "code",
   "execution_count": 18,
   "id": "6bcedee2",
   "metadata": {},
   "outputs": [
    {
     "data": {
      "text/html": [
       "<div>\n",
       "<style scoped>\n",
       "    .dataframe tbody tr th:only-of-type {\n",
       "        vertical-align: middle;\n",
       "    }\n",
       "\n",
       "    .dataframe tbody tr th {\n",
       "        vertical-align: top;\n",
       "    }\n",
       "\n",
       "    .dataframe thead th {\n",
       "        text-align: right;\n",
       "    }\n",
       "</style>\n",
       "<table border=\"1\" class=\"dataframe\">\n",
       "  <thead>\n",
       "    <tr style=\"text-align: right;\">\n",
       "      <th></th>\n",
       "      <th>month_sold</th>\n",
       "      <th>Houses Sold</th>\n",
       "    </tr>\n",
       "  </thead>\n",
       "  <tbody>\n",
       "    <tr>\n",
       "      <th>0</th>\n",
       "      <td>1</td>\n",
       "      <td>202</td>\n",
       "    </tr>\n",
       "    <tr>\n",
       "      <th>1</th>\n",
       "      <td>2</td>\n",
       "      <td>213</td>\n",
       "    </tr>\n",
       "    <tr>\n",
       "      <th>2</th>\n",
       "      <td>3</td>\n",
       "      <td>249</td>\n",
       "    </tr>\n",
       "    <tr>\n",
       "      <th>3</th>\n",
       "      <td>4</td>\n",
       "      <td>243</td>\n",
       "    </tr>\n",
       "    <tr>\n",
       "      <th>4</th>\n",
       "      <td>5</td>\n",
       "      <td>254</td>\n",
       "    </tr>\n",
       "    <tr>\n",
       "      <th>5</th>\n",
       "      <td>6</td>\n",
       "      <td>269</td>\n",
       "    </tr>\n",
       "    <tr>\n",
       "      <th>6</th>\n",
       "      <td>7</td>\n",
       "      <td>271</td>\n",
       "    </tr>\n",
       "    <tr>\n",
       "      <th>7</th>\n",
       "      <td>8</td>\n",
       "      <td>254</td>\n",
       "    </tr>\n",
       "    <tr>\n",
       "      <th>8</th>\n",
       "      <td>9</td>\n",
       "      <td>267</td>\n",
       "    </tr>\n",
       "    <tr>\n",
       "      <th>9</th>\n",
       "      <td>10</td>\n",
       "      <td>211</td>\n",
       "    </tr>\n",
       "    <tr>\n",
       "      <th>10</th>\n",
       "      <td>11</td>\n",
       "      <td>261</td>\n",
       "    </tr>\n",
       "    <tr>\n",
       "      <th>11</th>\n",
       "      <td>12</td>\n",
       "      <td>236</td>\n",
       "    </tr>\n",
       "  </tbody>\n",
       "</table>\n",
       "</div>"
      ],
      "text/plain": [
       "    month_sold  Houses Sold\n",
       "0            1          202\n",
       "1            2          213\n",
       "2            3          249\n",
       "3            4          243\n",
       "4            5          254\n",
       "5            6          269\n",
       "6            7          271\n",
       "7            8          254\n",
       "8            9          267\n",
       "9           10          211\n",
       "10          11          261\n",
       "11          12          236"
      ]
     },
     "execution_count": 18,
     "metadata": {},
     "output_type": "execute_result"
    }
   ],
   "source": [
    "sold_count"
   ]
  },
  {
   "cell_type": "code",
   "execution_count": 19,
   "id": "e0aaceb5",
   "metadata": {},
   "outputs": [],
   "source": [
    "houses_per_month = houses.groupby('month_sold',as_index=False)['SalePrice'].mean()"
   ]
  },
  {
   "cell_type": "code",
   "execution_count": 20,
   "id": "29a9bcc5",
   "metadata": {},
   "outputs": [
    {
     "data": {
      "text/html": [
       "<div>\n",
       "<style scoped>\n",
       "    .dataframe tbody tr th:only-of-type {\n",
       "        vertical-align: middle;\n",
       "    }\n",
       "\n",
       "    .dataframe tbody tr th {\n",
       "        vertical-align: top;\n",
       "    }\n",
       "\n",
       "    .dataframe thead th {\n",
       "        text-align: right;\n",
       "    }\n",
       "</style>\n",
       "<table border=\"1\" class=\"dataframe\">\n",
       "  <thead>\n",
       "    <tr style=\"text-align: right;\">\n",
       "      <th></th>\n",
       "      <th>month_sold</th>\n",
       "      <th>SalePrice</th>\n",
       "    </tr>\n",
       "  </thead>\n",
       "  <tbody>\n",
       "    <tr>\n",
       "      <th>0</th>\n",
       "      <td>1</td>\n",
       "      <td>362756.435644</td>\n",
       "    </tr>\n",
       "    <tr>\n",
       "      <th>1</th>\n",
       "      <td>2</td>\n",
       "      <td>371668.896714</td>\n",
       "    </tr>\n",
       "    <tr>\n",
       "      <th>2</th>\n",
       "      <td>3</td>\n",
       "      <td>363634.269076</td>\n",
       "    </tr>\n",
       "    <tr>\n",
       "      <th>3</th>\n",
       "      <td>4</td>\n",
       "      <td>356989.711934</td>\n",
       "    </tr>\n",
       "    <tr>\n",
       "      <th>4</th>\n",
       "      <td>5</td>\n",
       "      <td>406620.866142</td>\n",
       "    </tr>\n",
       "    <tr>\n",
       "      <th>5</th>\n",
       "      <td>6</td>\n",
       "      <td>394571.003717</td>\n",
       "    </tr>\n",
       "    <tr>\n",
       "      <th>6</th>\n",
       "      <td>7</td>\n",
       "      <td>360011.070111</td>\n",
       "    </tr>\n",
       "    <tr>\n",
       "      <th>7</th>\n",
       "      <td>8</td>\n",
       "      <td>353819.027559</td>\n",
       "    </tr>\n",
       "    <tr>\n",
       "      <th>8</th>\n",
       "      <td>9</td>\n",
       "      <td>348546.816479</td>\n",
       "    </tr>\n",
       "    <tr>\n",
       "      <th>9</th>\n",
       "      <td>10</td>\n",
       "      <td>362223.696682</td>\n",
       "    </tr>\n",
       "    <tr>\n",
       "      <th>10</th>\n",
       "      <td>11</td>\n",
       "      <td>386990.421456</td>\n",
       "    </tr>\n",
       "    <tr>\n",
       "      <th>11</th>\n",
       "      <td>12</td>\n",
       "      <td>403029.237288</td>\n",
       "    </tr>\n",
       "  </tbody>\n",
       "</table>\n",
       "</div>"
      ],
      "text/plain": [
       "    month_sold      SalePrice\n",
       "0            1  362756.435644\n",
       "1            2  371668.896714\n",
       "2            3  363634.269076\n",
       "3            4  356989.711934\n",
       "4            5  406620.866142\n",
       "5            6  394571.003717\n",
       "6            7  360011.070111\n",
       "7            8  353819.027559\n",
       "8            9  348546.816479\n",
       "9           10  362223.696682\n",
       "10          11  386990.421456\n",
       "11          12  403029.237288"
      ]
     },
     "execution_count": 20,
     "metadata": {},
     "output_type": "execute_result"
    }
   ],
   "source": [
    "houses_per_month"
   ]
  },
  {
   "cell_type": "code",
   "execution_count": 21,
   "id": "3ebfb64c",
   "metadata": {},
   "outputs": [],
   "source": [
    "houses_per_month['Houses Sold'] = sold_count['Houses Sold']"
   ]
  },
  {
   "cell_type": "code",
   "execution_count": 22,
   "id": "4936e69f",
   "metadata": {},
   "outputs": [],
   "source": [
    "houses_per_month.rename(columns={'SalePrice':'Mean Price'},inplace=True)"
   ]
  },
  {
   "cell_type": "code",
   "execution_count": 23,
   "id": "2a7795a4",
   "metadata": {},
   "outputs": [
    {
     "data": {
      "text/html": [
       "<div>\n",
       "<style scoped>\n",
       "    .dataframe tbody tr th:only-of-type {\n",
       "        vertical-align: middle;\n",
       "    }\n",
       "\n",
       "    .dataframe tbody tr th {\n",
       "        vertical-align: top;\n",
       "    }\n",
       "\n",
       "    .dataframe thead th {\n",
       "        text-align: right;\n",
       "    }\n",
       "</style>\n",
       "<table border=\"1\" class=\"dataframe\">\n",
       "  <thead>\n",
       "    <tr style=\"text-align: right;\">\n",
       "      <th></th>\n",
       "      <th>month_sold</th>\n",
       "      <th>Mean Price</th>\n",
       "      <th>Houses Sold</th>\n",
       "    </tr>\n",
       "  </thead>\n",
       "  <tbody>\n",
       "    <tr>\n",
       "      <th>0</th>\n",
       "      <td>1</td>\n",
       "      <td>362756.435644</td>\n",
       "      <td>202</td>\n",
       "    </tr>\n",
       "    <tr>\n",
       "      <th>1</th>\n",
       "      <td>2</td>\n",
       "      <td>371668.896714</td>\n",
       "      <td>213</td>\n",
       "    </tr>\n",
       "    <tr>\n",
       "      <th>2</th>\n",
       "      <td>3</td>\n",
       "      <td>363634.269076</td>\n",
       "      <td>249</td>\n",
       "    </tr>\n",
       "    <tr>\n",
       "      <th>3</th>\n",
       "      <td>4</td>\n",
       "      <td>356989.711934</td>\n",
       "      <td>243</td>\n",
       "    </tr>\n",
       "    <tr>\n",
       "      <th>4</th>\n",
       "      <td>5</td>\n",
       "      <td>406620.866142</td>\n",
       "      <td>254</td>\n",
       "    </tr>\n",
       "    <tr>\n",
       "      <th>5</th>\n",
       "      <td>6</td>\n",
       "      <td>394571.003717</td>\n",
       "      <td>269</td>\n",
       "    </tr>\n",
       "    <tr>\n",
       "      <th>6</th>\n",
       "      <td>7</td>\n",
       "      <td>360011.070111</td>\n",
       "      <td>271</td>\n",
       "    </tr>\n",
       "    <tr>\n",
       "      <th>7</th>\n",
       "      <td>8</td>\n",
       "      <td>353819.027559</td>\n",
       "      <td>254</td>\n",
       "    </tr>\n",
       "    <tr>\n",
       "      <th>8</th>\n",
       "      <td>9</td>\n",
       "      <td>348546.816479</td>\n",
       "      <td>267</td>\n",
       "    </tr>\n",
       "    <tr>\n",
       "      <th>9</th>\n",
       "      <td>10</td>\n",
       "      <td>362223.696682</td>\n",
       "      <td>211</td>\n",
       "    </tr>\n",
       "    <tr>\n",
       "      <th>10</th>\n",
       "      <td>11</td>\n",
       "      <td>386990.421456</td>\n",
       "      <td>261</td>\n",
       "    </tr>\n",
       "    <tr>\n",
       "      <th>11</th>\n",
       "      <td>12</td>\n",
       "      <td>403029.237288</td>\n",
       "      <td>236</td>\n",
       "    </tr>\n",
       "  </tbody>\n",
       "</table>\n",
       "</div>"
      ],
      "text/plain": [
       "    month_sold     Mean Price  Houses Sold\n",
       "0            1  362756.435644          202\n",
       "1            2  371668.896714          213\n",
       "2            3  363634.269076          249\n",
       "3            4  356989.711934          243\n",
       "4            5  406620.866142          254\n",
       "5            6  394571.003717          269\n",
       "6            7  360011.070111          271\n",
       "7            8  353819.027559          254\n",
       "8            9  348546.816479          267\n",
       "9           10  362223.696682          211\n",
       "10          11  386990.421456          261\n",
       "11          12  403029.237288          236"
      ]
     },
     "execution_count": 23,
     "metadata": {},
     "output_type": "execute_result"
    }
   ],
   "source": [
    "houses_per_month"
   ]
  },
  {
   "cell_type": "markdown",
   "id": "939599e3",
   "metadata": {},
   "source": [
    "## 1. Difference Means"
   ]
  },
  {
   "cell_type": "code",
   "execution_count": 24,
   "id": "b4b4b047",
   "metadata": {},
   "outputs": [
    {
     "data": {
      "text/plain": [
       "192.93615723995026"
      ]
     },
     "execution_count": 24,
     "metadata": {},
     "output_type": "execute_result"
    }
   ],
   "source": [
    "mean_new = houses_per_month['Mean Price'].mean()\n",
    "\n",
    "mean_original = houses['SalePrice'].mean()\n",
    "\n",
    "difference = mean_original - mean_new\n",
    "difference"
   ]
  },
  {
   "cell_type": "markdown",
   "id": "0ac148ef",
   "metadata": {},
   "source": [
    "## 2. Different Weights"
   ]
  },
  {
   "cell_type": "code",
   "execution_count": 25,
   "id": "5451f5f8",
   "metadata": {},
   "outputs": [
    {
     "data": {
      "text/plain": [
       "0.0"
      ]
     },
     "execution_count": 25,
     "metadata": {},
     "output_type": "execute_result"
    }
   ],
   "source": [
    "houses_per_month['sum_per_month'] = houses_per_month['Mean Price'] * houses_per_month['Houses Sold']\n",
    "all_sums_together = houses_per_month['sum_per_month'].sum()\n",
    "total_n_houses = houses_per_month['Houses Sold'].sum()\n",
    "weighted_mean = all_sums_together / total_n_houses\n",
    "\n",
    "mean_original = houses['SalePrice'].mean()\n",
    "\n",
    "difference = round(mean_original, 10) - round(weighted_mean, 10)\n",
    "difference"
   ]
  },
  {
   "cell_type": "markdown",
   "id": "bbbf575b",
   "metadata": {},
   "source": [
    "## 3. The Weighted Mean"
   ]
  },
  {
   "cell_type": "code",
   "execution_count": 26,
   "id": "be22981c",
   "metadata": {},
   "outputs": [
    {
     "data": {
      "text/plain": [
       "True"
      ]
     },
     "execution_count": 26,
     "metadata": {},
     "output_type": "execute_result"
    }
   ],
   "source": [
    "def weighted_mean(distribution, weights):\n",
    "    weighted_sum = []\n",
    "    for mean, weight in zip(distribution, weights):\n",
    "        weighted_sum.append(mean * weight)\n",
    "    \n",
    "    return sum(weighted_sum) / sum(weights)\n",
    "\n",
    "weighted_mean_function = weighted_mean(houses_per_month['Mean Price'], houses_per_month['Houses Sold'])\n",
    "\n",
    "from numpy import average\n",
    "weighted_mean_numpy = average(houses_per_month['Mean Price'],weights = houses_per_month['Houses Sold'])\n",
    "\n",
    "equal = round(weighted_mean_function, 10) == round(weighted_mean_numpy, 10)\n",
    "equal"
   ]
  },
  {
   "cell_type": "markdown",
   "id": "89b547e5",
   "metadata": {},
   "source": [
    "## 4. The Median for Open-ended Distributions"
   ]
  },
  {
   "cell_type": "code",
   "execution_count": 27,
   "id": "268ddec4",
   "metadata": {},
   "outputs": [],
   "source": [
    "distribution1 = [23, 24, 22, '20 years or lower,', 23, 42, 35]\n",
    "distribution2 = [55, 38, 123, 40, 71]\n",
    "distribution3 = [45, 22, 7, '5 books or lower', 32, 65, '100 books or more']\n",
    "\n",
    "median1 = 23\n",
    "median2 = 55\n",
    "median3 = 32"
   ]
  },
  {
   "cell_type": "code",
   "execution_count": 28,
   "id": "6941684b",
   "metadata": {},
   "outputs": [
    {
     "data": {
      "text/html": [
       "<div>\n",
       "<style scoped>\n",
       "    .dataframe tbody tr th:only-of-type {\n",
       "        vertical-align: middle;\n",
       "    }\n",
       "\n",
       "    .dataframe tbody tr th {\n",
       "        vertical-align: top;\n",
       "    }\n",
       "\n",
       "    .dataframe thead th {\n",
       "        text-align: right;\n",
       "    }\n",
       "</style>\n",
       "<table border=\"1\" class=\"dataframe\">\n",
       "  <thead>\n",
       "    <tr style=\"text-align: right;\">\n",
       "      <th></th>\n",
       "      <th>Order</th>\n",
       "      <th>PID</th>\n",
       "      <th>MS SubClass</th>\n",
       "      <th>MS Zoning</th>\n",
       "      <th>Lot Frontage</th>\n",
       "      <th>Lot Area</th>\n",
       "      <th>Street</th>\n",
       "      <th>Alley</th>\n",
       "      <th>Lot Shape</th>\n",
       "      <th>Land Contour</th>\n",
       "      <th>...</th>\n",
       "      <th>Pool Area</th>\n",
       "      <th>Pool QC</th>\n",
       "      <th>Fence</th>\n",
       "      <th>Misc Feature</th>\n",
       "      <th>Misc Val</th>\n",
       "      <th>Mo Sold</th>\n",
       "      <th>Yr Sold</th>\n",
       "      <th>Sale Type</th>\n",
       "      <th>Sale Condition</th>\n",
       "      <th>SalePrice</th>\n",
       "    </tr>\n",
       "  </thead>\n",
       "  <tbody>\n",
       "    <tr>\n",
       "      <th>0</th>\n",
       "      <td>1</td>\n",
       "      <td>526301100</td>\n",
       "      <td>20</td>\n",
       "      <td>RL</td>\n",
       "      <td>141.0</td>\n",
       "      <td>31770</td>\n",
       "      <td>Pave</td>\n",
       "      <td>NaN</td>\n",
       "      <td>IR1</td>\n",
       "      <td>Lvl</td>\n",
       "      <td>...</td>\n",
       "      <td>0</td>\n",
       "      <td>NaN</td>\n",
       "      <td>NaN</td>\n",
       "      <td>NaN</td>\n",
       "      <td>0</td>\n",
       "      <td>5</td>\n",
       "      <td>2010</td>\n",
       "      <td>WD</td>\n",
       "      <td>Normal</td>\n",
       "      <td>215000</td>\n",
       "    </tr>\n",
       "    <tr>\n",
       "      <th>1</th>\n",
       "      <td>2</td>\n",
       "      <td>526350040</td>\n",
       "      <td>20</td>\n",
       "      <td>RH</td>\n",
       "      <td>80.0</td>\n",
       "      <td>11622</td>\n",
       "      <td>Pave</td>\n",
       "      <td>NaN</td>\n",
       "      <td>Reg</td>\n",
       "      <td>Lvl</td>\n",
       "      <td>...</td>\n",
       "      <td>0</td>\n",
       "      <td>NaN</td>\n",
       "      <td>MnPrv</td>\n",
       "      <td>NaN</td>\n",
       "      <td>0</td>\n",
       "      <td>6</td>\n",
       "      <td>2010</td>\n",
       "      <td>WD</td>\n",
       "      <td>Normal</td>\n",
       "      <td>105000</td>\n",
       "    </tr>\n",
       "    <tr>\n",
       "      <th>2</th>\n",
       "      <td>3</td>\n",
       "      <td>526351010</td>\n",
       "      <td>20</td>\n",
       "      <td>RL</td>\n",
       "      <td>81.0</td>\n",
       "      <td>14267</td>\n",
       "      <td>Pave</td>\n",
       "      <td>NaN</td>\n",
       "      <td>IR1</td>\n",
       "      <td>Lvl</td>\n",
       "      <td>...</td>\n",
       "      <td>0</td>\n",
       "      <td>NaN</td>\n",
       "      <td>NaN</td>\n",
       "      <td>Gar2</td>\n",
       "      <td>12500</td>\n",
       "      <td>6</td>\n",
       "      <td>2010</td>\n",
       "      <td>WD</td>\n",
       "      <td>Normal</td>\n",
       "      <td>172000</td>\n",
       "    </tr>\n",
       "    <tr>\n",
       "      <th>3</th>\n",
       "      <td>4</td>\n",
       "      <td>526353030</td>\n",
       "      <td>20</td>\n",
       "      <td>RL</td>\n",
       "      <td>93.0</td>\n",
       "      <td>11160</td>\n",
       "      <td>Pave</td>\n",
       "      <td>NaN</td>\n",
       "      <td>Reg</td>\n",
       "      <td>Lvl</td>\n",
       "      <td>...</td>\n",
       "      <td>0</td>\n",
       "      <td>NaN</td>\n",
       "      <td>NaN</td>\n",
       "      <td>NaN</td>\n",
       "      <td>0</td>\n",
       "      <td>4</td>\n",
       "      <td>2010</td>\n",
       "      <td>WD</td>\n",
       "      <td>Normal</td>\n",
       "      <td>244000</td>\n",
       "    </tr>\n",
       "    <tr>\n",
       "      <th>4</th>\n",
       "      <td>5</td>\n",
       "      <td>527105010</td>\n",
       "      <td>60</td>\n",
       "      <td>RL</td>\n",
       "      <td>74.0</td>\n",
       "      <td>13830</td>\n",
       "      <td>Pave</td>\n",
       "      <td>NaN</td>\n",
       "      <td>IR1</td>\n",
       "      <td>Lvl</td>\n",
       "      <td>...</td>\n",
       "      <td>0</td>\n",
       "      <td>NaN</td>\n",
       "      <td>MnPrv</td>\n",
       "      <td>NaN</td>\n",
       "      <td>0</td>\n",
       "      <td>3</td>\n",
       "      <td>2010</td>\n",
       "      <td>WD</td>\n",
       "      <td>Normal</td>\n",
       "      <td>189900</td>\n",
       "    </tr>\n",
       "  </tbody>\n",
       "</table>\n",
       "<p>5 rows × 82 columns</p>\n",
       "</div>"
      ],
      "text/plain": [
       "   Order        PID  MS SubClass MS Zoning  Lot Frontage  Lot Area Street  \\\n",
       "0      1  526301100           20        RL         141.0     31770   Pave   \n",
       "1      2  526350040           20        RH          80.0     11622   Pave   \n",
       "2      3  526351010           20        RL          81.0     14267   Pave   \n",
       "3      4  526353030           20        RL          93.0     11160   Pave   \n",
       "4      5  527105010           60        RL          74.0     13830   Pave   \n",
       "\n",
       "  Alley Lot Shape Land Contour  ... Pool Area Pool QC  Fence Misc Feature  \\\n",
       "0   NaN       IR1          Lvl  ...         0     NaN    NaN          NaN   \n",
       "1   NaN       Reg          Lvl  ...         0     NaN  MnPrv          NaN   \n",
       "2   NaN       IR1          Lvl  ...         0     NaN    NaN         Gar2   \n",
       "3   NaN       Reg          Lvl  ...         0     NaN    NaN          NaN   \n",
       "4   NaN       IR1          Lvl  ...         0     NaN  MnPrv          NaN   \n",
       "\n",
       "  Misc Val Mo Sold Yr Sold Sale Type  Sale Condition  SalePrice  \n",
       "0        0       5    2010       WD           Normal     215000  \n",
       "1        0       6    2010       WD           Normal     105000  \n",
       "2    12500       6    2010       WD           Normal     172000  \n",
       "3        0       4    2010       WD           Normal     244000  \n",
       "4        0       3    2010       WD           Normal     189900  \n",
       "\n",
       "[5 rows x 82 columns]"
      ]
     },
     "execution_count": 28,
     "metadata": {},
     "output_type": "execute_result"
    }
   ],
   "source": [
    "houses2 = pd.read_csv('AmesHousing.csv')\n",
    "houses2.head()"
   ]
  },
  {
   "cell_type": "markdown",
   "id": "b7cb496c",
   "metadata": {},
   "source": [
    "## 5. Distributions with Even Number of Values"
   ]
  },
  {
   "cell_type": "code",
   "execution_count": 29,
   "id": "26a9d125",
   "metadata": {},
   "outputs": [],
   "source": [
    "# Sorting the values\n",
    "rooms = houses2['TotRms AbvGrd'].copy()\n",
    "rooms = rooms.replace({'10 or more': 10})\n",
    "rooms = rooms.astype(int)\n",
    "rooms_sorted = rooms.sort_values()\n",
    "\n",
    "# Finding the median\n",
    "middle_indices = [int((len(rooms_sorted) / 2) - 1),\n",
    "                  int((len(rooms_sorted) / 2))\n",
    "                 ] # len - 1 and len because Series use 0-indexing \n",
    "middle_values = rooms_sorted.iloc[middle_indices]\n",
    "median = middle_values.mean()"
   ]
  },
  {
   "cell_type": "code",
   "execution_count": 30,
   "id": "31535ee2",
   "metadata": {},
   "outputs": [
    {
     "data": {
      "text/plain": [
       "957    6\n",
       "953    6\n",
       "Name: TotRms AbvGrd, dtype: int32"
      ]
     },
     "execution_count": 30,
     "metadata": {},
     "output_type": "execute_result"
    }
   ],
   "source": [
    "middle_values"
   ]
  },
  {
   "cell_type": "code",
   "execution_count": 31,
   "id": "c30cdd73",
   "metadata": {},
   "outputs": [
    {
     "data": {
      "text/plain": [
       "6.0"
      ]
     },
     "execution_count": 31,
     "metadata": {},
     "output_type": "execute_result"
    }
   ],
   "source": [
    "median"
   ]
  },
  {
   "cell_type": "markdown",
   "id": "ec09c5b5",
   "metadata": {},
   "source": [
    "## 6. The Median as a Resistant Statistic"
   ]
  },
  {
   "cell_type": "code",
   "execution_count": 32,
   "id": "95ef6c8d",
   "metadata": {},
   "outputs": [
    {
     "data": {
      "image/png": "[encoded data removed]",
      "text/plain": [
       "<Figure size 432x288 with 1 Axes>"
      ]
     },
     "metadata": {
      "needs_background": "light"
     },
     "output_type": "display_data"
    },
    {
     "data": {
      "image/png": "[encoded data removed]",
      "text/plain": [
       "<Figure size 432x288 with 1 Axes>"
      ]
     },
     "metadata": {
      "needs_background": "light"
     },
     "output_type": "display_data"
    }
   ],
   "source": [
    "houses2['Lot Area'].plot.box()\n",
    "plt.show()\n",
    "houses2['SalePrice'].plot.box()\n",
    "plt.show()\n",
    "\n",
    "\n",
    "lotarea_difference = houses2['Lot Area'].mean() - houses2['Lot Area'].median()\n",
    "\n",
    "saleprice_difference = houses2['SalePrice'].mean() - houses2['SalePrice'].median()"
   ]
  },
  {
   "cell_type": "code",
   "execution_count": 33,
   "id": "f4e19a29",
   "metadata": {},
   "outputs": [
    {
     "data": {
      "text/plain": [
       "711.4218430034125"
      ]
     },
     "execution_count": 33,
     "metadata": {},
     "output_type": "execute_result"
    }
   ],
   "source": [
    "lotarea_difference"
   ]
  },
  {
   "cell_type": "code",
   "execution_count": 34,
   "id": "76e99c81",
   "metadata": {},
   "outputs": [
    {
     "data": {
      "text/plain": [
       "20796.060068259394"
      ]
     },
     "execution_count": 34,
     "metadata": {},
     "output_type": "execute_result"
    }
   ],
   "source": [
    "saleprice_difference"
   ]
  },
  {
   "cell_type": "markdown",
   "id": "ce134e70",
   "metadata": {},
   "source": [
    "## 7. The Median for Ordinal Scales"
   ]
  },
  {
   "cell_type": "code",
   "execution_count": 35,
   "id": "cac51d76",
   "metadata": {},
   "outputs": [
    {
     "data": {
      "text/plain": [
       "5.0"
      ]
     },
     "execution_count": 35,
     "metadata": {},
     "output_type": "execute_result"
    }
   ],
   "source": [
    "median = houses2['Overall Cond'].median()\n",
    "median"
   ]
  },
  {
   "cell_type": "code",
   "execution_count": 36,
   "id": "5c6a0961",
   "metadata": {},
   "outputs": [
    {
     "data": {
      "text/plain": [
       "5.563139931740614"
      ]
     },
     "execution_count": 36,
     "metadata": {},
     "output_type": "execute_result"
    }
   ],
   "source": [
    "mean = houses2['Overall Cond'].mean()\n",
    "mean"
   ]
  },
  {
   "cell_type": "code",
   "execution_count": 37,
   "id": "c8652781",
   "metadata": {},
   "outputs": [
    {
     "data": {
      "text/plain": [
       "<AxesSubplot:ylabel='Frequency'>"
      ]
     },
     "execution_count": 37,
     "metadata": {},
     "output_type": "execute_result"
    },
    {
     "data": {
      "image/png": "[encoded data removed]",
      "text/plain": [
       "<Figure size 432x288 with 1 Axes>"
      ]
     },
     "metadata": {
      "needs_background": "light"
     },
     "output_type": "display_data"
    }
   ],
   "source": [
    "houses2['Overall Cond'].plot.hist()"
   ]
  },
  {
   "cell_type": "code",
   "execution_count": 38,
   "id": "57951c00",
   "metadata": {},
   "outputs": [],
   "source": [
    "# more_representative = 'mean'"
   ]
  },
  {
   "cell_type": "markdown",
   "id": "6cd633e6",
   "metadata": {},
   "source": [
    "# The Mode"
   ]
  },
  {
   "cell_type": "markdown",
   "id": "087e565d",
   "metadata": {},
   "source": [
    "## 1. The Mode for Ordinal Variables"
   ]
  },
  {
   "cell_type": "code",
   "execution_count": 39,
   "id": "337626b1",
   "metadata": {},
   "outputs": [
    {
     "data": {
      "text/plain": [
       "0    True\n",
       "dtype: bool"
      ]
     },
     "execution_count": 39,
     "metadata": {},
     "output_type": "execute_result"
    }
   ],
   "source": [
    "# ordinal\n",
    "def mode(array):\n",
    "\n",
    "    counts = {}\n",
    "\n",
    "    for value in array:\n",
    "        if value in counts:\n",
    "            counts[value] += 1\n",
    "        else:\n",
    "            counts[value] = 1\n",
    "        \n",
    "    return max(counts, key = counts.get)\n",
    "\n",
    "mode_function = mode(houses2['Land Slope'])\n",
    "mode_method = houses2['Land Slope'].mode()\n",
    "\n",
    "same = mode_function == mode_method\n",
    "same"
   ]
  },
  {
   "cell_type": "markdown",
   "id": "dc81e965",
   "metadata": {},
   "source": [
    "## 2. The Mode for Nominal Variables"
   ]
  },
  {
   "cell_type": "code",
   "execution_count": 40,
   "id": "a5ec21ec",
   "metadata": {},
   "outputs": [
    {
     "name": "stdout",
     "output_type": "stream",
     "text": [
      "Gable\n"
     ]
    }
   ],
   "source": [
    "#nominal\n",
    "def mode(array):\n",
    "    counts = {}\n",
    "    \n",
    "    for value in array:\n",
    "        if value in counts:\n",
    "            counts[value] += 1\n",
    "        else:\n",
    "            counts[value] = 1\n",
    "    return (max(counts, key = counts.get),counts)\n",
    "\n",
    "mode,value_counts = mode(houses2['Roof Style'])\n",
    "\n",
    "print(mode)"
   ]
  },
  {
   "cell_type": "markdown",
   "id": "88155df1",
   "metadata": {},
   "source": [
    "## 3. The Mode for Discrete Variables"
   ]
  },
  {
   "cell_type": "code",
   "execution_count": 41,
   "id": "e68801e4",
   "metadata": {},
   "outputs": [
    {
     "data": {
      "text/plain": [
       "0    3\n",
       "dtype: int64"
      ]
     },
     "execution_count": 41,
     "metadata": {},
     "output_type": "execute_result"
    }
   ],
   "source": [
    "bedroom_variable = 'discrete'\n",
    "\n",
    "bedroom_mode = houses2['Bedroom AbvGr'].mode()\n",
    "price_variable = 'continuous'\n",
    "bedroom_mode"
   ]
  },
  {
   "cell_type": "markdown",
   "id": "d8ebdbda",
   "metadata": {},
   "source": [
    "## 4. Special Cases"
   ]
  },
  {
   "cell_type": "code",
   "execution_count": 42,
   "id": "84d45620",
   "metadata": {},
   "outputs": [
    {
     "name": "stdout",
     "output_type": "stream",
     "text": [
      "(0, 100000]          252\n",
      "(100000, 200000]    1821\n",
      "(200000, 300000]     627\n",
      "(300000, 400000]     166\n",
      "(400000, 500000]      47\n",
      "(500000, 600000]      11\n",
      "(600000, 700000]       4\n",
      "(700000, 800000]       2\n",
      "dtype: int64\n"
     ]
    }
   ],
   "source": [
    "intervals = pd.interval_range(start = 0, end = 800000, freq = 100000)\n",
    "gr_freq_table = pd.Series([0,0,0,0,0,0,0,0], index = intervals)\n",
    "\n",
    "for value in houses2['SalePrice']:\n",
    "    for interval in intervals:\n",
    "        if value in interval:\n",
    "            gr_freq_table.loc[interval] += 1\n",
    "            break\n",
    "\n",
    "print(gr_freq_table)\n",
    "\n",
    "mode = 150000\n",
    "\n",
    "mean = houses2['SalePrice'].mean()\n",
    "median = houses2['SalePrice'].median()"
   ]
  },
  {
   "cell_type": "code",
   "execution_count": 43,
   "id": "63b3cc0e",
   "metadata": {},
   "outputs": [
    {
     "data": {
      "text/plain": [
       "180796.0600682594"
      ]
     },
     "execution_count": 43,
     "metadata": {},
     "output_type": "execute_result"
    }
   ],
   "source": [
    "mean"
   ]
  },
  {
   "cell_type": "code",
   "execution_count": 44,
   "id": "4be58839",
   "metadata": {},
   "outputs": [
    {
     "data": {
      "text/plain": [
       "160000.0"
      ]
     },
     "execution_count": 44,
     "metadata": {},
     "output_type": "execute_result"
    }
   ],
   "source": [
    "median"
   ]
  },
  {
   "cell_type": "markdown",
   "id": "ff4124f2",
   "metadata": {},
   "source": [
    "## 5. Skewed Distributions"
   ]
  },
  {
   "cell_type": "code",
   "execution_count": 45,
   "id": "67bf5cad",
   "metadata": {},
   "outputs": [],
   "source": [
    "distribution_1 = {'mean': 3021 , 'median': 3001, 'mode': 2947}\n",
    "distribution_2 = {'median': 924 , 'mode': 832, 'mean': 962}\n",
    "distribution_3 = {'mode': 202, 'mean': 143, 'median': 199}\n",
    "\n",
    "shape_1 = 'right skew'\n",
    "shape_2 = 'right skew'\n",
    "shape_3 = 'left skew'"
   ]
  },
  {
   "cell_type": "markdown",
   "id": "fa568ae9",
   "metadata": {},
   "source": [
    "## 6. Symmetrical Distributions"
   ]
  },
  {
   "cell_type": "code",
   "execution_count": 46,
   "id": "91c0f9d1",
   "metadata": {},
   "outputs": [
    {
     "data": {
      "text/plain": [
       "0    6\n",
       "dtype: int64"
      ]
     },
     "execution_count": 46,
     "metadata": {},
     "output_type": "execute_result"
    }
   ],
   "source": [
    "houses2['Mo Sold'].mode()"
   ]
  },
  {
   "cell_type": "code",
   "execution_count": 47,
   "id": "38499b99",
   "metadata": {},
   "outputs": [
    {
     "data": {
      "text/plain": [
       "6.216040955631399"
      ]
     },
     "execution_count": 47,
     "metadata": {},
     "output_type": "execute_result"
    }
   ],
   "source": [
    "houses2['Mo Sold'].mean()"
   ]
  },
  {
   "cell_type": "code",
   "execution_count": 48,
   "id": "588066f3",
   "metadata": {},
   "outputs": [
    {
     "data": {
      "text/plain": [
       "6.0"
      ]
     },
     "execution_count": 48,
     "metadata": {},
     "output_type": "execute_result"
    }
   ],
   "source": [
    "houses2['Mo Sold'].median()"
   ]
  },
  {
   "cell_type": "code",
   "execution_count": 49,
   "id": "f4820096",
   "metadata": {},
   "outputs": [
    {
     "data": {
      "image/png": "[encoded data removed]",
      "text/plain": [
       "<Figure size 432x288 with 1 Axes>"
      ]
     },
     "metadata": {
      "needs_background": "light"
     },
     "output_type": "display_data"
    }
   ],
   "source": [
    "houses2['Mo Sold'].plot.kde(xlim=[1,12])\n",
    "plt.axvline(houses2['Mo Sold'].mode()[0], color = 'Green', label = 'Mode')\n",
    "plt.axvline(houses2['Mo Sold'].median(),color='Orange', label = 'Median')\n",
    "plt.axvline(houses2['Mo Sold'].mean(),color='Black',label='Mean')\n",
    "plt.legend()\n",
    "plt.show()"
   ]
  }
 ],
 "metadata": {
  "kernelspec": {
   "display_name": "Python 3",
   "language": "python",
   "name": "python3"
  },
  "language_info": {
   "codemirror_mode": {
    "name": "ipython",
    "version": 3
   },
   "file_extension": ".py",
   "mimetype": "text/x-python",
   "name": "python",
   "nbconvert_exporter": "python",
   "pygments_lexer": "ipython3",
   "version": "3.8.8"
  }
 },
 "nbformat": 4,
 "nbformat_minor": 5
}
