{
 "cells": [
  {
   "cell_type": "code",
   "execution_count": 1,
   "id": "630e5c4d",
   "metadata": {},
   "outputs": [],
   "source": [
    "import pandas as pd"
   ]
  },
  {
   "cell_type": "code",
   "execution_count": 2,
   "id": "754b8b7c",
   "metadata": {},
   "outputs": [],
   "source": [
    "houses = pd.read_csv('AmesHousing.csv')"
   ]
  },
  {
   "cell_type": "markdown",
   "id": "a56324a3",
   "metadata": {},
   "source": [
    "## Individual Values"
   ]
  },
  {
   "cell_type": "code",
   "execution_count": 3,
   "id": "6a76b9e7",
   "metadata": {},
   "outputs": [
    {
     "data": {
      "image/png": "[encoded data removed]",
      "text/plain": [
       "<Figure size 432x288 with 1 Axes>"
      ]
     },
     "metadata": {
      "needs_background": "light"
     },
     "output_type": "display_data"
    }
   ],
   "source": [
    "import matplotlib.pyplot as plt\n",
    "houses['SalePrice'].plot.kde(xlim = (houses['SalePrice'].min(),\n",
    "                                    houses['SalePrice'].max()\n",
    "                                    )\n",
    "                            )\n",
    "\n",
    "st_dev = houses['SalePrice'].std(ddof = 0) # without using Bessel's correction\n",
    "mean = houses['SalePrice'].mean()\n",
    "plt.axvline(mean, color = 'Black', label = 'Mean')\n",
    "plt.axvline(mean + st_dev, color = 'Red', label = 'Standard deviation')\n",
    "plt.axvline(220000, color = 'Orange', label = '220000')\n",
    "plt.legend()\n",
    "\n",
    "very_expensive = False"
   ]
  },
  {
   "cell_type": "markdown",
   "id": "8ea10725",
   "metadata": {},
   "source": [
    "## Number of Standard Deviations"
   ]
  },
  {
   "cell_type": "code",
   "execution_count": 5,
   "id": "d7c61ef7",
   "metadata": {},
   "outputs": [
    {
     "data": {
      "text/plain": [
       "0.4908280788718362"
      ]
     },
     "execution_count": 5,
     "metadata": {},
     "output_type": "execute_result"
    }
   ],
   "source": [
    "distance = 220000 - houses['SalePrice'].mean()\n",
    "st_devs_away = distance / houses['SalePrice'].std(ddof = 0)\n",
    "st_devs_away"
   ]
  },
  {
   "cell_type": "markdown",
   "id": "805ccaf9",
   "metadata": {},
   "source": [
    "## Z-scores"
   ]
  },
  {
   "cell_type": "code",
   "execution_count": 6,
   "id": "f3f9e6c6",
   "metadata": {},
   "outputs": [],
   "source": [
    "min_val = houses['SalePrice'].min()\n",
    "mean_val = houses['SalePrice'].mean()\n",
    "max_val = houses['SalePrice'].max()\n",
    "def z_score(value, array, bessel = 0):\n",
    "    mean = sum(array) / len(array)\n",
    "    \n",
    "    from numpy import std\n",
    "    st_dev = std(array, ddof = bessel)\n",
    "    \n",
    "    distance = value - mean\n",
    "    z = distance / st_dev\n",
    "    \n",
    "    return z\n",
    "\n",
    "min_z = z_score(min_val, houses['SalePrice'])\n",
    "mean_z = z_score(mean_val, houses['SalePrice'])\n",
    "max_z = z_score(max_val, houses['SalePrice'])"
   ]
  },
  {
   "cell_type": "code",
   "execution_count": 7,
   "id": "5b3d4602",
   "metadata": {},
   "outputs": [
    {
     "data": {
      "text/plain": [
       "-2.1034258973406126"
      ]
     },
     "execution_count": 7,
     "metadata": {},
     "output_type": "execute_result"
    }
   ],
   "source": [
    "min_z"
   ]
  },
  {
   "cell_type": "code",
   "execution_count": 8,
   "id": "70b825b2",
   "metadata": {},
   "outputs": [
    {
     "data": {
      "text/plain": [
       "0.0"
      ]
     },
     "execution_count": 8,
     "metadata": {},
     "output_type": "execute_result"
    }
   ],
   "source": [
    "mean_z"
   ]
  },
  {
   "cell_type": "code",
   "execution_count": 9,
   "id": "5c3a00df",
   "metadata": {},
   "outputs": [
    {
     "data": {
      "text/plain": [
       "7.188956446929806"
      ]
     },
     "execution_count": 9,
     "metadata": {},
     "output_type": "execute_result"
    }
   ],
   "source": [
    "max_z"
   ]
  },
  {
   "cell_type": "markdown",
   "id": "000d45b3",
   "metadata": {},
   "source": [
    "## Locating Values in Different Distributions"
   ]
  },
  {
   "cell_type": "code",
   "execution_count": 11,
   "id": "1c5a33bb",
   "metadata": {},
   "outputs": [
    {
     "name": "stdout",
     "output_type": "stream",
     "text": [
      "{'NAmes': 1.7239665910370237, 'CollgCr': -0.03334366282705464, 'OldTown': 1.7183080926865524, 'Edwards': 1.443576193848941, 'Somerst': -0.5186390646965722}\n"
     ]
    }
   ],
   "source": [
    "def z_score(value, array, bessel = 0):\n",
    "    mean = sum(array) / len(array)\n",
    "    \n",
    "    from numpy import std\n",
    "    st_dev = std(array, ddof = bessel)\n",
    "    \n",
    "    distance = value - mean\n",
    "    z = distance / st_dev\n",
    "    \n",
    "    return z\n",
    "# Segmenting the data by location\n",
    "north_ames = houses[houses['Neighborhood'] == 'NAmes']\n",
    "clg_creek = houses[houses['Neighborhood'] == 'CollgCr']\n",
    "old_town = houses[houses['Neighborhood'] == 'OldTown']\n",
    "edwards = houses[houses['Neighborhood'] == 'Edwards']\n",
    "somerset = houses[houses['Neighborhood'] == 'Somerst']\n",
    "\n",
    "# Finding the z-score for 200000 for every location\n",
    "z_by_location = {}\n",
    "for data, neighborhood in [(north_ames, 'NAmes'), (clg_creek, 'CollgCr'),\n",
    "                     (old_town, 'OldTown'), (edwards, 'Edwards'),\n",
    "                     (somerset, 'Somerst')]:\n",
    "    \n",
    "    z_by_location[neighborhood] = z_score(200000, data['SalePrice'],\n",
    "                                          bessel = 0)\n",
    "\n",
    "# Finding the location with the z-score closest to 0\n",
    "print(z_by_location)"
   ]
  },
  {
   "cell_type": "code",
   "execution_count": 12,
   "id": "33b0f358",
   "metadata": {},
   "outputs": [],
   "source": [
    "best_investment = 'College Creek'"
   ]
  },
  {
   "cell_type": "markdown",
   "id": "75eb6d91",
   "metadata": {},
   "source": [
    "## Transforming Distributions"
   ]
  },
  {
   "cell_type": "code",
   "execution_count": 14,
   "id": "4e756ea4",
   "metadata": {},
   "outputs": [
    {
     "data": {
      "image/png": "[encoded data removed]",
      "text/plain": [
       "<Figure size 792x252 with 2 Axes>"
      ]
     },
     "metadata": {
      "needs_background": "light"
     },
     "output_type": "display_data"
    }
   ],
   "source": [
    "mean = houses['SalePrice'].mean()\n",
    "st_dev = houses['SalePrice'].std(ddof = 0)\n",
    "\n",
    "houses['z_prices'] = houses['SalePrice'].apply(lambda x: ((x - mean) / st_dev))\n",
    "\n",
    "plt.figure(figsize = (11,3.5))\n",
    "plt.subplot(1,2,1)\n",
    "houses['z_prices'].plot.kde(xlim = (houses['z_prices'].min(),houses['z_prices'].max()))\n",
    "plt.subplot(1,2,2)\n",
    "houses['SalePrice'].plot.kde(xlim = (houses['SalePrice'].min(),houses['SalePrice'].max()))\n",
    "plt.tight_layout() # otherwise the plots will overlay partially"
   ]
  },
  {
   "cell_type": "code",
   "execution_count": 22,
   "id": "b4858c5b",
   "metadata": {},
   "outputs": [],
   "source": [
    "z_mean_price = houses['z_prices'].mean()\n",
    "z_stdev_price = houses['z_prices'].std(ddof = 0)"
   ]
  },
  {
   "cell_type": "code",
   "execution_count": 23,
   "id": "e789b679",
   "metadata": {},
   "outputs": [
    {
     "data": {
      "text/plain": [
       "-1.1429992333726227e-16"
      ]
     },
     "execution_count": 23,
     "metadata": {},
     "output_type": "execute_result"
    }
   ],
   "source": [
    "z_mean_price"
   ]
  },
  {
   "cell_type": "code",
   "execution_count": 24,
   "id": "b5eb3faf",
   "metadata": {},
   "outputs": [
    {
     "data": {
      "text/plain": [
       "1.0000000000000002"
      ]
     },
     "execution_count": 24,
     "metadata": {},
     "output_type": "execute_result"
    }
   ],
   "source": [
    "z_stdev_price"
   ]
  },
  {
   "cell_type": "code",
   "execution_count": 25,
   "id": "288310da",
   "metadata": {},
   "outputs": [],
   "source": [
    "# Transforming 'Lot Area'\n",
    "mean_area = houses['Lot Area'].mean()\n",
    "stdev_area = houses['Lot Area'].std(ddof = 0)\n",
    "houses['z_area'] = houses['Lot Area'].apply(lambda x: ((x - mean_area) / stdev_area))\n",
    "\n",
    "z_mean_area = houses['z_area'].mean()\n",
    "z_stdev_area = houses['z_area'].std(ddof = 0)"
   ]
  },
  {
   "cell_type": "code",
   "execution_count": 26,
   "id": "dee49c3d",
   "metadata": {},
   "outputs": [
    {
     "data": {
      "text/plain": [
       "9.079767654464271e-17"
      ]
     },
     "execution_count": 26,
     "metadata": {},
     "output_type": "execute_result"
    }
   ],
   "source": [
    "z_mean_area"
   ]
  },
  {
   "cell_type": "code",
   "execution_count": 27,
   "id": "985837fa",
   "metadata": {},
   "outputs": [
    {
     "data": {
      "text/plain": [
       "1.0000000000000013"
      ]
     },
     "execution_count": 27,
     "metadata": {},
     "output_type": "execute_result"
    }
   ],
   "source": [
    "z_stdev_area"
   ]
  },
  {
   "cell_type": "markdown",
   "id": "01ad1189",
   "metadata": {},
   "source": [
    "## The Standard Distribution"
   ]
  },
  {
   "cell_type": "code",
   "execution_count": 29,
   "id": "f3cb2050",
   "metadata": {},
   "outputs": [],
   "source": [
    "from numpy import std,mean\n",
    "population = [0,8,0,8]\n",
    "mean_pop = mean(population)\n",
    "stdev_pop = std(population, ddof = 0)\n",
    "\n",
    "standardized_pop = []\n",
    "for value in population:\n",
    "    z = (value - mean_pop) / stdev_pop\n",
    "    standardized_pop.append(z)\n",
    "    \n",
    "mean_z = mean(standardized_pop)\n",
    "stdev_z = std(standardized_pop, ddof = 0)"
   ]
  },
  {
   "cell_type": "code",
   "execution_count": 30,
   "id": "0e261620",
   "metadata": {},
   "outputs": [
    {
     "data": {
      "text/plain": [
       "0.0"
      ]
     },
     "execution_count": 30,
     "metadata": {},
     "output_type": "execute_result"
    }
   ],
   "source": [
    "mean_z"
   ]
  },
  {
   "cell_type": "code",
   "execution_count": 31,
   "id": "e870e13b",
   "metadata": {},
   "outputs": [
    {
     "data": {
      "text/plain": [
       "1.0"
      ]
     },
     "execution_count": 31,
     "metadata": {},
     "output_type": "execute_result"
    }
   ],
   "source": [
    "stdev_z"
   ]
  },
  {
   "cell_type": "markdown",
   "id": "086651cf",
   "metadata": {},
   "source": [
    "##  Standardizing Samples"
   ]
  },
  {
   "cell_type": "code",
   "execution_count": 34,
   "id": "70610385",
   "metadata": {},
   "outputs": [
    {
     "name": "stdout",
     "output_type": "stream",
     "text": [
      "[-0.8660254037844387, 0.8660254037844387, -0.8660254037844387, 0.8660254037844387]\n"
     ]
    }
   ],
   "source": [
    "sample = [0,8,0,8]\n",
    "x_bar = mean(sample)\n",
    "s = std(sample, ddof = 1)\n",
    "\n",
    "standardized_sample = []\n",
    "for value in sample:\n",
    "    z = (value - x_bar) / s\n",
    "    standardized_sample.append(z)\n",
    "\n",
    "print(standardized_sample)"
   ]
  },
  {
   "cell_type": "code",
   "execution_count": 35,
   "id": "d94e8cfc",
   "metadata": {},
   "outputs": [
    {
     "name": "stdout",
     "output_type": "stream",
     "text": [
      "0.0\n"
     ]
    }
   ],
   "source": [
    "print(mean(standardized_sample))"
   ]
  },
  {
   "cell_type": "code",
   "execution_count": 36,
   "id": "90c6de09",
   "metadata": {},
   "outputs": [
    {
     "name": "stdout",
     "output_type": "stream",
     "text": [
      "0.8660254037844387\n"
     ]
    }
   ],
   "source": [
    "print(std(standardized_sample)) # ddof = 0 by default"
   ]
  },
  {
   "cell_type": "code",
   "execution_count": 33,
   "id": "1c3aca9b",
   "metadata": {},
   "outputs": [
    {
     "data": {
      "text/plain": [
       "1.0"
      ]
     },
     "execution_count": 33,
     "metadata": {},
     "output_type": "execute_result"
    }
   ],
   "source": [
    "sample = [0,8,0,8]\n",
    "\n",
    "x_bar = mean(sample)\n",
    "s = std(sample, ddof = 1)\n",
    "\n",
    "standardized_sample = []\n",
    "for value in sample:\n",
    "    z = (value - x_bar) / s\n",
    "    standardized_sample.append(z)\n",
    "    \n",
    "stdev_sample = std(standardized_sample,ddof = 1)\n",
    "stdev_sample"
   ]
  }
 ],
 "metadata": {
  "kernelspec": {
   "display_name": "Python 3",
   "language": "python",
   "name": "python3"
  },
  "language_info": {
   "codemirror_mode": {
    "name": "ipython",
    "version": 3
   },
   "file_extension": ".py",
   "mimetype": "text/x-python",
   "name": "python",
   "nbconvert_exporter": "python",
   "pygments_lexer": "ipython3",
   "version": "3.8.8"
  }
 },
 "nbformat": 4,
 "nbformat_minor": 5
}
