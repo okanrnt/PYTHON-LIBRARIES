{
 "cells": [
  {
   "cell_type": "code",
   "execution_count": 1,
   "id": "84a533c5",
   "metadata": {},
   "outputs": [],
   "source": [
    "import pandas as pd"
   ]
  },
  {
   "cell_type": "code",
   "execution_count": 2,
   "id": "f51e0f7d",
   "metadata": {},
   "outputs": [],
   "source": [
    "houses = pd.read_csv('AmesHousing.csv')"
   ]
  },
  {
   "cell_type": "markdown",
   "id": "87c229d7",
   "metadata": {},
   "source": [
    "## 1. The Range"
   ]
  },
  {
   "cell_type": "code",
   "execution_count": 3,
   "id": "2a679659",
   "metadata": {},
   "outputs": [
    {
     "data": {
      "text/plain": [
       "{2010: 598868, 2009: 575100, 2008: 601900, 2007: 715700, 2006: 590000}"
      ]
     },
     "execution_count": 3,
     "metadata": {},
     "output_type": "execute_result"
    }
   ],
   "source": [
    "def find_range(array):\n",
    "    return max(array) - min(array)\n",
    "\n",
    "range_by_year = {}\n",
    "for year in houses['Yr Sold'].unique():\n",
    "    data_by_year = houses[houses['Yr Sold'] == year]\n",
    "    range_by_year[year] = find_range(data_by_year['SalePrice'])\n",
    "\n",
    "range_by_year"
   ]
  },
  {
   "cell_type": "markdown",
   "id": "b81018a3",
   "metadata": {},
   "source": [
    "## 2. The Average Distance"
   ]
  },
  {
   "cell_type": "code",
   "execution_count": 4,
   "id": "fd1391ab",
   "metadata": {},
   "outputs": [
    {
     "data": {
      "text/plain": [
       "0.0"
      ]
     },
     "execution_count": 4,
     "metadata": {},
     "output_type": "execute_result"
    }
   ],
   "source": [
    "C = [1,1,1,1,1,1,1,1,1,21]\n",
    "def average_distance(array):\n",
    "    reference_point = sum(array) / len(array)\n",
    "    \n",
    "    distances = []\n",
    "    for value in array:\n",
    "        distances.append(value - reference_point)\n",
    "        \n",
    "    return sum(distances) / len(distances)\n",
    "\n",
    "avg_distance = average_distance(C)\n",
    "avg_distance"
   ]
  },
  {
   "cell_type": "markdown",
   "id": "cd3401ef",
   "metadata": {},
   "source": [
    "## 3. Mean Absolute Deviation"
   ]
  },
  {
   "cell_type": "code",
   "execution_count": 5,
   "id": "1d5631a9",
   "metadata": {},
   "outputs": [
    {
     "data": {
      "text/plain": [
       "3.6"
      ]
     },
     "execution_count": 5,
     "metadata": {},
     "output_type": "execute_result"
    }
   ],
   "source": [
    "C = [1,1,1,1,1,1,1,1,1,21]\n",
    "def mean_absolute_deviation(array):\n",
    "    reference_point = sum(array) / len(array)\n",
    "    \n",
    "    distances = []\n",
    "    for value in array:\n",
    "        absolute_distance = abs(value - reference_point)\n",
    "        distances.append(absolute_distance)\n",
    "        \n",
    "    return sum(distances) / len(distances)\n",
    "\n",
    "mad = mean_absolute_deviation(C)\n",
    "mad"
   ]
  },
  {
   "cell_type": "markdown",
   "id": "c6fc43f6",
   "metadata": {},
   "source": [
    "## 4. Variance"
   ]
  },
  {
   "cell_type": "code",
   "execution_count": 6,
   "id": "b57250da",
   "metadata": {},
   "outputs": [
    {
     "data": {
      "text/plain": [
       "36.0"
      ]
     },
     "execution_count": 6,
     "metadata": {},
     "output_type": "execute_result"
    }
   ],
   "source": [
    "C = [1,1,1,1,1,1,1,1,1,21]\n",
    "def variance(array):\n",
    "    reference_point = sum(array) / len(array)\n",
    "    \n",
    "    distances = []\n",
    "    for value in array:\n",
    "        squared_distance = (value - reference_point)**2\n",
    "        distances.append(squared_distance)\n",
    "        \n",
    "    return sum(distances) / len(distances)\n",
    "\n",
    "variance_C = variance(C)\n",
    "variance_C"
   ]
  },
  {
   "cell_type": "markdown",
   "id": "ccf5dbb6",
   "metadata": {},
   "source": [
    "## 5. Standard Deviation"
   ]
  },
  {
   "cell_type": "code",
   "execution_count": 7,
   "id": "8c6a7511",
   "metadata": {},
   "outputs": [
    {
     "data": {
      "text/plain": [
       "6.0"
      ]
     },
     "execution_count": 7,
     "metadata": {},
     "output_type": "execute_result"
    }
   ],
   "source": [
    "from math import sqrt\n",
    "C = [1,1,1,1,1,1,1,1,1,21]\n",
    "def standard_deviation(array):\n",
    "    reference_point = sum(array) / len(array)\n",
    "    \n",
    "    distances = []\n",
    "    for value in array:\n",
    "        squared_distance = (value - reference_point)**2\n",
    "        distances.append(squared_distance)\n",
    "        \n",
    "    variance = sum(distances) / len(distances)\n",
    "    \n",
    "    return sqrt(variance)\n",
    "\n",
    "standard_deviation_C = standard_deviation(C)\n",
    "standard_deviation_C"
   ]
  },
  {
   "cell_type": "markdown",
   "id": "990d5b3e",
   "metadata": {},
   "source": [
    "## 6. Average Variability Around the Mean"
   ]
  },
  {
   "cell_type": "code",
   "execution_count": 8,
   "id": "deb0d17c",
   "metadata": {},
   "outputs": [
    {
     "name": "stdout",
     "output_type": "stream",
     "text": [
      "79873.05865192247\n"
     ]
    }
   ],
   "source": [
    "print(standard_deviation(houses['SalePrice']))"
   ]
  },
  {
   "cell_type": "code",
   "execution_count": 9,
   "id": "da2d3146",
   "metadata": {},
   "outputs": [
    {
     "name": "stdout",
     "output_type": "stream",
     "text": [
      "180796.0600682594\n"
     ]
    }
   ],
   "source": [
    "print(houses['SalePrice'].mean())"
   ]
  },
  {
   "cell_type": "code",
   "execution_count": 10,
   "id": "e0d86ed8",
   "metadata": {},
   "outputs": [],
   "source": [
    "import matplotlib.pyplot as plt"
   ]
  },
  {
   "cell_type": "code",
   "execution_count": 11,
   "id": "3a107233",
   "metadata": {},
   "outputs": [
    {
     "data": {
      "text/plain": [
       "<matplotlib.legend.Legend at 0x24cc9a9f640>"
      ]
     },
     "execution_count": 11,
     "metadata": {},
     "output_type": "execute_result"
    },
    {
     "data": {
      "image/png": "[encoded data removed]",
      "text/plain": [
       "<Figure size 432x288 with 1 Axes>"
      ]
     },
     "metadata": {
      "needs_background": "light"
     },
     "output_type": "display_data"
    }
   ],
   "source": [
    "mean = houses['SalePrice'].mean()\n",
    "st_dev = standard_deviation(houses['SalePrice'])\n",
    "houses['SalePrice'].plot.hist()\n",
    "plt.axvline(mean, color = 'Black', label = 'Mean')\n",
    "plt.axvline(mean - st_dev, color = 'Red', label = 'Below')\n",
    "plt.axvline(mean + st_dev, color = 'Violet', label = 'Above')\n",
    "plt.legend()"
   ]
  },
  {
   "cell_type": "code",
   "execution_count": 12,
   "id": "9d33fce8",
   "metadata": {},
   "outputs": [],
   "source": [
    "def standard_deviation(array):\n",
    "    reference_point = sum(array) / len(array)\n",
    "    \n",
    "    distances = []\n",
    "    for value in array:\n",
    "        squared_distance = (value - reference_point)**2\n",
    "        distances.append(squared_distance)\n",
    "        \n",
    "    variance = sum(distances) / len(distances)\n",
    "    \n",
    "    return sqrt(variance)\n",
    "# Measuring first the variability for each year\n",
    "years = {}\n",
    "\n",
    "for year in houses['Yr Sold'].unique():\n",
    "    year_segment = houses[houses['Yr Sold'] == year]\n",
    "    st_dev = standard_deviation(year_segment['SalePrice'])\n",
    "    years[year] = st_dev\n",
    "\n",
    "# Getting years of max and min variability\n",
    "greatest_variability = max(years, key = years.get) # outputs directly the year with the maximum variability\n",
    "lowest_variability = min(years, key = years.get) # outputs directly the year with the minimum variability"
   ]
  },
  {
   "cell_type": "code",
   "execution_count": 13,
   "id": "785da8f2",
   "metadata": {},
   "outputs": [
    {
     "data": {
      "text/plain": [
       "{2010: 74521.920711871,\n",
       " 2009: 80794.39070298373,\n",
       " 2008: 75531.94622558328,\n",
       " 2007: 82483.28433288915,\n",
       " 2006: 82553.57563561267}"
      ]
     },
     "execution_count": 13,
     "metadata": {},
     "output_type": "execute_result"
    }
   ],
   "source": [
    "years"
   ]
  },
  {
   "cell_type": "code",
   "execution_count": 14,
   "id": "24e9ace5",
   "metadata": {},
   "outputs": [
    {
     "data": {
      "text/plain": [
       "2006"
      ]
     },
     "execution_count": 14,
     "metadata": {},
     "output_type": "execute_result"
    }
   ],
   "source": [
    "greatest_variability"
   ]
  },
  {
   "cell_type": "code",
   "execution_count": 15,
   "id": "f6328273",
   "metadata": {},
   "outputs": [
    {
     "data": {
      "text/plain": [
       "2010"
      ]
     },
     "execution_count": 15,
     "metadata": {},
     "output_type": "execute_result"
    }
   ],
   "source": [
    "lowest_variability"
   ]
  },
  {
   "cell_type": "markdown",
   "id": "af773f27",
   "metadata": {},
   "source": [
    "## 7. A Measure of Spread"
   ]
  },
  {
   "cell_type": "code",
   "execution_count": 16,
   "id": "016bfb14",
   "metadata": {},
   "outputs": [
    {
     "name": "stdout",
     "output_type": "stream",
     "text": [
      "Sample 1: 81785.0811515768\n",
      "Sample 2: 100370.62998094413\n",
      "Sample 3: 60676.038515710636\n",
      "Sample 4: 64436.40016450328\n"
     ]
    }
   ],
   "source": [
    "for i in range(1,5):\n",
    "    sample = houses['SalePrice'].sample(50, random_state = i)\n",
    "    st_dev = standard_deviation(sample)\n",
    "    print('Sample ' + str(i) + ': ' + str(st_dev))"
   ]
  },
  {
   "cell_type": "code",
   "execution_count": 17,
   "id": "1836b86c",
   "metadata": {},
   "outputs": [],
   "source": [
    "sample1 = houses['Year Built'].sample(50, random_state = 1)\n",
    "sample2 = houses['Year Built'].sample(50, random_state = 2)\n",
    "\n",
    "st_dev1 = standard_deviation(sample1)\n",
    "st_dev2 = standard_deviation(sample2)"
   ]
  },
  {
   "cell_type": "code",
   "execution_count": 18,
   "id": "58e80ea5",
   "metadata": {},
   "outputs": [
    {
     "data": {
      "text/plain": [
       "29.239589600403075"
      ]
     },
     "execution_count": 18,
     "metadata": {},
     "output_type": "execute_result"
    }
   ],
   "source": [
    "st_dev1"
   ]
  },
  {
   "cell_type": "code",
   "execution_count": 19,
   "id": "c1f0bf33",
   "metadata": {},
   "outputs": [
    {
     "data": {
      "text/plain": [
       "32.466234767832255"
      ]
     },
     "execution_count": 19,
     "metadata": {},
     "output_type": "execute_result"
    }
   ],
   "source": [
    "st_dev2"
   ]
  },
  {
   "cell_type": "markdown",
   "id": "a1d54b20",
   "metadata": {},
   "source": [
    "## 8. The Sample Standard Deviation"
   ]
  },
  {
   "cell_type": "code",
   "execution_count": 20,
   "id": "9507c114",
   "metadata": {},
   "outputs": [
    {
     "data": {
      "image/png": "[encoded data removed]",
      "text/plain": [
       "<Figure size 432x288 with 1 Axes>"
      ]
     },
     "metadata": {
      "needs_background": "light"
     },
     "output_type": "display_data"
    }
   ],
   "source": [
    "def standard_deviation(array):\n",
    "    reference_point = sum(array) / len(array)\n",
    "    \n",
    "    distances = []\n",
    "    for value in array:\n",
    "        squared_distance = (value - reference_point)**2\n",
    "        distances.append(squared_distance)\n",
    "    \n",
    "    variance = sum(distances) / len(distances)\n",
    "    \n",
    "    return sqrt(variance)\n",
    "\n",
    "st_devs = []\n",
    "\n",
    "for i in range(5000):\n",
    "    sample = houses['SalePrice'].sample(10, random_state = i)\n",
    "    st_dev = standard_deviation(sample)\n",
    "    st_devs.append(st_dev)\n",
    "    \n",
    "plt.hist(st_devs)\n",
    "plt.axvline(standard_deviation(houses['SalePrice']))\n",
    "plt.show()"
   ]
  },
  {
   "cell_type": "markdown",
   "id": "c07b2779",
   "metadata": {},
   "source": [
    "## 9. Bessel's Correction"
   ]
  },
  {
   "cell_type": "code",
   "execution_count": 21,
   "id": "eff83692",
   "metadata": {},
   "outputs": [
    {
     "name": "stdout",
     "output_type": "stream",
     "text": [
      "71303.64762671624\n"
     ]
    }
   ],
   "source": [
    "print(sum(st_devs) / 5000) #st_devs - a list with all the 5000 st. deviations"
   ]
  },
  {
   "cell_type": "code",
   "execution_count": 22,
   "id": "3978e915",
   "metadata": {},
   "outputs": [
    {
     "name": "stdout",
     "output_type": "stream",
     "text": [
      "79873.05865192247\n"
     ]
    }
   ],
   "source": [
    "print(standard_deviation(houses['SalePrice']))"
   ]
  },
  {
   "cell_type": "code",
   "execution_count": 23,
   "id": "6f78b6db",
   "metadata": {},
   "outputs": [
    {
     "data": {
      "image/png": "[encoded data removed]",
      "text/plain": [
       "<Figure size 432x288 with 1 Axes>"
      ]
     },
     "metadata": {
      "needs_background": "light"
     },
     "output_type": "display_data"
    }
   ],
   "source": [
    "def standard_deviation(array):\n",
    "    reference_point = sum(array) / len(array)\n",
    "    \n",
    "    distances = []\n",
    "    for value in array:\n",
    "        squared_distance = (value - reference_point)**2\n",
    "        distances.append(squared_distance)\n",
    "    \n",
    "    variance = sum(distances) / (len(distances) - 1)\n",
    "    \n",
    "    return sqrt(variance)\n",
    "\n",
    "st_devs = []\n",
    "\n",
    "for i in range(5000):\n",
    "    sample = houses['SalePrice'].sample(10, random_state = i)\n",
    "    st_dev = standard_deviation(sample)\n",
    "    st_devs.append(st_dev)\n",
    "    \n",
    "plt.hist(st_devs)\n",
    "plt.axvline(standard_deviation(houses['SalePrice']))\n",
    "plt.show()"
   ]
  },
  {
   "cell_type": "markdown",
   "id": "df82c557",
   "metadata": {},
   "source": [
    "## 10. Standard Notation"
   ]
  },
  {
   "cell_type": "code",
   "execution_count": 24,
   "id": "11e59ed2",
   "metadata": {},
   "outputs": [],
   "source": [
    "import numpy as np"
   ]
  },
  {
   "cell_type": "code",
   "execution_count": 26,
   "id": "a9de3e10",
   "metadata": {},
   "outputs": [
    {
     "data": {
      "text/plain": [
       "True"
      ]
     },
     "execution_count": 26,
     "metadata": {},
     "output_type": "execute_result"
    }
   ],
   "source": [
    "sample = houses.sample(100, random_state = 1)\n",
    "\n",
    "pandas_stdev = sample['SalePrice'].std(ddof = 1) # default ddof = 1\n",
    "numpy_stdev = np.std(sample['SalePrice'], ddof = 1) # default ddof = 0\n",
    "equal_stdevs = pandas_stdev == numpy_stdev\n",
    "\n",
    "pandas_var = sample['SalePrice'].var(ddof = 1) # default ddof = 1\n",
    "numpy_var = np.var(sample['SalePrice'], ddof = 1) #default ddof = 0\n",
    "equal_vars = pandas_var == numpy_var\n",
    "equal_vars"
   ]
  },
  {
   "cell_type": "markdown",
   "id": "5d92f807",
   "metadata": {},
   "source": [
    "## 11. Sample Variance — Unbiased Estimator"
   ]
  },
  {
   "cell_type": "code",
   "execution_count": 28,
   "id": "f452ad83",
   "metadata": {},
   "outputs": [],
   "source": [
    "population = [0, 3, 6]\n",
    "\n",
    "samples = [[0,3], [0,6],\n",
    "           [3,0], [3,6],\n",
    "           [6,0], [6,3]\n",
    "          ]\n",
    "from numpy import var, std\n",
    "\n",
    "pop_var = var(population, ddof = 0)\n",
    "pop_std = std(population, ddof = 0)\n",
    "\n",
    "st_devs = []\n",
    "variances = []\n",
    "\n",
    "for sample in samples:\n",
    "    st_devs.append(std(sample, ddof = 1))\n",
    "    variances.append(var(sample, ddof = 1))\n",
    "    \n",
    "mean_std = sum(st_devs) / len(st_devs)\n",
    "mean_var = sum(variances) / len(variances)"
   ]
  },
  {
   "cell_type": "code",
   "execution_count": 30,
   "id": "ad12e9fe",
   "metadata": {},
   "outputs": [
    {
     "data": {
      "text/plain": [
       "False"
      ]
     },
     "execution_count": 30,
     "metadata": {},
     "output_type": "execute_result"
    }
   ],
   "source": [
    "equal_stdev = pop_std == mean_std\n",
    "equal_stdev"
   ]
  },
  {
   "cell_type": "code",
   "execution_count": 31,
   "id": "72dfe74b",
   "metadata": {},
   "outputs": [
    {
     "data": {
      "text/plain": [
       "False"
      ]
     },
     "execution_count": 31,
     "metadata": {},
     "output_type": "execute_result"
    }
   ],
   "source": [
    "equal_var = pop_var == mean_var\n",
    "equal_var"
   ]
  }
 ],
 "metadata": {
  "kernelspec": {
   "display_name": "Python 3",
   "language": "python",
   "name": "python3"
  },
  "language_info": {
   "codemirror_mode": {
    "name": "ipython",
    "version": 3
   },
   "file_extension": ".py",
   "mimetype": "text/x-python",
   "name": "python",
   "nbconvert_exporter": "python",
   "pygments_lexer": "ipython3",
   "version": "3.8.8"
  }
 },
 "nbformat": 4,
 "nbformat_minor": 5
}
