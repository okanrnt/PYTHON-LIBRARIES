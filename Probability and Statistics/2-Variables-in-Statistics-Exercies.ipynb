{
 "cells": [
  {
   "cell_type": "code",
   "execution_count": 78,
   "id": "2d61d267",
   "metadata": {},
   "outputs": [],
   "source": [
    "import pandas as pd"
   ]
  },
  {
   "cell_type": "code",
   "execution_count": 79,
   "id": "12a3bd9c",
   "metadata": {},
   "outputs": [],
   "source": [
    "wnba = pd.read_csv('WNBA Stats.csv')"
   ]
  },
  {
   "cell_type": "code",
   "execution_count": 80,
   "id": "fc4bff0b",
   "metadata": {
    "scrolled": true
   },
   "outputs": [
    {
     "data": {
      "text/html": [
       "<div>\n",
       "<style scoped>\n",
       "    .dataframe tbody tr th:only-of-type {\n",
       "        vertical-align: middle;\n",
       "    }\n",
       "\n",
       "    .dataframe tbody tr th {\n",
       "        vertical-align: top;\n",
       "    }\n",
       "\n",
       "    .dataframe thead th {\n",
       "        text-align: right;\n",
       "    }\n",
       "</style>\n",
       "<table border=\"1\" class=\"dataframe\">\n",
       "  <thead>\n",
       "    <tr style=\"text-align: right;\">\n",
       "      <th></th>\n",
       "      <th>Name</th>\n",
       "      <th>Team</th>\n",
       "      <th>Pos</th>\n",
       "      <th>Height</th>\n",
       "      <th>Weight</th>\n",
       "      <th>BMI</th>\n",
       "      <th>Birth_Place</th>\n",
       "      <th>Birthdate</th>\n",
       "      <th>Age</th>\n",
       "      <th>College</th>\n",
       "      <th>...</th>\n",
       "      <th>OREB</th>\n",
       "      <th>DREB</th>\n",
       "      <th>REB</th>\n",
       "      <th>AST</th>\n",
       "      <th>STL</th>\n",
       "      <th>BLK</th>\n",
       "      <th>TO</th>\n",
       "      <th>PTS</th>\n",
       "      <th>DD2</th>\n",
       "      <th>TD3</th>\n",
       "    </tr>\n",
       "  </thead>\n",
       "  <tbody>\n",
       "    <tr>\n",
       "      <th>0</th>\n",
       "      <td>Aerial Powers</td>\n",
       "      <td>DAL</td>\n",
       "      <td>F</td>\n",
       "      <td>183</td>\n",
       "      <td>71.0</td>\n",
       "      <td>21.200991</td>\n",
       "      <td>US</td>\n",
       "      <td>January 17, 1994</td>\n",
       "      <td>23</td>\n",
       "      <td>Michigan State</td>\n",
       "      <td>...</td>\n",
       "      <td>6</td>\n",
       "      <td>22</td>\n",
       "      <td>28</td>\n",
       "      <td>12</td>\n",
       "      <td>3</td>\n",
       "      <td>6</td>\n",
       "      <td>12</td>\n",
       "      <td>93</td>\n",
       "      <td>0</td>\n",
       "      <td>0</td>\n",
       "    </tr>\n",
       "    <tr>\n",
       "      <th>1</th>\n",
       "      <td>Alana Beard</td>\n",
       "      <td>LA</td>\n",
       "      <td>G/F</td>\n",
       "      <td>185</td>\n",
       "      <td>73.0</td>\n",
       "      <td>21.329438</td>\n",
       "      <td>US</td>\n",
       "      <td>May 14, 1982</td>\n",
       "      <td>35</td>\n",
       "      <td>Duke</td>\n",
       "      <td>...</td>\n",
       "      <td>19</td>\n",
       "      <td>82</td>\n",
       "      <td>101</td>\n",
       "      <td>72</td>\n",
       "      <td>63</td>\n",
       "      <td>13</td>\n",
       "      <td>40</td>\n",
       "      <td>217</td>\n",
       "      <td>0</td>\n",
       "      <td>0</td>\n",
       "    </tr>\n",
       "    <tr>\n",
       "      <th>2</th>\n",
       "      <td>Alex Bentley</td>\n",
       "      <td>CON</td>\n",
       "      <td>G</td>\n",
       "      <td>170</td>\n",
       "      <td>69.0</td>\n",
       "      <td>23.875433</td>\n",
       "      <td>US</td>\n",
       "      <td>October 27, 1990</td>\n",
       "      <td>26</td>\n",
       "      <td>Penn State</td>\n",
       "      <td>...</td>\n",
       "      <td>4</td>\n",
       "      <td>36</td>\n",
       "      <td>40</td>\n",
       "      <td>78</td>\n",
       "      <td>22</td>\n",
       "      <td>3</td>\n",
       "      <td>24</td>\n",
       "      <td>218</td>\n",
       "      <td>0</td>\n",
       "      <td>0</td>\n",
       "    </tr>\n",
       "    <tr>\n",
       "      <th>3</th>\n",
       "      <td>Alex Montgomery</td>\n",
       "      <td>SAN</td>\n",
       "      <td>G/F</td>\n",
       "      <td>185</td>\n",
       "      <td>84.0</td>\n",
       "      <td>24.543462</td>\n",
       "      <td>US</td>\n",
       "      <td>December 11, 1988</td>\n",
       "      <td>28</td>\n",
       "      <td>Georgia Tech</td>\n",
       "      <td>...</td>\n",
       "      <td>35</td>\n",
       "      <td>134</td>\n",
       "      <td>169</td>\n",
       "      <td>65</td>\n",
       "      <td>20</td>\n",
       "      <td>10</td>\n",
       "      <td>38</td>\n",
       "      <td>188</td>\n",
       "      <td>2</td>\n",
       "      <td>0</td>\n",
       "    </tr>\n",
       "    <tr>\n",
       "      <th>4</th>\n",
       "      <td>Alexis Jones</td>\n",
       "      <td>MIN</td>\n",
       "      <td>G</td>\n",
       "      <td>175</td>\n",
       "      <td>78.0</td>\n",
       "      <td>25.469388</td>\n",
       "      <td>US</td>\n",
       "      <td>August 5, 1994</td>\n",
       "      <td>23</td>\n",
       "      <td>Baylor</td>\n",
       "      <td>...</td>\n",
       "      <td>3</td>\n",
       "      <td>9</td>\n",
       "      <td>12</td>\n",
       "      <td>12</td>\n",
       "      <td>7</td>\n",
       "      <td>0</td>\n",
       "      <td>14</td>\n",
       "      <td>50</td>\n",
       "      <td>0</td>\n",
       "      <td>0</td>\n",
       "    </tr>\n",
       "  </tbody>\n",
       "</table>\n",
       "<p>5 rows × 32 columns</p>\n",
       "</div>"
      ],
      "text/plain": [
       "              Name Team  Pos  Height  Weight        BMI Birth_Place  \\\n",
       "0    Aerial Powers  DAL    F     183    71.0  21.200991          US   \n",
       "1      Alana Beard   LA  G/F     185    73.0  21.329438          US   \n",
       "2     Alex Bentley  CON    G     170    69.0  23.875433          US   \n",
       "3  Alex Montgomery  SAN  G/F     185    84.0  24.543462          US   \n",
       "4     Alexis Jones  MIN    G     175    78.0  25.469388          US   \n",
       "\n",
       "           Birthdate  Age         College  ... OREB  DREB  REB  AST  STL  BLK  \\\n",
       "0   January 17, 1994   23  Michigan State  ...    6    22   28   12    3    6   \n",
       "1       May 14, 1982   35            Duke  ...   19    82  101   72   63   13   \n",
       "2   October 27, 1990   26      Penn State  ...    4    36   40   78   22    3   \n",
       "3  December 11, 1988   28    Georgia Tech  ...   35   134  169   65   20   10   \n",
       "4     August 5, 1994   23          Baylor  ...    3     9   12   12    7    0   \n",
       "\n",
       "   TO  PTS  DD2  TD3  \n",
       "0  12   93    0    0  \n",
       "1  40  217    0    0  \n",
       "2  24  218    0    0  \n",
       "3  38  188    2    0  \n",
       "4  14   50    0    0  \n",
       "\n",
       "[5 rows x 32 columns]"
      ]
     },
     "execution_count": 80,
     "metadata": {},
     "output_type": "execute_result"
    }
   ],
   "source": [
    "wnba.head()"
   ]
  },
  {
   "cell_type": "code",
   "execution_count": 81,
   "id": "6d77187c",
   "metadata": {},
   "outputs": [
    {
     "data": {
      "text/plain": [
       "Index(['Name', 'Team', 'Pos', 'Height', 'Weight', 'BMI', 'Birth_Place',\n",
       "       'Birthdate', 'Age', 'College', 'Experience', 'Games Played', 'MIN',\n",
       "       'FGM', 'FGA', 'FG%', '15:00', '3PA', '3P%', 'FTM', 'FTA', 'FT%', 'OREB',\n",
       "       'DREB', 'REB', 'AST', 'STL', 'BLK', 'TO', 'PTS', 'DD2', 'TD3'],\n",
       "      dtype='object')"
      ]
     },
     "execution_count": 81,
     "metadata": {},
     "output_type": "execute_result"
    }
   ],
   "source": [
    "wnba.columns"
   ]
  },
  {
   "cell_type": "markdown",
   "id": "64434471",
   "metadata": {},
   "source": [
    "## 1. Quantitative and Qualitative Variables"
   ]
  },
  {
   "cell_type": "code",
   "execution_count": 82,
   "id": "ee9aa3a7",
   "metadata": {},
   "outputs": [],
   "source": [
    "variables = {'Name': '', 'Team': '', 'Pos': '', 'Height': '', 'BMI': '',\n",
    "             'Birth_Place': '', 'Birthdate': '', 'Age': '', 'College': '', 'Experience': '',\n",
    "             'Games Played': '', 'MIN': '', 'FGM': '', 'FGA': '',\n",
    "             '3PA': '', 'FTM': '', 'FTA': '', 'FT%': '', 'OREB': '', 'DREB': '',\n",
    "             'REB': '', 'AST': '', 'PTS': ''}\n",
    "\n",
    "variables[\"Name\"] = \"qualitative\"\n",
    "variables[\"Team\"] = \"qualitative\"\n",
    "variables[\"Pos\"] = \"qualitative\"\n",
    "variables[\"Height\"] = \"quantitative\"\n",
    "variables[\"Birth_Place\"] = \"qualitative\"\n",
    "variables[\"Birthdate\"] = \"quantitative\"\n",
    "variables[\"Age\"] = \"quantitative\"\n",
    "variables[\"BMI\"] = \"quantitative\"\n",
    "variables[\"Experience\"] = \"quantitative\"\n",
    "variables[\"College\"] = \"qualitative\"\n",
    "variables[\"Games Played\"] = \"quantitative\"\n",
    "variables[\"MIN\"] = \"quantitative\"\n",
    "variables[\"FGM\"] = \"quantitative\"\n",
    "variables[\"FGA\"] = \"quantitative\"\n",
    "variables[\"3PA\"] = \"quantitative\"\n",
    "variables[\"FTM\"] = \"quantitative\"\n",
    "variables[\"FTA\"] = \"quantitative\"\n",
    "variables[\"FT%\"] = \"quantitative\"\n",
    "variables[\"OREB\"] = \"quantitative\"\n",
    "variables[\"DREB\"] = \"quantitative\"\n",
    "variables[\"REB\"] = \"quantitative\"\n",
    "variables[\"AST\"] = \"quantitative\"\n",
    "variables[\"PTS\"] = \"quantitative\""
   ]
  },
  {
   "cell_type": "markdown",
   "id": "9776e5f5",
   "metadata": {},
   "source": [
    "## 2. The Nominal Scale"
   ]
  },
  {
   "cell_type": "code",
   "execution_count": 83,
   "id": "21119a11",
   "metadata": {},
   "outputs": [],
   "source": [
    "nominal_scale = sorted([\"Name\",\"Team\",\"Pos\",\"Birth_Place\",\"College\"])"
   ]
  },
  {
   "cell_type": "markdown",
   "id": "ba824623",
   "metadata": {},
   "source": [
    "## 3. The Ordinal Scale"
   ]
  },
  {
   "cell_type": "code",
   "execution_count": 84,
   "id": "1c126081",
   "metadata": {},
   "outputs": [],
   "source": [
    "# Converting to ordinal scale from ratio(continues) scale\n",
    "def height_labels(value):\n",
    "    mean = wnba['Height'].mean()\n",
    "    if value < (mean -10): # The value was randomly given.\n",
    "        return 'short'\n",
    "    if (mean - 10) < value <= (mean -4): # The values were randomly given.\n",
    "        return 'medium'\n",
    "    if value > (mean -2): # The value was randomly given.\n",
    "        return 'tall'\n",
    "\n",
    "wnba['Height_labels'] = wnba['Height'].apply(height_labels)"
   ]
  },
  {
   "cell_type": "code",
   "execution_count": 85,
   "id": "30caff3d",
   "metadata": {},
   "outputs": [
    {
     "data": {
      "text/html": [
       "<div>\n",
       "<style scoped>\n",
       "    .dataframe tbody tr th:only-of-type {\n",
       "        vertical-align: middle;\n",
       "    }\n",
       "\n",
       "    .dataframe tbody tr th {\n",
       "        vertical-align: top;\n",
       "    }\n",
       "\n",
       "    .dataframe thead th {\n",
       "        text-align: right;\n",
       "    }\n",
       "</style>\n",
       "<table border=\"1\" class=\"dataframe\">\n",
       "  <thead>\n",
       "    <tr style=\"text-align: right;\">\n",
       "      <th></th>\n",
       "      <th>Height</th>\n",
       "      <th>Height_labels</th>\n",
       "    </tr>\n",
       "  </thead>\n",
       "  <tbody>\n",
       "    <tr>\n",
       "      <th>0</th>\n",
       "      <td>183</td>\n",
       "      <td>tall</td>\n",
       "    </tr>\n",
       "    <tr>\n",
       "      <th>1</th>\n",
       "      <td>185</td>\n",
       "      <td>tall</td>\n",
       "    </tr>\n",
       "    <tr>\n",
       "      <th>2</th>\n",
       "      <td>170</td>\n",
       "      <td>short</td>\n",
       "    </tr>\n",
       "    <tr>\n",
       "      <th>3</th>\n",
       "      <td>185</td>\n",
       "      <td>tall</td>\n",
       "    </tr>\n",
       "    <tr>\n",
       "      <th>4</th>\n",
       "      <td>175</td>\n",
       "      <td>medium</td>\n",
       "    </tr>\n",
       "  </tbody>\n",
       "</table>\n",
       "</div>"
      ],
      "text/plain": [
       "   Height Height_labels\n",
       "0     183          tall\n",
       "1     185          tall\n",
       "2     170         short\n",
       "3     185          tall\n",
       "4     175        medium"
      ]
     },
     "execution_count": 85,
     "metadata": {},
     "output_type": "execute_result"
    }
   ],
   "source": [
    "wnba[['Height','Height_labels']].head()"
   ]
  },
  {
   "cell_type": "markdown",
   "id": "a32def25",
   "metadata": {},
   "source": [
    "## 4. Ratio and Interval Scales"
   ]
  },
  {
   "cell_type": "code",
   "execution_count": 86,
   "id": "51dc1712",
   "metadata": {},
   "outputs": [],
   "source": [
    "interval = ['Birthdate', 'Weight_deviation']\n",
    "ratio = sorted(['Height', 'Weight', 'BMI', 'Age', 'Experience', 'Games Played', 'MIN', 'FGM', 'FGA', 'FG%', '15:00', \n",
    "                '3PA', '3P%', 'FTM', 'FTA', 'FT%', 'OREB', 'DREB', 'REB', 'AST', 'STL', 'BLK', 'TO',\n",
    "                'PTS', 'DD2', 'TD3'])"
   ]
  },
  {
   "cell_type": "code",
   "execution_count": 87,
   "id": "569d9fd3",
   "metadata": {},
   "outputs": [],
   "source": [
    "# Converting to interval scale from ratio scale\n",
    "def converting(value):\n",
    "    mean = wnba['Weight'].mean()\n",
    "    return value - mean\n",
    "\n",
    "wnba['Weight_devition'] = wnba['Weight'].apply(converting)"
   ]
  },
  {
   "cell_type": "code",
   "execution_count": 88,
   "id": "710796e4",
   "metadata": {},
   "outputs": [
    {
     "data": {
      "text/html": [
       "<div>\n",
       "<style scoped>\n",
       "    .dataframe tbody tr th:only-of-type {\n",
       "        vertical-align: middle;\n",
       "    }\n",
       "\n",
       "    .dataframe tbody tr th {\n",
       "        vertical-align: top;\n",
       "    }\n",
       "\n",
       "    .dataframe thead th {\n",
       "        text-align: right;\n",
       "    }\n",
       "</style>\n",
       "<table border=\"1\" class=\"dataframe\">\n",
       "  <thead>\n",
       "    <tr style=\"text-align: right;\">\n",
       "      <th></th>\n",
       "      <th>Weight</th>\n",
       "      <th>Weight_devition</th>\n",
       "    </tr>\n",
       "  </thead>\n",
       "  <tbody>\n",
       "    <tr>\n",
       "      <th>35</th>\n",
       "      <td>89.0</td>\n",
       "      <td>10.021127</td>\n",
       "    </tr>\n",
       "    <tr>\n",
       "      <th>3</th>\n",
       "      <td>84.0</td>\n",
       "      <td>5.021127</td>\n",
       "    </tr>\n",
       "    <tr>\n",
       "      <th>111</th>\n",
       "      <td>63.0</td>\n",
       "      <td>-15.978873</td>\n",
       "    </tr>\n",
       "    <tr>\n",
       "      <th>85</th>\n",
       "      <td>64.0</td>\n",
       "      <td>-14.978873</td>\n",
       "    </tr>\n",
       "    <tr>\n",
       "      <th>128</th>\n",
       "      <td>75.0</td>\n",
       "      <td>-3.978873</td>\n",
       "    </tr>\n",
       "  </tbody>\n",
       "</table>\n",
       "</div>"
      ],
      "text/plain": [
       "     Weight  Weight_devition\n",
       "35     89.0        10.021127\n",
       "3      84.0         5.021127\n",
       "111    63.0       -15.978873\n",
       "85     64.0       -14.978873\n",
       "128    75.0        -3.978873"
      ]
     },
     "execution_count": 88,
     "metadata": {},
     "output_type": "execute_result"
    }
   ],
   "source": [
    "wnba[['Weight','Weight_devition']].iloc[[35,3,111,85,128]]"
   ]
  },
  {
   "cell_type": "markdown",
   "id": "12e707d9",
   "metadata": {},
   "source": [
    "## 5. Discrete and Continuous Variables"
   ]
  },
  {
   "cell_type": "code",
   "execution_count": 89,
   "id": "e5d79e3c",
   "metadata": {},
   "outputs": [],
   "source": [
    "ratio_interval_only = {'Height': 'continuous', 'Weight': 'continuous', 'BMI': 'continuous', 'Age': 'continuous',\n",
    "                       'Games Played': 'discrete', 'MIN': 'continuous', 'FGM': 'discrete',\n",
    "                       'FGA': 'discrete', 'FG%': 'continuous', '3PA': 'discrete', '3P%': 'continuous',\n",
    "                       'FTM': 'discrete', 'FTA': 'discrete', 'FT%': 'continuous', 'OREB': 'discrete',\n",
    "                       'DREB': 'discrete', 'REB': 'discrete', 'AST': 'discrete', 'STL': 'discrete',\n",
    "                       'BLK': 'discrete', 'TO': 'discrete', 'PTS': 'discrete', 'DD2': 'discrete', \n",
    "                       'TD3': 'discrete', 'Weight_deviation': 'continuous'}"
   ]
  },
  {
   "cell_type": "markdown",
   "id": "7fc43093",
   "metadata": {},
   "source": [
    "## 6. Real Limits"
   ]
  },
  {
   "cell_type": "code",
   "execution_count": 90,
   "id": "6b4939b9",
   "metadata": {},
   "outputs": [],
   "source": [
    "# Finding the real limits for five values of the BMI (body mass index) variable\n",
    "\n",
    "bmi = {21.201: [],\n",
    " 21.329: [],\n",
    " 23.875: [],\n",
    " 24.543: [],\n",
    " 25.469: []}\n",
    "bmi = {21.201: [21.2005, 21.2015],\n",
    " 21.329: [21.3285, 21.3295],\n",
    " 23.875: [23.8745, 23.8755],\n",
    " 24.543: [24.5425, 24.5435],\n",
    " 25.469: [25.4685, 25.4695]}"
   ]
  }
 ],
 "metadata": {
  "kernelspec": {
   "display_name": "Python 3",
   "language": "python",
   "name": "python3"
  },
  "language_info": {
   "codemirror_mode": {
    "name": "ipython",
    "version": 3
   },
   "file_extension": ".py",
   "mimetype": "text/x-python",
   "name": "python",
   "nbconvert_exporter": "python",
   "pygments_lexer": "ipython3",
   "version": "3.8.8"
  }
 },
 "nbformat": 4,
 "nbformat_minor": 5
}
