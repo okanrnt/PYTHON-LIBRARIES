{
 "cells": [
  {
   "cell_type": "code",
   "execution_count": 1,
   "id": "51e85a3b",
   "metadata": {},
   "outputs": [],
   "source": [
    "import pandas as pd"
   ]
  },
  {
   "cell_type": "markdown",
   "id": "ac80caad",
   "metadata": {},
   "source": [
    "### 1- Load the world countries data"
   ]
  },
  {
   "cell_type": "code",
   "execution_count": 4,
   "id": "f16ef94a",
   "metadata": {},
   "outputs": [],
   "source": [
    "countries = pd.read_csv(\"countries.csv\")"
   ]
  },
  {
   "cell_type": "markdown",
   "id": "4ef5203f",
   "metadata": {},
   "source": [
    "### 2- Load the first five rows"
   ]
  },
  {
   "cell_type": "code",
   "execution_count": 5,
   "id": "42ad1da8",
   "metadata": {},
   "outputs": [
    {
     "data": {
      "text/html": [
       "<div>\n",
       "<style scoped>\n",
       "    .dataframe tbody tr th:only-of-type {\n",
       "        vertical-align: middle;\n",
       "    }\n",
       "\n",
       "    .dataframe tbody tr th {\n",
       "        vertical-align: top;\n",
       "    }\n",
       "\n",
       "    .dataframe thead th {\n",
       "        text-align: right;\n",
       "    }\n",
       "</style>\n",
       "<table border=\"1\" class=\"dataframe\">\n",
       "  <thead>\n",
       "    <tr style=\"text-align: right;\">\n",
       "      <th></th>\n",
       "      <th>Country</th>\n",
       "      <th>Region</th>\n",
       "      <th>Population</th>\n",
       "      <th>Area (sq. mi.)</th>\n",
       "      <th>Pop. Density (per sq. mi.)</th>\n",
       "      <th>Coastline (coast/area ratio)</th>\n",
       "      <th>Net migration</th>\n",
       "      <th>Infant mortality (per 1000 births)</th>\n",
       "      <th>GDP ($ per capita)</th>\n",
       "      <th>Literacy (%)</th>\n",
       "      <th>Phones (per 1000)</th>\n",
       "      <th>Arable (%)</th>\n",
       "      <th>Crops (%)</th>\n",
       "      <th>Other (%)</th>\n",
       "      <th>Climate</th>\n",
       "      <th>Birthrate</th>\n",
       "      <th>Deathrate</th>\n",
       "      <th>Agriculture</th>\n",
       "      <th>Industry</th>\n",
       "      <th>Service</th>\n",
       "    </tr>\n",
       "  </thead>\n",
       "  <tbody>\n",
       "    <tr>\n",
       "      <th>0</th>\n",
       "      <td>Afghanistan</td>\n",
       "      <td>ASIA (EX. NEAR EAST)</td>\n",
       "      <td>31056997</td>\n",
       "      <td>647500</td>\n",
       "      <td>48,0</td>\n",
       "      <td>0,00</td>\n",
       "      <td>23,06</td>\n",
       "      <td>163,07</td>\n",
       "      <td>700.0</td>\n",
       "      <td>36,0</td>\n",
       "      <td>3,2</td>\n",
       "      <td>12,13</td>\n",
       "      <td>0,22</td>\n",
       "      <td>87,65</td>\n",
       "      <td>1</td>\n",
       "      <td>46,6</td>\n",
       "      <td>20,34</td>\n",
       "      <td>0,38</td>\n",
       "      <td>0,24</td>\n",
       "      <td>0,38</td>\n",
       "    </tr>\n",
       "    <tr>\n",
       "      <th>1</th>\n",
       "      <td>Albania</td>\n",
       "      <td>EASTERN EUROPE</td>\n",
       "      <td>3581655</td>\n",
       "      <td>28748</td>\n",
       "      <td>124,6</td>\n",
       "      <td>1,26</td>\n",
       "      <td>-4,93</td>\n",
       "      <td>21,52</td>\n",
       "      <td>4500.0</td>\n",
       "      <td>86,5</td>\n",
       "      <td>71,2</td>\n",
       "      <td>21,09</td>\n",
       "      <td>4,42</td>\n",
       "      <td>74,49</td>\n",
       "      <td>3</td>\n",
       "      <td>15,11</td>\n",
       "      <td>5,22</td>\n",
       "      <td>0,232</td>\n",
       "      <td>0,188</td>\n",
       "      <td>0,579</td>\n",
       "    </tr>\n",
       "    <tr>\n",
       "      <th>2</th>\n",
       "      <td>Algeria</td>\n",
       "      <td>NORTHERN AFRICA</td>\n",
       "      <td>32930091</td>\n",
       "      <td>2381740</td>\n",
       "      <td>13,8</td>\n",
       "      <td>0,04</td>\n",
       "      <td>-0,39</td>\n",
       "      <td>31</td>\n",
       "      <td>6000.0</td>\n",
       "      <td>70,0</td>\n",
       "      <td>78,1</td>\n",
       "      <td>3,22</td>\n",
       "      <td>0,25</td>\n",
       "      <td>96,53</td>\n",
       "      <td>1</td>\n",
       "      <td>17,14</td>\n",
       "      <td>4,61</td>\n",
       "      <td>0,101</td>\n",
       "      <td>0,6</td>\n",
       "      <td>0,298</td>\n",
       "    </tr>\n",
       "    <tr>\n",
       "      <th>3</th>\n",
       "      <td>American Samoa</td>\n",
       "      <td>OCEANIA</td>\n",
       "      <td>57794</td>\n",
       "      <td>199</td>\n",
       "      <td>290,4</td>\n",
       "      <td>58,29</td>\n",
       "      <td>-20,71</td>\n",
       "      <td>9,27</td>\n",
       "      <td>8000.0</td>\n",
       "      <td>97,0</td>\n",
       "      <td>259,5</td>\n",
       "      <td>10</td>\n",
       "      <td>15</td>\n",
       "      <td>75</td>\n",
       "      <td>2</td>\n",
       "      <td>22,46</td>\n",
       "      <td>3,27</td>\n",
       "      <td>NaN</td>\n",
       "      <td>NaN</td>\n",
       "      <td>NaN</td>\n",
       "    </tr>\n",
       "    <tr>\n",
       "      <th>4</th>\n",
       "      <td>Andorra</td>\n",
       "      <td>WESTERN EUROPE</td>\n",
       "      <td>71201</td>\n",
       "      <td>468</td>\n",
       "      <td>152,1</td>\n",
       "      <td>0,00</td>\n",
       "      <td>6,6</td>\n",
       "      <td>4,05</td>\n",
       "      <td>19000.0</td>\n",
       "      <td>100,0</td>\n",
       "      <td>497,2</td>\n",
       "      <td>2,22</td>\n",
       "      <td>0</td>\n",
       "      <td>97,78</td>\n",
       "      <td>3</td>\n",
       "      <td>8,71</td>\n",
       "      <td>6,25</td>\n",
       "      <td>NaN</td>\n",
       "      <td>NaN</td>\n",
       "      <td>NaN</td>\n",
       "    </tr>\n",
       "  </tbody>\n",
       "</table>\n",
       "</div>"
      ],
      "text/plain": [
       "           Country                               Region  Population  \\\n",
       "0     Afghanistan         ASIA (EX. NEAR EAST)             31056997   \n",
       "1         Albania   EASTERN EUROPE                          3581655   \n",
       "2         Algeria   NORTHERN AFRICA                        32930091   \n",
       "3  American Samoa   OCEANIA                                   57794   \n",
       "4         Andorra   WESTERN EUROPE                            71201   \n",
       "\n",
       "   Area (sq. mi.) Pop. Density (per sq. mi.) Coastline (coast/area ratio)  \\\n",
       "0          647500                       48,0                         0,00   \n",
       "1           28748                      124,6                         1,26   \n",
       "2         2381740                       13,8                         0,04   \n",
       "3             199                      290,4                        58,29   \n",
       "4             468                      152,1                         0,00   \n",
       "\n",
       "  Net migration Infant mortality (per 1000 births)  GDP ($ per capita)  \\\n",
       "0         23,06                             163,07               700.0   \n",
       "1         -4,93                              21,52              4500.0   \n",
       "2         -0,39                                 31              6000.0   \n",
       "3        -20,71                               9,27              8000.0   \n",
       "4           6,6                               4,05             19000.0   \n",
       "\n",
       "  Literacy (%) Phones (per 1000) Arable (%) Crops (%) Other (%) Climate  \\\n",
       "0         36,0               3,2      12,13      0,22     87,65       1   \n",
       "1         86,5              71,2      21,09      4,42     74,49       3   \n",
       "2         70,0              78,1       3,22      0,25     96,53       1   \n",
       "3         97,0             259,5         10        15        75       2   \n",
       "4        100,0             497,2       2,22         0     97,78       3   \n",
       "\n",
       "  Birthrate Deathrate Agriculture Industry Service  \n",
       "0      46,6     20,34        0,38     0,24    0,38  \n",
       "1     15,11      5,22       0,232    0,188   0,579  \n",
       "2     17,14      4,61       0,101      0,6   0,298  \n",
       "3     22,46      3,27         NaN      NaN     NaN  \n",
       "4      8,71      6,25         NaN      NaN     NaN  "
      ]
     },
     "execution_count": 5,
     "metadata": {},
     "output_type": "execute_result"
    }
   ],
   "source": [
    "first_five = countries.head()\n",
    "first_five"
   ]
  },
  {
   "cell_type": "markdown",
   "id": "7b0f053b",
   "metadata": {},
   "source": [
    "### 3- Load the first ten rows "
   ]
  },
  {
   "cell_type": "code",
   "execution_count": 6,
   "id": "d2c0c3ea",
   "metadata": {},
   "outputs": [],
   "source": [
    "first_ten = countries.head(10)"
   ]
  },
  {
   "cell_type": "markdown",
   "id": "9614c095",
   "metadata": {},
   "source": [
    "### 4- Load the last five rows"
   ]
  },
  {
   "cell_type": "code",
   "execution_count": 40,
   "id": "831c86f0",
   "metadata": {},
   "outputs": [
    {
     "data": {
      "text/html": [
       "<div>\n",
       "<style scoped>\n",
       "    .dataframe tbody tr th:only-of-type {\n",
       "        vertical-align: middle;\n",
       "    }\n",
       "\n",
       "    .dataframe tbody tr th {\n",
       "        vertical-align: top;\n",
       "    }\n",
       "\n",
       "    .dataframe thead th {\n",
       "        text-align: right;\n",
       "    }\n",
       "</style>\n",
       "<table border=\"1\" class=\"dataframe\">\n",
       "  <thead>\n",
       "    <tr style=\"text-align: right;\">\n",
       "      <th></th>\n",
       "      <th>Country</th>\n",
       "      <th>Region</th>\n",
       "      <th>Population</th>\n",
       "      <th>Area</th>\n",
       "      <th>Pop Density</th>\n",
       "      <th>Coastline</th>\n",
       "      <th>Migration</th>\n",
       "      <th>Infant Mortality</th>\n",
       "      <th>GDP Capita</th>\n",
       "      <th>Literacy</th>\n",
       "      <th>...</th>\n",
       "      <th>Arable</th>\n",
       "      <th>Crops</th>\n",
       "      <th>Other</th>\n",
       "      <th>Climate</th>\n",
       "      <th>Birthrate</th>\n",
       "      <th>Deathrate</th>\n",
       "      <th>Agriculture</th>\n",
       "      <th>Industry</th>\n",
       "      <th>Service</th>\n",
       "      <th>Pop Percent</th>\n",
       "    </tr>\n",
       "  </thead>\n",
       "  <tbody>\n",
       "    <tr>\n",
       "      <th>222</th>\n",
       "      <td>West Bank</td>\n",
       "      <td>NEAR EAST</td>\n",
       "      <td>2460492</td>\n",
       "      <td>5860</td>\n",
       "      <td>419.9</td>\n",
       "      <td>0.00</td>\n",
       "      <td>2.98</td>\n",
       "      <td>19.62</td>\n",
       "      <td>800.0</td>\n",
       "      <td>NaN</td>\n",
       "      <td>...</td>\n",
       "      <td>16.90</td>\n",
       "      <td>18.97</td>\n",
       "      <td>64.13</td>\n",
       "      <td>3.0</td>\n",
       "      <td>31.67</td>\n",
       "      <td>3.92</td>\n",
       "      <td>0.090</td>\n",
       "      <td>0.280</td>\n",
       "      <td>0.630</td>\n",
       "      <td>0.037714</td>\n",
       "    </tr>\n",
       "    <tr>\n",
       "      <th>223</th>\n",
       "      <td>Western Sahara</td>\n",
       "      <td>NORTHERN AFRICA</td>\n",
       "      <td>273008</td>\n",
       "      <td>266000</td>\n",
       "      <td>1.0</td>\n",
       "      <td>0.42</td>\n",
       "      <td>NaN</td>\n",
       "      <td>NaN</td>\n",
       "      <td>NaN</td>\n",
       "      <td>NaN</td>\n",
       "      <td>...</td>\n",
       "      <td>0.02</td>\n",
       "      <td>0.00</td>\n",
       "      <td>99.98</td>\n",
       "      <td>1.0</td>\n",
       "      <td>NaN</td>\n",
       "      <td>NaN</td>\n",
       "      <td>NaN</td>\n",
       "      <td>NaN</td>\n",
       "      <td>0.400</td>\n",
       "      <td>0.004185</td>\n",
       "    </tr>\n",
       "    <tr>\n",
       "      <th>224</th>\n",
       "      <td>Yemen</td>\n",
       "      <td>NEAR EAST</td>\n",
       "      <td>21456188</td>\n",
       "      <td>527970</td>\n",
       "      <td>40.6</td>\n",
       "      <td>0.36</td>\n",
       "      <td>0.00</td>\n",
       "      <td>61.50</td>\n",
       "      <td>800.0</td>\n",
       "      <td>50.2</td>\n",
       "      <td>...</td>\n",
       "      <td>2.78</td>\n",
       "      <td>0.24</td>\n",
       "      <td>96.98</td>\n",
       "      <td>1.0</td>\n",
       "      <td>42.89</td>\n",
       "      <td>8.30</td>\n",
       "      <td>0.135</td>\n",
       "      <td>0.472</td>\n",
       "      <td>0.393</td>\n",
       "      <td>0.328879</td>\n",
       "    </tr>\n",
       "    <tr>\n",
       "      <th>225</th>\n",
       "      <td>Zambia</td>\n",
       "      <td>SUB-SAHARAN AFRICA</td>\n",
       "      <td>11502010</td>\n",
       "      <td>752614</td>\n",
       "      <td>15.3</td>\n",
       "      <td>0.00</td>\n",
       "      <td>0.00</td>\n",
       "      <td>88.29</td>\n",
       "      <td>800.0</td>\n",
       "      <td>80.6</td>\n",
       "      <td>...</td>\n",
       "      <td>7.08</td>\n",
       "      <td>0.03</td>\n",
       "      <td>92.90</td>\n",
       "      <td>2.0</td>\n",
       "      <td>41.00</td>\n",
       "      <td>19.93</td>\n",
       "      <td>0.220</td>\n",
       "      <td>0.290</td>\n",
       "      <td>0.489</td>\n",
       "      <td>0.176302</td>\n",
       "    </tr>\n",
       "    <tr>\n",
       "      <th>226</th>\n",
       "      <td>Zimbabwe</td>\n",
       "      <td>SUB-SAHARAN AFRICA</td>\n",
       "      <td>12236805</td>\n",
       "      <td>390580</td>\n",
       "      <td>31.3</td>\n",
       "      <td>0.00</td>\n",
       "      <td>0.00</td>\n",
       "      <td>67.69</td>\n",
       "      <td>1900.0</td>\n",
       "      <td>90.7</td>\n",
       "      <td>...</td>\n",
       "      <td>8.32</td>\n",
       "      <td>0.34</td>\n",
       "      <td>91.34</td>\n",
       "      <td>2.0</td>\n",
       "      <td>28.01</td>\n",
       "      <td>21.84</td>\n",
       "      <td>0.179</td>\n",
       "      <td>0.243</td>\n",
       "      <td>0.579</td>\n",
       "      <td>0.187565</td>\n",
       "    </tr>\n",
       "  </tbody>\n",
       "</table>\n",
       "<p>5 rows × 21 columns</p>\n",
       "</div>"
      ],
      "text/plain": [
       "             Country                               Region  Population    Area  \\\n",
       "222       West Bank   NEAR EAST                               2460492    5860   \n",
       "223  Western Sahara   NORTHERN AFRICA                          273008  266000   \n",
       "224           Yemen   NEAR EAST                              21456188  527970   \n",
       "225          Zambia   SUB-SAHARAN AFRICA                     11502010  752614   \n",
       "226        Zimbabwe   SUB-SAHARAN AFRICA                     12236805  390580   \n",
       "\n",
       "     Pop Density  Coastline  Migration  Infant Mortality  GDP Capita  \\\n",
       "222        419.9       0.00       2.98             19.62       800.0   \n",
       "223          1.0       0.42        NaN               NaN         NaN   \n",
       "224         40.6       0.36       0.00             61.50       800.0   \n",
       "225         15.3       0.00       0.00             88.29       800.0   \n",
       "226         31.3       0.00       0.00             67.69      1900.0   \n",
       "\n",
       "     Literacy  ...  Arable  Crops  Other  Climate  Birthrate  Deathrate  \\\n",
       "222       NaN  ...   16.90  18.97  64.13      3.0      31.67       3.92   \n",
       "223       NaN  ...    0.02   0.00  99.98      1.0        NaN        NaN   \n",
       "224      50.2  ...    2.78   0.24  96.98      1.0      42.89       8.30   \n",
       "225      80.6  ...    7.08   0.03  92.90      2.0      41.00      19.93   \n",
       "226      90.7  ...    8.32   0.34  91.34      2.0      28.01      21.84   \n",
       "\n",
       "     Agriculture  Industry  Service  Pop Percent  \n",
       "222        0.090     0.280    0.630     0.037714  \n",
       "223          NaN       NaN    0.400     0.004185  \n",
       "224        0.135     0.472    0.393     0.328879  \n",
       "225        0.220     0.290    0.489     0.176302  \n",
       "226        0.179     0.243    0.579     0.187565  \n",
       "\n",
       "[5 rows x 21 columns]"
      ]
     },
     "execution_count": 40,
     "metadata": {},
     "output_type": "execute_result"
    }
   ],
   "source": [
    "last_five = countries.tail()\n",
    "last_five"
   ]
  },
  {
   "cell_type": "markdown",
   "id": "4e5d3658",
   "metadata": {},
   "source": [
    "### 5- Load the last seven rows"
   ]
  },
  {
   "cell_type": "code",
   "execution_count": 8,
   "id": "a1fd2a69",
   "metadata": {},
   "outputs": [],
   "source": [
    "last_seven = countries.tail(7)"
   ]
  },
  {
   "cell_type": "markdown",
   "id": "9189dc60",
   "metadata": {},
   "source": [
    "### 6- Assign the number of columns and rows"
   ]
  },
  {
   "cell_type": "code",
   "execution_count": 11,
   "id": "662ed5fe",
   "metadata": {},
   "outputs": [
    {
     "name": "stdout",
     "output_type": "stream",
     "text": [
      "227\n",
      "20\n"
     ]
    }
   ],
   "source": [
    "num_countries = countries.shape[0]\n",
    "num_columns = countries.shape[1]\n",
    "print(num_countries)\n",
    "print(num_columns)"
   ]
  },
  {
   "cell_type": "markdown",
   "id": "aefd31c3",
   "metadata": {},
   "source": [
    "### 7- Assign the list of column names of the countries"
   ]
  },
  {
   "cell_type": "code",
   "execution_count": 12,
   "id": "d1a515f8",
   "metadata": {},
   "outputs": [
    {
     "data": {
      "text/plain": [
       "True"
      ]
     },
     "execution_count": 12,
     "metadata": {},
     "output_type": "execute_result"
    }
   ],
   "source": [
    "column_names_index = countries.columns\n",
    "column_names_list = list(column_names_index)\n",
    "\n",
    "type(column_names_list) == list"
   ]
  },
  {
   "cell_type": "markdown",
   "id": "a5d205f4",
   "metadata": {},
   "source": [
    "### 8- Display information on the columns"
   ]
  },
  {
   "cell_type": "code",
   "execution_count": 13,
   "id": "64eefe4d",
   "metadata": {},
   "outputs": [
    {
     "name": "stdout",
     "output_type": "stream",
     "text": [
      "<class 'pandas.core.frame.DataFrame'>\n",
      "RangeIndex: 227 entries, 0 to 226\n",
      "Data columns (total 20 columns):\n",
      " #   Column                              Non-Null Count  Dtype  \n",
      "---  ------                              --------------  -----  \n",
      " 0   Country                             227 non-null    object \n",
      " 1   Region                              227 non-null    object \n",
      " 2   Population                          227 non-null    int64  \n",
      " 3   Area (sq. mi.)                      227 non-null    int64  \n",
      " 4   Pop. Density (per sq. mi.)          227 non-null    object \n",
      " 5   Coastline (coast/area ratio)        227 non-null    object \n",
      " 6   Net migration                       224 non-null    object \n",
      " 7   Infant mortality (per 1000 births)  224 non-null    object \n",
      " 8   GDP ($ per capita)                  226 non-null    float64\n",
      " 9   Literacy (%)                        209 non-null    object \n",
      " 10  Phones (per 1000)                   223 non-null    object \n",
      " 11  Arable (%)                          225 non-null    object \n",
      " 12  Crops (%)                           225 non-null    object \n",
      " 13  Other (%)                           225 non-null    object \n",
      " 14  Climate                             205 non-null    object \n",
      " 15  Birthrate                           224 non-null    object \n",
      " 16  Deathrate                           223 non-null    object \n",
      " 17  Agriculture                         212 non-null    object \n",
      " 18  Industry                            211 non-null    object \n",
      " 19  Service                             212 non-null    object \n",
      "dtypes: float64(1), int64(2), object(17)\n",
      "memory usage: 35.6+ KB\n"
     ]
    }
   ],
   "source": [
    "countries.info()"
   ]
  },
  {
   "cell_type": "markdown",
   "id": "1ca5e293",
   "metadata": {},
   "source": [
    "### 9- Write the column names and the values are the column datatypes"
   ]
  },
  {
   "cell_type": "code",
   "execution_count": 15,
   "id": "e999632c",
   "metadata": {},
   "outputs": [
    {
     "data": {
      "text/plain": [
       "{'Country': dtype('O'),\n",
       " 'Region': dtype('O'),\n",
       " 'Population': dtype('int64'),\n",
       " 'Area (sq. mi.)': dtype('int64'),\n",
       " 'Pop. Density (per sq. mi.)': dtype('O'),\n",
       " 'Coastline (coast/area ratio)': dtype('O'),\n",
       " 'Net migration': dtype('O'),\n",
       " 'Infant mortality (per 1000 births)': dtype('O'),\n",
       " 'GDP ($ per capita)': dtype('float64'),\n",
       " 'Literacy (%)': dtype('O'),\n",
       " 'Phones (per 1000)': dtype('O'),\n",
       " 'Arable (%)': dtype('O'),\n",
       " 'Crops (%)': dtype('O'),\n",
       " 'Other (%)': dtype('O'),\n",
       " 'Climate': dtype('O'),\n",
       " 'Birthrate': dtype('O'),\n",
       " 'Deathrate': dtype('O'),\n",
       " 'Agriculture': dtype('O'),\n",
       " 'Industry': dtype('O'),\n",
       " 'Service': dtype('O')}"
      ]
     },
     "execution_count": 15,
     "metadata": {},
     "output_type": "execute_result"
    }
   ],
   "source": [
    "columns = countries.columns\n",
    "\n",
    "col_types = {}\n",
    "for col_name in columns:\n",
    "    col_types[col_name] = countries[col_name].dtype\n",
    "\n",
    "col_types"
   ]
  },
  {
   "cell_type": "markdown",
   "id": "294c10d9",
   "metadata": {},
   "source": [
    "### 10- Change the columns names"
   ]
  },
  {
   "cell_type": "code",
   "execution_count": 17,
   "id": "979bfbf3",
   "metadata": {},
   "outputs": [
    {
     "data": {
      "text/plain": [
       "Index(['Country', 'Region', 'Population', 'Area', 'Pop Density', 'Coastline',\n",
       "       'Migration', 'Infant Mortality', 'GDP Capita', 'Literacy', 'Phones',\n",
       "       'Arable', 'Crops', 'Other', 'Climate', 'Birthrate', 'Deathrate',\n",
       "       'Agriculture', 'Industry', 'Service'],\n",
       "      dtype='object')"
      ]
     },
     "execution_count": 17,
     "metadata": {},
     "output_type": "execute_result"
    }
   ],
   "source": [
    "name_dict = {\n",
    "    'Original Name': 'New Name',\n",
    "    'Area (sq. mi.)': 'Area',\n",
    "    'Pop. Density (per sq. mi.)': 'Pop Density',\n",
    "    'Coastline (coast/area ratio)': 'Coastline',\n",
    "    'Net migration': 'Migration',\n",
    "    'Infant mortality (per 1000 births)': 'Infant Mortality',\n",
    "    'GDP ($ per capita)': 'GDP Capita',\n",
    "    'Literacy (%)': 'Literacy',\n",
    "    'Phones (per 1000)': 'Phones',\n",
    "    'Arable (%)': 'Arable',\n",
    "    'Crops (%)': 'Crops',\n",
    "    'Other (%)': 'Other'    \n",
    "}\n",
    "\n",
    "countries.rename(columns=name_dict,inplace=True)\n",
    "countries.columns"
   ]
  },
  {
   "cell_type": "markdown",
   "id": "c39ebd78",
   "metadata": {},
   "source": [
    "### 11- Change the datatype of each column to a floating-point datatype"
   ]
  },
  {
   "cell_type": "code",
   "execution_count": 18,
   "id": "890d755a",
   "metadata": {},
   "outputs": [],
   "source": [
    "cols_to_change = [\n",
    "    'Pop Density',\n",
    "    'Coastline',\n",
    "    'Migration',\n",
    "    'Infant Mortality',\n",
    "    'Literacy',\n",
    "    'Phones',\n",
    "    'Arable',\n",
    "    'Crops',\n",
    "    'Other',\n",
    "    'Climate',\n",
    "    'Birthrate',\n",
    "    'Deathrate',\n",
    "    'Agriculture',\n",
    "    'Industry',\n",
    "    'Service'\n",
    "]\n",
    "\n",
    "for col in cols_to_change:\n",
    "    countries[col] = countries[col].str.replace(',','.').astype(float)"
   ]
  },
  {
   "cell_type": "markdown",
   "id": "bbc4d6d3",
   "metadata": {},
   "source": [
    "### 12- The country with the maximum population"
   ]
  },
  {
   "cell_type": "code",
   "execution_count": 19,
   "id": "8b238427",
   "metadata": {},
   "outputs": [
    {
     "data": {
      "text/html": [
       "<div>\n",
       "<style scoped>\n",
       "    .dataframe tbody tr th:only-of-type {\n",
       "        vertical-align: middle;\n",
       "    }\n",
       "\n",
       "    .dataframe tbody tr th {\n",
       "        vertical-align: top;\n",
       "    }\n",
       "\n",
       "    .dataframe thead th {\n",
       "        text-align: right;\n",
       "    }\n",
       "</style>\n",
       "<table border=\"1\" class=\"dataframe\">\n",
       "  <thead>\n",
       "    <tr style=\"text-align: right;\">\n",
       "      <th></th>\n",
       "      <th>Country</th>\n",
       "      <th>Region</th>\n",
       "      <th>Population</th>\n",
       "      <th>Area</th>\n",
       "      <th>Pop Density</th>\n",
       "      <th>Coastline</th>\n",
       "      <th>Migration</th>\n",
       "      <th>Infant Mortality</th>\n",
       "      <th>GDP Capita</th>\n",
       "      <th>Literacy</th>\n",
       "      <th>Phones</th>\n",
       "      <th>Arable</th>\n",
       "      <th>Crops</th>\n",
       "      <th>Other</th>\n",
       "      <th>Climate</th>\n",
       "      <th>Birthrate</th>\n",
       "      <th>Deathrate</th>\n",
       "      <th>Agriculture</th>\n",
       "      <th>Industry</th>\n",
       "      <th>Service</th>\n",
       "    </tr>\n",
       "  </thead>\n",
       "  <tbody>\n",
       "    <tr>\n",
       "      <th>42</th>\n",
       "      <td>China</td>\n",
       "      <td>ASIA (EX. NEAR EAST)</td>\n",
       "      <td>1313973713</td>\n",
       "      <td>9596960</td>\n",
       "      <td>136.9</td>\n",
       "      <td>0.15</td>\n",
       "      <td>-0.4</td>\n",
       "      <td>24.18</td>\n",
       "      <td>5000.0</td>\n",
       "      <td>90.9</td>\n",
       "      <td>266.7</td>\n",
       "      <td>15.4</td>\n",
       "      <td>1.25</td>\n",
       "      <td>83.35</td>\n",
       "      <td>1.5</td>\n",
       "      <td>13.25</td>\n",
       "      <td>6.97</td>\n",
       "      <td>0.125</td>\n",
       "      <td>0.473</td>\n",
       "      <td>0.403</td>\n",
       "    </tr>\n",
       "  </tbody>\n",
       "</table>\n",
       "</div>"
      ],
      "text/plain": [
       "   Country                         Region  Population     Area  Pop Density  \\\n",
       "42  China   ASIA (EX. NEAR EAST)           1313973713  9596960        136.9   \n",
       "\n",
       "    Coastline  Migration  Infant Mortality  GDP Capita  Literacy  Phones  \\\n",
       "42       0.15       -0.4             24.18      5000.0      90.9   266.7   \n",
       "\n",
       "    Arable  Crops  Other  Climate  Birthrate  Deathrate  Agriculture  \\\n",
       "42    15.4   1.25  83.35      1.5      13.25       6.97        0.125   \n",
       "\n",
       "    Industry  Service  \n",
       "42     0.473    0.403  "
      ]
     },
     "execution_count": 19,
     "metadata": {},
     "output_type": "execute_result"
    }
   ],
   "source": [
    "max_pop_row = countries[countries['Population'] == countries['Population'].max()]\n",
    "max_pop_row"
   ]
  },
  {
   "cell_type": "markdown",
   "id": "88e56872",
   "metadata": {},
   "source": [
    "### 13- The country with the minimum population"
   ]
  },
  {
   "cell_type": "code",
   "execution_count": 20,
   "id": "227f4741",
   "metadata": {},
   "outputs": [
    {
     "data": {
      "text/html": [
       "<div>\n",
       "<style scoped>\n",
       "    .dataframe tbody tr th:only-of-type {\n",
       "        vertical-align: middle;\n",
       "    }\n",
       "\n",
       "    .dataframe tbody tr th {\n",
       "        vertical-align: top;\n",
       "    }\n",
       "\n",
       "    .dataframe thead th {\n",
       "        text-align: right;\n",
       "    }\n",
       "</style>\n",
       "<table border=\"1\" class=\"dataframe\">\n",
       "  <thead>\n",
       "    <tr style=\"text-align: right;\">\n",
       "      <th></th>\n",
       "      <th>Country</th>\n",
       "      <th>Region</th>\n",
       "      <th>Population</th>\n",
       "      <th>Area</th>\n",
       "      <th>Pop Density</th>\n",
       "      <th>Coastline</th>\n",
       "      <th>Migration</th>\n",
       "      <th>Infant Mortality</th>\n",
       "      <th>GDP Capita</th>\n",
       "      <th>Literacy</th>\n",
       "      <th>Phones</th>\n",
       "      <th>Arable</th>\n",
       "      <th>Crops</th>\n",
       "      <th>Other</th>\n",
       "      <th>Climate</th>\n",
       "      <th>Birthrate</th>\n",
       "      <th>Deathrate</th>\n",
       "      <th>Agriculture</th>\n",
       "      <th>Industry</th>\n",
       "      <th>Service</th>\n",
       "    </tr>\n",
       "  </thead>\n",
       "  <tbody>\n",
       "    <tr>\n",
       "      <th>174</th>\n",
       "      <td>St Pierre &amp; Miquelon</td>\n",
       "      <td>NORTHERN AMERICA</td>\n",
       "      <td>7026</td>\n",
       "      <td>242</td>\n",
       "      <td>29.0</td>\n",
       "      <td>49.59</td>\n",
       "      <td>-4.86</td>\n",
       "      <td>7.54</td>\n",
       "      <td>6900.0</td>\n",
       "      <td>99.0</td>\n",
       "      <td>683.2</td>\n",
       "      <td>13.04</td>\n",
       "      <td>0.0</td>\n",
       "      <td>86.96</td>\n",
       "      <td>NaN</td>\n",
       "      <td>13.52</td>\n",
       "      <td>6.83</td>\n",
       "      <td>NaN</td>\n",
       "      <td>NaN</td>\n",
       "      <td>NaN</td>\n",
       "    </tr>\n",
       "  </tbody>\n",
       "</table>\n",
       "</div>"
      ],
      "text/plain": [
       "                   Country                               Region  Population  \\\n",
       "174  St Pierre & Miquelon   NORTHERN AMERICA                           7026   \n",
       "\n",
       "     Area  Pop Density  Coastline  Migration  Infant Mortality  GDP Capita  \\\n",
       "174   242         29.0      49.59      -4.86              7.54      6900.0   \n",
       "\n",
       "     Literacy  Phones  Arable  Crops  Other  Climate  Birthrate  Deathrate  \\\n",
       "174      99.0   683.2   13.04    0.0  86.96      NaN      13.52       6.83   \n",
       "\n",
       "     Agriculture  Industry  Service  \n",
       "174          NaN       NaN      NaN  "
      ]
     },
     "execution_count": 20,
     "metadata": {},
     "output_type": "execute_result"
    }
   ],
   "source": [
    "min_pop_row = countries[countries['Population'] == countries['Population'].min()]\n",
    "min_pop_row"
   ]
  },
  {
   "cell_type": "markdown",
   "id": "a276e11f",
   "metadata": {},
   "source": [
    "### 14- The two countries with the largest populations"
   ]
  },
  {
   "cell_type": "code",
   "execution_count": 27,
   "id": "92131578",
   "metadata": {},
   "outputs": [
    {
     "data": {
      "text/html": [
       "<div>\n",
       "<style scoped>\n",
       "    .dataframe tbody tr th:only-of-type {\n",
       "        vertical-align: middle;\n",
       "    }\n",
       "\n",
       "    .dataframe tbody tr th {\n",
       "        vertical-align: top;\n",
       "    }\n",
       "\n",
       "    .dataframe thead th {\n",
       "        text-align: right;\n",
       "    }\n",
       "</style>\n",
       "<table border=\"1\" class=\"dataframe\">\n",
       "  <thead>\n",
       "    <tr style=\"text-align: right;\">\n",
       "      <th></th>\n",
       "      <th>Country</th>\n",
       "      <th>Region</th>\n",
       "      <th>Population</th>\n",
       "      <th>Area</th>\n",
       "      <th>Pop Density</th>\n",
       "      <th>Coastline</th>\n",
       "      <th>Migration</th>\n",
       "      <th>Infant Mortality</th>\n",
       "      <th>GDP Capita</th>\n",
       "      <th>Literacy</th>\n",
       "      <th>Phones</th>\n",
       "      <th>Arable</th>\n",
       "      <th>Crops</th>\n",
       "      <th>Other</th>\n",
       "      <th>Climate</th>\n",
       "      <th>Birthrate</th>\n",
       "      <th>Deathrate</th>\n",
       "      <th>Agriculture</th>\n",
       "      <th>Industry</th>\n",
       "      <th>Service</th>\n",
       "    </tr>\n",
       "  </thead>\n",
       "  <tbody>\n",
       "    <tr>\n",
       "      <th>42</th>\n",
       "      <td>China</td>\n",
       "      <td>ASIA (EX. NEAR EAST)</td>\n",
       "      <td>1313973713</td>\n",
       "      <td>9596960</td>\n",
       "      <td>136.9</td>\n",
       "      <td>0.15</td>\n",
       "      <td>-0.40</td>\n",
       "      <td>24.18</td>\n",
       "      <td>5000.0</td>\n",
       "      <td>90.9</td>\n",
       "      <td>266.7</td>\n",
       "      <td>15.4</td>\n",
       "      <td>1.25</td>\n",
       "      <td>83.35</td>\n",
       "      <td>1.5</td>\n",
       "      <td>13.25</td>\n",
       "      <td>6.97</td>\n",
       "      <td>0.125</td>\n",
       "      <td>0.473</td>\n",
       "      <td>0.403</td>\n",
       "    </tr>\n",
       "    <tr>\n",
       "      <th>94</th>\n",
       "      <td>India</td>\n",
       "      <td>ASIA (EX. NEAR EAST)</td>\n",
       "      <td>1095351995</td>\n",
       "      <td>3287590</td>\n",
       "      <td>333.2</td>\n",
       "      <td>0.21</td>\n",
       "      <td>-0.07</td>\n",
       "      <td>56.29</td>\n",
       "      <td>2900.0</td>\n",
       "      <td>59.5</td>\n",
       "      <td>45.4</td>\n",
       "      <td>54.4</td>\n",
       "      <td>2.74</td>\n",
       "      <td>42.86</td>\n",
       "      <td>2.5</td>\n",
       "      <td>22.01</td>\n",
       "      <td>8.18</td>\n",
       "      <td>0.186</td>\n",
       "      <td>0.276</td>\n",
       "      <td>0.538</td>\n",
       "    </tr>\n",
       "  </tbody>\n",
       "</table>\n",
       "</div>"
      ],
      "text/plain": [
       "   Country                         Region  Population     Area  Pop Density  \\\n",
       "42  China   ASIA (EX. NEAR EAST)           1313973713  9596960        136.9   \n",
       "94  India   ASIA (EX. NEAR EAST)           1095351995  3287590        333.2   \n",
       "\n",
       "    Coastline  Migration  Infant Mortality  GDP Capita  Literacy  Phones  \\\n",
       "42       0.15      -0.40             24.18      5000.0      90.9   266.7   \n",
       "94       0.21      -0.07             56.29      2900.0      59.5    45.4   \n",
       "\n",
       "    Arable  Crops  Other  Climate  Birthrate  Deathrate  Agriculture  \\\n",
       "42    15.4   1.25  83.35      1.5      13.25       6.97        0.125   \n",
       "94    54.4   2.74  42.86      2.5      22.01       8.18        0.186   \n",
       "\n",
       "    Industry  Service  \n",
       "42     0.473    0.403  \n",
       "94     0.276    0.538  "
      ]
     },
     "execution_count": 27,
     "metadata": {},
     "output_type": "execute_result"
    }
   ],
   "source": [
    "two_largest = countries.nlargest(2,'Population')\n",
    "ratio = two_largest.iloc[0, 2] / two_largest.iloc[1, 2]\n",
    "two_largest"
   ]
  },
  {
   "cell_type": "code",
   "execution_count": 28,
   "id": "f80e4c2b",
   "metadata": {},
   "outputs": [
    {
     "data": {
      "text/plain": [
       "1.1995903773380172"
      ]
     },
     "execution_count": 28,
     "metadata": {},
     "output_type": "execute_result"
    }
   ],
   "source": [
    "ratio"
   ]
  },
  {
   "cell_type": "markdown",
   "id": "52641076",
   "metadata": {},
   "source": [
    "### 15- Select all rows that have a coastline with zero area"
   ]
  },
  {
   "cell_type": "code",
   "execution_count": 30,
   "id": "841fa5ec",
   "metadata": {},
   "outputs": [
    {
     "data": {
      "text/plain": [
       "44"
      ]
     },
     "execution_count": 30,
     "metadata": {},
     "output_type": "execute_result"
    }
   ],
   "source": [
    "countries_without_coast = countries[countries['Coastline'] == 0]\n",
    "num_countries_without_coast = countries_without_coast.shape[0]\n",
    "num_countries_without_coast"
   ]
  },
  {
   "cell_type": "markdown",
   "id": "a4a7e970",
   "metadata": {},
   "source": [
    "### 16- All unique values in the Region column"
   ]
  },
  {
   "cell_type": "code",
   "execution_count": 32,
   "id": "d808d40e",
   "metadata": {},
   "outputs": [
    {
     "data": {
      "text/plain": [
       "['ASIA (EX. NEAR EAST)         ',\n",
       " 'EASTERN EUROPE                     ',\n",
       " 'NORTHERN AFRICA                    ',\n",
       " 'OCEANIA                            ',\n",
       " 'WESTERN EUROPE                     ',\n",
       " 'SUB-SAHARAN AFRICA                 ',\n",
       " 'LATIN AMER. & CARIB    ',\n",
       " 'C.W. OF IND. STATES ',\n",
       " 'NEAR EAST                          ',\n",
       " 'NORTHERN AMERICA                   ',\n",
       " 'BALTICS                            ']"
      ]
     },
     "execution_count": 32,
     "metadata": {},
     "output_type": "execute_result"
    }
   ],
   "source": [
    "regions = list(countries['Region'].unique())\n",
    "regions"
   ]
  },
  {
   "cell_type": "markdown",
   "id": "0a790843",
   "metadata": {},
   "source": [
    "### 17- Write a Series object that counts how many countries are in each region"
   ]
  },
  {
   "cell_type": "code",
   "execution_count": 33,
   "id": "71d4e56f",
   "metadata": {},
   "outputs": [
    {
     "data": {
      "text/plain": [
       "SUB-SAHARAN AFRICA                     51\n",
       "LATIN AMER. & CARIB                    45\n",
       "WESTERN EUROPE                         28\n",
       "ASIA (EX. NEAR EAST)                   28\n",
       "OCEANIA                                21\n",
       "NEAR EAST                              16\n",
       "EASTERN EUROPE                         12\n",
       "C.W. OF IND. STATES                    12\n",
       "NORTHERN AFRICA                         6\n",
       "NORTHERN AMERICA                        5\n",
       "BALTICS                                 3\n",
       "Name: Region, dtype: int64"
      ]
     },
     "execution_count": 33,
     "metadata": {},
     "output_type": "execute_result"
    }
   ],
   "source": [
    "num_countries_per_region = countries['Region'].value_counts()\n",
    "num_countries_per_region"
   ]
  },
  {
   "cell_type": "markdown",
   "id": "6f7127b9",
   "metadata": {},
   "source": [
    "### 18-  Calculate the average number of phones per person over all countries"
   ]
  },
  {
   "cell_type": "code",
   "execution_count": 34,
   "id": "5e5dbbdf",
   "metadata": {},
   "outputs": [
    {
     "data": {
      "text/plain": [
       "0.23606143497757856"
      ]
     },
     "execution_count": 34,
     "metadata": {},
     "output_type": "execute_result"
    }
   ],
   "source": [
    "average_phones_1000 = countries['Phones'].mean()\n",
    "phones_per_person = average_phones_1000 / 1000\n",
    "phones_per_person"
   ]
  },
  {
   "cell_type": "markdown",
   "id": "4f0238ba",
   "metadata": {},
   "source": [
    "### 19- Adding the populations of all countries"
   ]
  },
  {
   "cell_type": "code",
   "execution_count": 35,
   "id": "35c79b2a",
   "metadata": {},
   "outputs": [
    {
     "data": {
      "text/plain": [
       "6524044551"
      ]
     },
     "execution_count": 35,
     "metadata": {},
     "output_type": "execute_result"
    }
   ],
   "source": [
    "world_population = countries['Population'].sum()\n",
    "world_population"
   ]
  },
  {
   "cell_type": "markdown",
   "id": "8eff32ff",
   "metadata": {},
   "source": [
    "### 20- Calculate the population percentage of each country"
   ]
  },
  {
   "cell_type": "code",
   "execution_count": 37,
   "id": "ffe54baa",
   "metadata": {},
   "outputs": [
    {
     "data": {
      "text/plain": [
       "0      0.476039\n",
       "1      0.054899\n",
       "2      0.504750\n",
       "3      0.000886\n",
       "4      0.001091\n",
       "         ...   \n",
       "222    0.037714\n",
       "223    0.004185\n",
       "224    0.328879\n",
       "225    0.176302\n",
       "226    0.187565\n",
       "Name: Pop Percent, Length: 227, dtype: float64"
      ]
     },
     "execution_count": 37,
     "metadata": {},
     "output_type": "execute_result"
    }
   ],
   "source": [
    "countries['Pop Percent'] = countries['Population']*100 / countries['Population'].sum()\n",
    "countries['Pop Percent']"
   ]
  },
  {
   "cell_type": "markdown",
   "id": "72dfca81",
   "metadata": {},
   "source": [
    "### 21- Select the Country and Pop Percent columns of the ten countries with the largest populations"
   ]
  },
  {
   "cell_type": "code",
   "execution_count": 38,
   "id": "25b81133",
   "metadata": {},
   "outputs": [
    {
     "data": {
      "text/html": [
       "<div>\n",
       "<style scoped>\n",
       "    .dataframe tbody tr th:only-of-type {\n",
       "        vertical-align: middle;\n",
       "    }\n",
       "\n",
       "    .dataframe tbody tr th {\n",
       "        vertical-align: top;\n",
       "    }\n",
       "\n",
       "    .dataframe thead th {\n",
       "        text-align: right;\n",
       "    }\n",
       "</style>\n",
       "<table border=\"1\" class=\"dataframe\">\n",
       "  <thead>\n",
       "    <tr style=\"text-align: right;\">\n",
       "      <th></th>\n",
       "      <th>Country</th>\n",
       "      <th>Pop Percent</th>\n",
       "    </tr>\n",
       "  </thead>\n",
       "  <tbody>\n",
       "    <tr>\n",
       "      <th>42</th>\n",
       "      <td>China</td>\n",
       "      <td>20.140477</td>\n",
       "    </tr>\n",
       "    <tr>\n",
       "      <th>94</th>\n",
       "      <td>India</td>\n",
       "      <td>16.789462</td>\n",
       "    </tr>\n",
       "    <tr>\n",
       "      <th>214</th>\n",
       "      <td>United States</td>\n",
       "      <td>4.574528</td>\n",
       "    </tr>\n",
       "    <tr>\n",
       "      <th>95</th>\n",
       "      <td>Indonesia</td>\n",
       "      <td>3.762279</td>\n",
       "    </tr>\n",
       "    <tr>\n",
       "      <th>27</th>\n",
       "      <td>Brazil</td>\n",
       "      <td>2.882847</td>\n",
       "    </tr>\n",
       "    <tr>\n",
       "      <th>156</th>\n",
       "      <td>Pakistan</td>\n",
       "      <td>2.541423</td>\n",
       "    </tr>\n",
       "    <tr>\n",
       "      <th>16</th>\n",
       "      <td>Bangladesh</td>\n",
       "      <td>2.258804</td>\n",
       "    </tr>\n",
       "    <tr>\n",
       "      <th>169</th>\n",
       "      <td>Russia</td>\n",
       "      <td>2.190260</td>\n",
       "    </tr>\n",
       "    <tr>\n",
       "      <th>152</th>\n",
       "      <td>Nigeria</td>\n",
       "      <td>2.021135</td>\n",
       "    </tr>\n",
       "    <tr>\n",
       "      <th>103</th>\n",
       "      <td>Japan</td>\n",
       "      <td>1.953751</td>\n",
       "    </tr>\n",
       "  </tbody>\n",
       "</table>\n",
       "</div>"
      ],
      "text/plain": [
       "            Country  Pop Percent\n",
       "42           China     20.140477\n",
       "94           India     16.789462\n",
       "214  United States      4.574528\n",
       "95       Indonesia      3.762279\n",
       "27          Brazil      2.882847\n",
       "156       Pakistan      2.541423\n",
       "16      Bangladesh      2.258804\n",
       "169         Russia      2.190260\n",
       "152        Nigeria      2.021135\n",
       "103          Japan      1.953751"
      ]
     },
     "execution_count": 38,
     "metadata": {},
     "output_type": "execute_result"
    }
   ],
   "source": [
    "top_10_populations = countries.nlargest(10,'Pop Percent')[['Country','Pop Percent']]\n",
    "top_10_populations"
   ]
  },
  {
   "cell_type": "markdown",
   "id": "1ca26305",
   "metadata": {},
   "source": [
    "### 22- Calculate the average GDP per person of all countries in each region"
   ]
  },
  {
   "cell_type": "code",
   "execution_count": 39,
   "id": "873f6e00",
   "metadata": {},
   "outputs": [
    {
     "data": {
      "text/plain": [
       "Region\n",
       "ASIA (EX. NEAR EAST)                    8053.571429\n",
       "BALTICS                                11300.000000\n",
       "C.W. OF IND. STATES                     4000.000000\n",
       "EASTERN EUROPE                          9808.333333\n",
       "LATIN AMER. & CARIB                     8682.222222\n",
       "NEAR EAST                              10456.250000\n",
       "NORTHERN AFRICA                         5460.000000\n",
       "NORTHERN AMERICA                       26100.000000\n",
       "OCEANIA                                 8247.619048\n",
       "SUB-SAHARAN AFRICA                      2323.529412\n",
       "WESTERN EUROPE                         27046.428571\n",
       "Name: GDP Capita, dtype: float64"
      ]
     },
     "execution_count": 39,
     "metadata": {},
     "output_type": "execute_result"
    }
   ],
   "source": [
    "average_GDP = countries.groupby(['Region']).mean()['GDP Capita']\n",
    "average_GDP"
   ]
  }
 ],
 "metadata": {
  "kernelspec": {
   "display_name": "Python 3",
   "language": "python",
   "name": "python3"
  },
  "language_info": {
   "codemirror_mode": {
    "name": "ipython",
    "version": 3
   },
   "file_extension": ".py",
   "mimetype": "text/x-python",
   "name": "python",
   "nbconvert_exporter": "python",
   "pygments_lexer": "ipython3",
   "version": "3.8.8"
  }
 },
 "nbformat": 4,
 "nbformat_minor": 5
}
